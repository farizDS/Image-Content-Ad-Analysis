{
 "cells": [
  {
   "cell_type": "markdown",
   "metadata": {
    "colab_type": "text",
    "id": "L6v9InSln7fJ"
   },
   "source": [
    "\n",
    "![alt text](https://www.business.unsw.edu.au/style%20library/asb/assets/images/logo-unsw.png)\n",
    "__________________________________________________________________________________________________________________________________________________________________________________________________________________________________________________________________________________________________________________"
   ]
  },
  {
   "cell_type": "code",
   "execution_count": 10,
   "metadata": {
    "colab": {},
    "colab_type": "code",
    "id": "o0tRpQSrkEWA"
   },
   "outputs": [],
   "source": [
    "import pandas as pd\n",
    "import statsmodels.api as sm\n",
    "from statsmodels.stats.outliers_influence import variance_inflation_factor\n",
    "#from google.colab import files\n",
    "from datetime import date\n",
    "import matplotlib.pyplot as plt\n",
    "import seaborn as sns; sns.set()\n",
    "from datetime import timedelta\n",
    "%matplotlib inline "
   ]
  },
  {
   "cell_type": "code",
   "execution_count": 11,
   "metadata": {},
   "outputs": [],
   "source": [
    "from p_values import Variance_Inflation_Factor\n",
    "def variance_inflation_factor(x):\n",
    "    columns = x.columns\n",
    "    VIF = Variance_Inflation_Factor(x)\n",
    "    df_vif = pd.DataFrame({\"vif\": VIF})\n",
    "    df_vif = df_vif.set_index(columns)\n",
    "    return df_vif"
   ]
  },
  {
   "cell_type": "code",
   "execution_count": 12,
   "metadata": {
    "colab": {},
    "colab_type": "code",
    "id": "HjY2qDIVbh2x"
   },
   "outputs": [],
   "source": [
    "import calendar\n",
    "import re\n",
    "import pandas as pd, numpy as np\n"
   ]
  },
  {
   "cell_type": "code",
   "execution_count": 13,
   "metadata": {},
   "outputs": [],
   "source": [
    "product_mention = pd.read_excel(\"data_product_mention20200918.xlsx\").groupby([\"product_type\",\"yymmdd\"]).sum()"
   ]
  },
  {
   "cell_type": "code",
   "execution_count": 14,
   "metadata": {},
   "outputs": [
    {
     "data": {
      "text/html": [
       "<div>\n",
       "<style scoped>\n",
       "    .dataframe tbody tr th:only-of-type {\n",
       "        vertical-align: middle;\n",
       "    }\n",
       "\n",
       "    .dataframe tbody tr th {\n",
       "        vertical-align: top;\n",
       "    }\n",
       "\n",
       "    .dataframe thead th {\n",
       "        text-align: right;\n",
       "    }\n",
       "</style>\n",
       "<table border=\"1\" class=\"dataframe\">\n",
       "  <thead>\n",
       "    <tr style=\"text-align: right;\">\n",
       "      <th></th>\n",
       "      <th></th>\n",
       "      <th>product_mention</th>\n",
       "    </tr>\n",
       "    <tr>\n",
       "      <th>product_type</th>\n",
       "      <th>yymmdd</th>\n",
       "      <th></th>\n",
       "    </tr>\n",
       "  </thead>\n",
       "  <tbody>\n",
       "    <tr>\n",
       "      <th rowspan=\"5\" valign=\"top\">309</th>\n",
       "      <th>2016-03-02</th>\n",
       "      <td>2</td>\n",
       "    </tr>\n",
       "    <tr>\n",
       "      <th>2016-03-08</th>\n",
       "      <td>2</td>\n",
       "    </tr>\n",
       "    <tr>\n",
       "      <th>2016-06-20</th>\n",
       "      <td>2</td>\n",
       "    </tr>\n",
       "    <tr>\n",
       "      <th>2016-07-13</th>\n",
       "      <td>2</td>\n",
       "    </tr>\n",
       "    <tr>\n",
       "      <th>2016-08-29</th>\n",
       "      <td>2</td>\n",
       "    </tr>\n",
       "  </tbody>\n",
       "</table>\n",
       "</div>"
      ],
      "text/plain": [
       "                         product_mention\n",
       "product_type yymmdd                     \n",
       "309          2016-03-02                2\n",
       "             2016-03-08                2\n",
       "             2016-06-20                2\n",
       "             2016-07-13                2\n",
       "             2016-08-29                2"
      ]
     },
     "execution_count": 14,
     "metadata": {},
     "output_type": "execute_result"
    }
   ],
   "source": [
    "product_mention.head()"
   ]
  },
  {
   "cell_type": "code",
   "execution_count": 15,
   "metadata": {},
   "outputs": [
    {
     "name": "stdout",
     "output_type": "stream",
     "text": [
      "<class 'pandas.core.frame.DataFrame'>\n",
      "MultiIndex: 278 entries, (309, Timestamp('2016-03-02 00:00:00')) to (222789, Timestamp('2017-08-01 00:00:00'))\n",
      "Data columns (total 1 columns):\n",
      " #   Column           Non-Null Count  Dtype\n",
      "---  ------           --------------  -----\n",
      " 0   product_mention  278 non-null    int64\n",
      "dtypes: int64(1)\n",
      "memory usage: 4.6 KB\n"
     ]
    }
   ],
   "source": [
    "product_mention.info()"
   ]
  },
  {
   "cell_type": "code",
   "execution_count": 16,
   "metadata": {},
   "outputs": [],
   "source": [
    "data_color =  pd.read_excel(\"20200925_ivariables.xlsx\").set_index(\"short_code\").fillna(0)"
   ]
  },
  {
   "cell_type": "code",
   "execution_count": 17,
   "metadata": {},
   "outputs": [],
   "source": [
    "#data_color = pd.read_excel(\"20200915-SMData-dummydayshourweek.xlsx\").set_index(\"short_code\").fillna(0)\n",
    "#likes = pd.read_excel(\"ads_each_week_all_products_only_v2.xlsx\").set_index(\"short_code\")[\"likes\"]"
   ]
  },
  {
   "cell_type": "code",
   "execution_count": 18,
   "metadata": {},
   "outputs": [],
   "source": [
    "prob11=pd.read_excel(\"prob_oyoff20201023.xlsx\").set_index(\"short_code\")"
   ]
  },
  {
   "cell_type": "code",
   "execution_count": 19,
   "metadata": {},
   "outputs": [],
   "source": [
    "prob = prob11.loc[prob11[\"product_type\"]!=98] "
   ]
  },
  {
   "cell_type": "code",
   "execution_count": 20,
   "metadata": {},
   "outputs": [
    {
     "name": "stdout",
     "output_type": "stream",
     "text": [
      "<class 'pandas.core.frame.DataFrame'>\n",
      "Index: 296 entries, BC5YtFIziBd.jpg to BcHcHx0HvEN.jpg\n",
      "Data columns (total 10 columns):\n",
      " #   Column                  Non-Null Count  Dtype\n",
      "---  ------                  --------------  -----\n",
      " 0   product_98.png          296 non-null    int64\n",
      " 1   product_3690.png        296 non-null    int64\n",
      " 2   product_2158.png        296 non-null    int64\n",
      " 3   product_2449.png        296 non-null    int64\n",
      " 4   product_2451_pouch.png  296 non-null    int64\n",
      " 5   product_309.png         296 non-null    int64\n",
      " 6   product_5152.png        296 non-null    int64\n",
      " 7   product_222789.pgn      296 non-null    int64\n",
      " 8   max_prob                296 non-null    int64\n",
      " 9   product_type            296 non-null    int64\n",
      "dtypes: int64(10)\n",
      "memory usage: 25.4+ KB\n"
     ]
    }
   ],
   "source": [
    "prob.info()"
   ]
  },
  {
   "cell_type": "code",
   "execution_count": null,
   "metadata": {},
   "outputs": [],
   "source": []
  },
  {
   "cell_type": "code",
   "execution_count": 21,
   "metadata": {},
   "outputs": [],
   "source": [
    "data_color[\"Week\"]=data_color[\"Week\"]+4\n",
    "#unused_control = [x for x in data_color.columns if not(re.search(\"likes\",x))\n",
    "                  #and not(re.search('product_only',x)) \n",
    "                 # and not(re.search('product_model',x)) \n",
    "                  #and not(re.search('model_only',x))\n",
    "                 #and not(re.search('taken_at_timestamp',x))]"
   ]
  },
  {
   "cell_type": "code",
   "execution_count": 22,
   "metadata": {},
   "outputs": [],
   "source": [
    "#data_color = data_color.drop(columns=unused_control)"
   ]
  },
  {
   "cell_type": "code",
   "execution_count": 23,
   "metadata": {},
   "outputs": [
    {
     "data": {
      "text/plain": [
       "['log_likes']"
      ]
     },
     "execution_count": 23,
     "metadata": {},
     "output_type": "execute_result"
    }
   ],
   "source": [
    "log_col = [x for x in data_color.columns if re.search(\"log\",x)]\n",
    "log_col"
   ]
  },
  {
   "cell_type": "code",
   "execution_count": null,
   "metadata": {},
   "outputs": [],
   "source": []
  },
  {
   "cell_type": "code",
   "execution_count": 24,
   "metadata": {},
   "outputs": [],
   "source": [
    "control_var = []\n",
    "for col in log_col:\n",
    "    control_var.append(col[4:]) \n",
    "    data_color[col[4:]] = np.exp(data_color[col])"
   ]
  },
  {
   "cell_type": "code",
   "execution_count": 25,
   "metadata": {},
   "outputs": [],
   "source": [
    "#data_max = data_color.join(prob, how=\"inner\").loc[:,[\"taken_at_timestamp\",\"product_model\",\"product_only\",\"likes\",\"product_type\"]]\n",
    "dt_pm1 = data_color.join(prob, how=\"inner\").loc[:,[\"taken_at_timestamp\",\"product_model\",\"product_only\",\"likes\",\"product_type\",\"product_users\",\"len_text_total\"]]\n",
    "#dt_pm1 = dt_pm1.fillna(value={\"product_type\":0})\n",
    "#data_color2 = data_pm.copy()"
   ]
  },
  {
   "cell_type": "code",
   "execution_count": 26,
   "metadata": {},
   "outputs": [],
   "source": [
    "#dt_pm1[\"total_post\"] = dt_pm1[\"product_only\"]+dt_pm1[\"product_model\"]+dt_pm1[\"model_only\"]"
   ]
  },
  {
   "cell_type": "code",
   "execution_count": 27,
   "metadata": {},
   "outputs": [],
   "source": [
    "dt_pm1[\"yymmdd\"]= dt_pm1[\"taken_at_timestamp\"].apply(date.fromtimestamp)\n",
    "#dt_pm1b = dt_pm1.groupby([\"product_type\",\"yymmdd\"]).sum()"
   ]
  },
  {
   "cell_type": "code",
   "execution_count": 28,
   "metadata": {},
   "outputs": [],
   "source": [
    "data_pm = dt_pm1.drop(columns=[\"taken_at_timestamp\"])"
   ]
  },
  {
   "cell_type": "code",
   "execution_count": 29,
   "metadata": {},
   "outputs": [
    {
     "data": {
      "text/html": [
       "<div>\n",
       "<style scoped>\n",
       "    .dataframe tbody tr th:only-of-type {\n",
       "        vertical-align: middle;\n",
       "    }\n",
       "\n",
       "    .dataframe tbody tr th {\n",
       "        vertical-align: top;\n",
       "    }\n",
       "\n",
       "    .dataframe thead th {\n",
       "        text-align: right;\n",
       "    }\n",
       "</style>\n",
       "<table border=\"1\" class=\"dataframe\">\n",
       "  <thead>\n",
       "    <tr style=\"text-align: right;\">\n",
       "      <th></th>\n",
       "      <th>product_model</th>\n",
       "      <th>product_only</th>\n",
       "      <th>likes</th>\n",
       "      <th>product_type</th>\n",
       "      <th>product_users</th>\n",
       "      <th>len_text_total</th>\n",
       "      <th>yymmdd</th>\n",
       "    </tr>\n",
       "    <tr>\n",
       "      <th>short_code</th>\n",
       "      <th></th>\n",
       "      <th></th>\n",
       "      <th></th>\n",
       "      <th></th>\n",
       "      <th></th>\n",
       "      <th></th>\n",
       "      <th></th>\n",
       "    </tr>\n",
       "  </thead>\n",
       "  <tbody>\n",
       "    <tr>\n",
       "      <th>BC5YtFIziBd.jpg</th>\n",
       "      <td>0</td>\n",
       "      <td>1</td>\n",
       "      <td>21.0</td>\n",
       "      <td>2451</td>\n",
       "      <td>0</td>\n",
       "      <td>127.0</td>\n",
       "      <td>2016-03-14</td>\n",
       "    </tr>\n",
       "    <tr>\n",
       "      <th>BC5csd3mIC5.jpg</th>\n",
       "      <td>0</td>\n",
       "      <td>1</td>\n",
       "      <td>23.0</td>\n",
       "      <td>2451</td>\n",
       "      <td>0</td>\n",
       "      <td>203.0</td>\n",
       "      <td>2016-03-14</td>\n",
       "    </tr>\n",
       "    <tr>\n",
       "      <th>BDHuectAhnn.jpg</th>\n",
       "      <td>0</td>\n",
       "      <td>1</td>\n",
       "      <td>51.0</td>\n",
       "      <td>222789</td>\n",
       "      <td>0</td>\n",
       "      <td>73.0</td>\n",
       "      <td>2016-03-19</td>\n",
       "    </tr>\n",
       "    <tr>\n",
       "      <th>BDHvD5Rshu3.jpg</th>\n",
       "      <td>1</td>\n",
       "      <td>0</td>\n",
       "      <td>42.0</td>\n",
       "      <td>222789</td>\n",
       "      <td>0</td>\n",
       "      <td>42.0</td>\n",
       "      <td>2016-03-19</td>\n",
       "    </tr>\n",
       "    <tr>\n",
       "      <th>BDIt2fdiT4X.jpg</th>\n",
       "      <td>1</td>\n",
       "      <td>0</td>\n",
       "      <td>58.0</td>\n",
       "      <td>2451</td>\n",
       "      <td>0</td>\n",
       "      <td>74.0</td>\n",
       "      <td>2016-03-20</td>\n",
       "    </tr>\n",
       "  </tbody>\n",
       "</table>\n",
       "</div>"
      ],
      "text/plain": [
       "                 product_model  product_only  likes  product_type  \\\n",
       "short_code                                                          \n",
       "BC5YtFIziBd.jpg              0             1   21.0          2451   \n",
       "BC5csd3mIC5.jpg              0             1   23.0          2451   \n",
       "BDHuectAhnn.jpg              0             1   51.0        222789   \n",
       "BDHvD5Rshu3.jpg              1             0   42.0        222789   \n",
       "BDIt2fdiT4X.jpg              1             0   58.0          2451   \n",
       "\n",
       "                 product_users  len_text_total      yymmdd  \n",
       "short_code                                                  \n",
       "BC5YtFIziBd.jpg              0           127.0  2016-03-14  \n",
       "BC5csd3mIC5.jpg              0           203.0  2016-03-14  \n",
       "BDHuectAhnn.jpg              0            73.0  2016-03-19  \n",
       "BDHvD5Rshu3.jpg              0            42.0  2016-03-19  \n",
       "BDIt2fdiT4X.jpg              0            74.0  2016-03-20  "
      ]
     },
     "execution_count": 29,
     "metadata": {},
     "output_type": "execute_result"
    }
   ],
   "source": [
    "data_pm.head()"
   ]
  },
  {
   "cell_type": "code",
   "execution_count": 30,
   "metadata": {},
   "outputs": [
    {
     "data": {
      "text/plain": [
       "product_model              1\n",
       "product_only               0\n",
       "likes                  45465\n",
       "product_type            2451\n",
       "product_users              0\n",
       "len_text_total            40\n",
       "yymmdd            2017-08-31\n",
       "Name: BYcTZ_3hBiT.jpg, dtype: object"
      ]
     },
     "execution_count": 30,
     "metadata": {},
     "output_type": "execute_result"
    }
   ],
   "source": [
    "data_pm.loc[\"BYcTZ_3hBiT.jpg\"]"
   ]
  },
  {
   "cell_type": "code",
   "execution_count": null,
   "metadata": {},
   "outputs": [],
   "source": []
  },
  {
   "cell_type": "code",
   "execution_count": 31,
   "metadata": {},
   "outputs": [],
   "source": [
    "strat = [x for x in data_pm.columns if not(re.search (\"type\",x)) and re.search(\"product\",x)]"
   ]
  },
  {
   "cell_type": "code",
   "execution_count": 32,
   "metadata": {},
   "outputs": [],
   "source": [
    "#data_max.pivot(index='product_type', columns='Week', values=[\"likes_by_product_model\",\"likes_by_product_only\"])"
   ]
  },
  {
   "cell_type": "code",
   "execution_count": 33,
   "metadata": {},
   "outputs": [],
   "source": [
    "strat = [x for x in data_pm.columns if not(re.search (\"type\",x)) and re.search(\"product\",x)]"
   ]
  },
  {
   "cell_type": "code",
   "execution_count": 34,
   "metadata": {},
   "outputs": [],
   "source": [
    "strat = ['product_model',\n",
    " 'product_only','product_users']"
   ]
  },
  {
   "cell_type": "code",
   "execution_count": 35,
   "metadata": {},
   "outputs": [],
   "source": [
    "for col in strat:\n",
    "    data_pm[\"likes_by_\"+col] = data_pm[\"likes\"]*data_pm[col]"
   ]
  },
  {
   "cell_type": "code",
   "execution_count": 36,
   "metadata": {},
   "outputs": [],
   "source": [
    "prod3channel = dt_pm1[\"product_type\"].dropna().unique()"
   ]
  },
  {
   "cell_type": "code",
   "execution_count": 37,
   "metadata": {},
   "outputs": [
    {
     "data": {
      "text/plain": [
       "array([  2451, 222789,   2449,   2158,    309,   3690,   5152],\n",
       "      dtype=int64)"
      ]
     },
     "execution_count": 37,
     "metadata": {},
     "output_type": "execute_result"
    }
   ],
   "source": [
    "prod3channel"
   ]
  },
  {
   "cell_type": "code",
   "execution_count": 38,
   "metadata": {},
   "outputs": [],
   "source": [
    "\n",
    "ws2=pd.DataFrame(columns=[\"product_type\",\"Year\",\"Month\",\"Date\"])\n",
    "ws2_idx=[]\n",
    "for y in [2016,2017]:\n",
    "    for m in range(1,13):\n",
    "        days = calendar.monthrange(y, m)[1]\n",
    "        for d in range(1,days+1):\n",
    "            for x in prod3channel:\n",
    "                ws2=ws2.append({\"Year\":str(y),\"Month\":str(m),\"Date\":str(d),\"product_type\":x,}, ignore_index=True)  \n",
    "                                \n"
   ]
  },
  {
   "cell_type": "code",
   "execution_count": 39,
   "metadata": {},
   "outputs": [
    {
     "data": {
      "text/plain": [
       "(5117, 4)"
      ]
     },
     "execution_count": 39,
     "metadata": {},
     "output_type": "execute_result"
    }
   ],
   "source": [
    "ws2.shape"
   ]
  },
  {
   "cell_type": "code",
   "execution_count": 40,
   "metadata": {},
   "outputs": [
    {
     "data": {
      "text/html": [
       "<div>\n",
       "<style scoped>\n",
       "    .dataframe tbody tr th:only-of-type {\n",
       "        vertical-align: middle;\n",
       "    }\n",
       "\n",
       "    .dataframe tbody tr th {\n",
       "        vertical-align: top;\n",
       "    }\n",
       "\n",
       "    .dataframe thead th {\n",
       "        text-align: right;\n",
       "    }\n",
       "</style>\n",
       "<table border=\"1\" class=\"dataframe\">\n",
       "  <thead>\n",
       "    <tr style=\"text-align: right;\">\n",
       "      <th></th>\n",
       "      <th>product_type</th>\n",
       "      <th>Year</th>\n",
       "      <th>Month</th>\n",
       "      <th>Date</th>\n",
       "    </tr>\n",
       "  </thead>\n",
       "  <tbody>\n",
       "    <tr>\n",
       "      <th>0</th>\n",
       "      <td>2451</td>\n",
       "      <td>2016</td>\n",
       "      <td>1</td>\n",
       "      <td>1</td>\n",
       "    </tr>\n",
       "    <tr>\n",
       "      <th>1</th>\n",
       "      <td>222789</td>\n",
       "      <td>2016</td>\n",
       "      <td>1</td>\n",
       "      <td>1</td>\n",
       "    </tr>\n",
       "    <tr>\n",
       "      <th>2</th>\n",
       "      <td>2449</td>\n",
       "      <td>2016</td>\n",
       "      <td>1</td>\n",
       "      <td>1</td>\n",
       "    </tr>\n",
       "    <tr>\n",
       "      <th>3</th>\n",
       "      <td>2158</td>\n",
       "      <td>2016</td>\n",
       "      <td>1</td>\n",
       "      <td>1</td>\n",
       "    </tr>\n",
       "    <tr>\n",
       "      <th>4</th>\n",
       "      <td>309</td>\n",
       "      <td>2016</td>\n",
       "      <td>1</td>\n",
       "      <td>1</td>\n",
       "    </tr>\n",
       "  </tbody>\n",
       "</table>\n",
       "</div>"
      ],
      "text/plain": [
       "  product_type  Year Month Date\n",
       "0         2451  2016     1    1\n",
       "1       222789  2016     1    1\n",
       "2         2449  2016     1    1\n",
       "3         2158  2016     1    1\n",
       "4          309  2016     1    1"
      ]
     },
     "execution_count": 40,
     "metadata": {},
     "output_type": "execute_result"
    }
   ],
   "source": [
    "ws2.head()"
   ]
  },
  {
   "cell_type": "code",
   "execution_count": 41,
   "metadata": {},
   "outputs": [],
   "source": [
    "ymd = ws2[\"Year\"].astype(str)+\"-\"+ws2[\"Month\"].astype(str)+\"-\"+ws2[\"Date\"].astype(str)\n",
    "ws2[\"yymmdd\"] = pd.to_datetime(ymd)\n",
    "ws3 = ws2.loc[(ws2[\"yymmdd\"]>= \"2016-03-01\") & (ws2[\"yymmdd\"]<=\"2017-11-30\")]\n",
    "ws4= ws3.set_index([\"product_type\",\"yymmdd\"])\n"
   ]
  },
  {
   "cell_type": "code",
   "execution_count": 42,
   "metadata": {},
   "outputs": [
    {
     "data": {
      "text/plain": [
       "0       False\n",
       "1       False\n",
       "2       False\n",
       "3       False\n",
       "4       False\n",
       "        ...  \n",
       "5112    False\n",
       "5113    False\n",
       "5114    False\n",
       "5115    False\n",
       "5116    False\n",
       "Name: yymmdd, Length: 5117, dtype: bool"
      ]
     },
     "execution_count": 42,
     "metadata": {},
     "output_type": "execute_result"
    }
   ],
   "source": [
    "(ws2[\"yymmdd\"]>= \"2016-03-01\") & (ws2[\"yymmdd\"]<=\"2017-11-30\")"
   ]
  },
  {
   "cell_type": "code",
   "execution_count": 43,
   "metadata": {},
   "outputs": [
    {
     "data": {
      "text/plain": [
       "(4480, 3)"
      ]
     },
     "execution_count": 43,
     "metadata": {},
     "output_type": "execute_result"
    }
   ],
   "source": [
    "ws4.shape"
   ]
  },
  {
   "cell_type": "code",
   "execution_count": 44,
   "metadata": {},
   "outputs": [
    {
     "data": {
      "text/html": [
       "<div>\n",
       "<style scoped>\n",
       "    .dataframe tbody tr th:only-of-type {\n",
       "        vertical-align: middle;\n",
       "    }\n",
       "\n",
       "    .dataframe tbody tr th {\n",
       "        vertical-align: top;\n",
       "    }\n",
       "\n",
       "    .dataframe thead th {\n",
       "        text-align: right;\n",
       "    }\n",
       "</style>\n",
       "<table border=\"1\" class=\"dataframe\">\n",
       "  <thead>\n",
       "    <tr style=\"text-align: right;\">\n",
       "      <th></th>\n",
       "      <th></th>\n",
       "      <th>Year</th>\n",
       "      <th>Month</th>\n",
       "      <th>Date</th>\n",
       "    </tr>\n",
       "    <tr>\n",
       "      <th>product_type</th>\n",
       "      <th>yymmdd</th>\n",
       "      <th></th>\n",
       "      <th></th>\n",
       "      <th></th>\n",
       "    </tr>\n",
       "  </thead>\n",
       "  <tbody>\n",
       "    <tr>\n",
       "      <th>2451</th>\n",
       "      <th>2016-03-01</th>\n",
       "      <td>2016</td>\n",
       "      <td>3</td>\n",
       "      <td>1</td>\n",
       "    </tr>\n",
       "    <tr>\n",
       "      <th>222789</th>\n",
       "      <th>2016-03-01</th>\n",
       "      <td>2016</td>\n",
       "      <td>3</td>\n",
       "      <td>1</td>\n",
       "    </tr>\n",
       "    <tr>\n",
       "      <th>2449</th>\n",
       "      <th>2016-03-01</th>\n",
       "      <td>2016</td>\n",
       "      <td>3</td>\n",
       "      <td>1</td>\n",
       "    </tr>\n",
       "    <tr>\n",
       "      <th>2158</th>\n",
       "      <th>2016-03-01</th>\n",
       "      <td>2016</td>\n",
       "      <td>3</td>\n",
       "      <td>1</td>\n",
       "    </tr>\n",
       "    <tr>\n",
       "      <th>309</th>\n",
       "      <th>2016-03-01</th>\n",
       "      <td>2016</td>\n",
       "      <td>3</td>\n",
       "      <td>1</td>\n",
       "    </tr>\n",
       "  </tbody>\n",
       "</table>\n",
       "</div>"
      ],
      "text/plain": [
       "                         Year Month Date\n",
       "product_type yymmdd                     \n",
       "2451         2016-03-01  2016     3    1\n",
       "222789       2016-03-01  2016     3    1\n",
       "2449         2016-03-01  2016     3    1\n",
       "2158         2016-03-01  2016     3    1\n",
       "309          2016-03-01  2016     3    1"
      ]
     },
     "execution_count": 44,
     "metadata": {},
     "output_type": "execute_result"
    }
   ],
   "source": [
    "ws4.head()"
   ]
  },
  {
   "cell_type": "code",
   "execution_count": 45,
   "metadata": {},
   "outputs": [],
   "source": [
    "total_post = data_pm.groupby([\"yymmdd\"]).sum().loc[:,[\"product_model\",\"product_only\",\"product_users\"]].rename(columns={\"product_model\":\"total_product_model\",\"product_only\":\"total_product_only\",\"product_users\":\"total_product_users\"})\n"
   ]
  },
  {
   "cell_type": "code",
   "execution_count": 46,
   "metadata": {},
   "outputs": [
    {
     "data": {
      "text/html": [
       "<div>\n",
       "<style scoped>\n",
       "    .dataframe tbody tr th:only-of-type {\n",
       "        vertical-align: middle;\n",
       "    }\n",
       "\n",
       "    .dataframe tbody tr th {\n",
       "        vertical-align: top;\n",
       "    }\n",
       "\n",
       "    .dataframe thead th {\n",
       "        text-align: right;\n",
       "    }\n",
       "</style>\n",
       "<table border=\"1\" class=\"dataframe\">\n",
       "  <thead>\n",
       "    <tr style=\"text-align: right;\">\n",
       "      <th></th>\n",
       "      <th>total_product_model</th>\n",
       "      <th>total_product_only</th>\n",
       "      <th>total_product_users</th>\n",
       "    </tr>\n",
       "    <tr>\n",
       "      <th>yymmdd</th>\n",
       "      <th></th>\n",
       "      <th></th>\n",
       "      <th></th>\n",
       "    </tr>\n",
       "  </thead>\n",
       "  <tbody>\n",
       "    <tr>\n",
       "      <th>2016-03-14</th>\n",
       "      <td>0</td>\n",
       "      <td>2</td>\n",
       "      <td>0</td>\n",
       "    </tr>\n",
       "    <tr>\n",
       "      <th>2016-03-19</th>\n",
       "      <td>1</td>\n",
       "      <td>1</td>\n",
       "      <td>0</td>\n",
       "    </tr>\n",
       "    <tr>\n",
       "      <th>2016-03-20</th>\n",
       "      <td>1</td>\n",
       "      <td>0</td>\n",
       "      <td>0</td>\n",
       "    </tr>\n",
       "    <tr>\n",
       "      <th>2016-03-23</th>\n",
       "      <td>1</td>\n",
       "      <td>0</td>\n",
       "      <td>0</td>\n",
       "    </tr>\n",
       "    <tr>\n",
       "      <th>2016-04-04</th>\n",
       "      <td>1</td>\n",
       "      <td>1</td>\n",
       "      <td>0</td>\n",
       "    </tr>\n",
       "  </tbody>\n",
       "</table>\n",
       "</div>"
      ],
      "text/plain": [
       "            total_product_model  total_product_only  total_product_users\n",
       "yymmdd                                                                  \n",
       "2016-03-14                    0                   2                    0\n",
       "2016-03-19                    1                   1                    0\n",
       "2016-03-20                    1                   0                    0\n",
       "2016-03-23                    1                   0                    0\n",
       "2016-04-04                    1                   1                    0"
      ]
     },
     "execution_count": 46,
     "metadata": {},
     "output_type": "execute_result"
    }
   ],
   "source": [
    "total_post.head()"
   ]
  },
  {
   "cell_type": "code",
   "execution_count": 47,
   "metadata": {},
   "outputs": [],
   "source": [
    "dt_gb = data_pm.groupby([\"product_type\",\"yymmdd\"]).sum().join(total_post).drop(\"likes\", axis=1)\n"
   ]
  },
  {
   "cell_type": "code",
   "execution_count": 48,
   "metadata": {},
   "outputs": [
    {
     "data": {
      "text/html": [
       "<div>\n",
       "<style scoped>\n",
       "    .dataframe tbody tr th:only-of-type {\n",
       "        vertical-align: middle;\n",
       "    }\n",
       "\n",
       "    .dataframe tbody tr th {\n",
       "        vertical-align: top;\n",
       "    }\n",
       "\n",
       "    .dataframe thead th {\n",
       "        text-align: right;\n",
       "    }\n",
       "</style>\n",
       "<table border=\"1\" class=\"dataframe\">\n",
       "  <thead>\n",
       "    <tr style=\"text-align: right;\">\n",
       "      <th></th>\n",
       "      <th></th>\n",
       "      <th>product_model</th>\n",
       "      <th>product_only</th>\n",
       "      <th>product_users</th>\n",
       "      <th>len_text_total</th>\n",
       "      <th>likes_by_product_model</th>\n",
       "      <th>likes_by_product_only</th>\n",
       "      <th>likes_by_product_users</th>\n",
       "      <th>total_product_model</th>\n",
       "      <th>total_product_only</th>\n",
       "      <th>total_product_users</th>\n",
       "    </tr>\n",
       "    <tr>\n",
       "      <th>product_type</th>\n",
       "      <th>yymmdd</th>\n",
       "      <th></th>\n",
       "      <th></th>\n",
       "      <th></th>\n",
       "      <th></th>\n",
       "      <th></th>\n",
       "      <th></th>\n",
       "      <th></th>\n",
       "      <th></th>\n",
       "      <th></th>\n",
       "      <th></th>\n",
       "    </tr>\n",
       "  </thead>\n",
       "  <tbody>\n",
       "    <tr>\n",
       "      <th rowspan=\"5\" valign=\"top\">309</th>\n",
       "      <th>2016-04-21</th>\n",
       "      <td>1</td>\n",
       "      <td>0</td>\n",
       "      <td>0</td>\n",
       "      <td>53.0</td>\n",
       "      <td>7.0</td>\n",
       "      <td>0.0</td>\n",
       "      <td>0.0</td>\n",
       "      <td>1</td>\n",
       "      <td>0</td>\n",
       "      <td>0</td>\n",
       "    </tr>\n",
       "    <tr>\n",
       "      <th>2016-07-13</th>\n",
       "      <td>0</td>\n",
       "      <td>1</td>\n",
       "      <td>0</td>\n",
       "      <td>239.0</td>\n",
       "      <td>0.0</td>\n",
       "      <td>108.0</td>\n",
       "      <td>0.0</td>\n",
       "      <td>0</td>\n",
       "      <td>1</td>\n",
       "      <td>0</td>\n",
       "    </tr>\n",
       "    <tr>\n",
       "      <th>2016-08-29</th>\n",
       "      <td>0</td>\n",
       "      <td>1</td>\n",
       "      <td>0</td>\n",
       "      <td>220.0</td>\n",
       "      <td>0.0</td>\n",
       "      <td>170.0</td>\n",
       "      <td>0.0</td>\n",
       "      <td>0</td>\n",
       "      <td>1</td>\n",
       "      <td>0</td>\n",
       "    </tr>\n",
       "    <tr>\n",
       "      <th>2016-09-09</th>\n",
       "      <td>0</td>\n",
       "      <td>1</td>\n",
       "      <td>0</td>\n",
       "      <td>259.0</td>\n",
       "      <td>0.0</td>\n",
       "      <td>116.0</td>\n",
       "      <td>0.0</td>\n",
       "      <td>0</td>\n",
       "      <td>1</td>\n",
       "      <td>0</td>\n",
       "    </tr>\n",
       "    <tr>\n",
       "      <th>2016-09-13</th>\n",
       "      <td>0</td>\n",
       "      <td>1</td>\n",
       "      <td>0</td>\n",
       "      <td>318.0</td>\n",
       "      <td>0.0</td>\n",
       "      <td>148.0</td>\n",
       "      <td>0.0</td>\n",
       "      <td>0</td>\n",
       "      <td>1</td>\n",
       "      <td>0</td>\n",
       "    </tr>\n",
       "  </tbody>\n",
       "</table>\n",
       "</div>"
      ],
      "text/plain": [
       "                         product_model  product_only  product_users  \\\n",
       "product_type yymmdd                                                   \n",
       "309          2016-04-21              1             0              0   \n",
       "             2016-07-13              0             1              0   \n",
       "             2016-08-29              0             1              0   \n",
       "             2016-09-09              0             1              0   \n",
       "             2016-09-13              0             1              0   \n",
       "\n",
       "                         len_text_total  likes_by_product_model  \\\n",
       "product_type yymmdd                                               \n",
       "309          2016-04-21            53.0                     7.0   \n",
       "             2016-07-13           239.0                     0.0   \n",
       "             2016-08-29           220.0                     0.0   \n",
       "             2016-09-09           259.0                     0.0   \n",
       "             2016-09-13           318.0                     0.0   \n",
       "\n",
       "                         likes_by_product_only  likes_by_product_users  \\\n",
       "product_type yymmdd                                                      \n",
       "309          2016-04-21                    0.0                     0.0   \n",
       "             2016-07-13                  108.0                     0.0   \n",
       "             2016-08-29                  170.0                     0.0   \n",
       "             2016-09-09                  116.0                     0.0   \n",
       "             2016-09-13                  148.0                     0.0   \n",
       "\n",
       "                         total_product_model  total_product_only  \\\n",
       "product_type yymmdd                                                \n",
       "309          2016-04-21                    1                   0   \n",
       "             2016-07-13                    0                   1   \n",
       "             2016-08-29                    0                   1   \n",
       "             2016-09-09                    0                   1   \n",
       "             2016-09-13                    0                   1   \n",
       "\n",
       "                         total_product_users  \n",
       "product_type yymmdd                           \n",
       "309          2016-04-21                    0  \n",
       "             2016-07-13                    0  \n",
       "             2016-08-29                    0  \n",
       "             2016-09-09                    0  \n",
       "             2016-09-13                    0  "
      ]
     },
     "execution_count": 48,
     "metadata": {},
     "output_type": "execute_result"
    }
   ],
   "source": [
    "dt_gb.head()"
   ]
  },
  {
   "cell_type": "code",
   "execution_count": 49,
   "metadata": {},
   "outputs": [
    {
     "data": {
      "text/html": [
       "<div>\n",
       "<style scoped>\n",
       "    .dataframe tbody tr th:only-of-type {\n",
       "        vertical-align: middle;\n",
       "    }\n",
       "\n",
       "    .dataframe tbody tr th {\n",
       "        vertical-align: top;\n",
       "    }\n",
       "\n",
       "    .dataframe thead th {\n",
       "        text-align: right;\n",
       "    }\n",
       "</style>\n",
       "<table border=\"1\" class=\"dataframe\">\n",
       "  <thead>\n",
       "    <tr style=\"text-align: right;\">\n",
       "      <th></th>\n",
       "      <th>product_model</th>\n",
       "      <th>product_only</th>\n",
       "      <th>product_users</th>\n",
       "      <th>len_text_total</th>\n",
       "      <th>likes_by_product_model</th>\n",
       "      <th>likes_by_product_only</th>\n",
       "      <th>likes_by_product_users</th>\n",
       "      <th>total_product_model</th>\n",
       "      <th>total_product_only</th>\n",
       "      <th>total_product_users</th>\n",
       "    </tr>\n",
       "  </thead>\n",
       "  <tbody>\n",
       "    <tr>\n",
       "      <th>count</th>\n",
       "      <td>184.000000</td>\n",
       "      <td>184.000000</td>\n",
       "      <td>184.000000</td>\n",
       "      <td>184.000000</td>\n",
       "      <td>184.000000</td>\n",
       "      <td>184.000000</td>\n",
       "      <td>184.000000</td>\n",
       "      <td>184.000000</td>\n",
       "      <td>184.000000</td>\n",
       "      <td>184.000000</td>\n",
       "    </tr>\n",
       "    <tr>\n",
       "      <th>mean</th>\n",
       "      <td>0.146739</td>\n",
       "      <td>1.369565</td>\n",
       "      <td>0.021739</td>\n",
       "      <td>355.684783</td>\n",
       "      <td>265.260870</td>\n",
       "      <td>184.364130</td>\n",
       "      <td>15.798913</td>\n",
       "      <td>0.168478</td>\n",
       "      <td>1.836957</td>\n",
       "      <td>0.021739</td>\n",
       "    </tr>\n",
       "    <tr>\n",
       "      <th>std</th>\n",
       "      <td>0.411833</td>\n",
       "      <td>1.408153</td>\n",
       "      <td>0.146228</td>\n",
       "      <td>529.136877</td>\n",
       "      <td>3352.331523</td>\n",
       "      <td>574.548654</td>\n",
       "      <td>201.085491</td>\n",
       "      <td>0.429622</td>\n",
       "      <td>1.654781</td>\n",
       "      <td>0.146228</td>\n",
       "    </tr>\n",
       "    <tr>\n",
       "      <th>min</th>\n",
       "      <td>0.000000</td>\n",
       "      <td>0.000000</td>\n",
       "      <td>0.000000</td>\n",
       "      <td>9.000000</td>\n",
       "      <td>0.000000</td>\n",
       "      <td>0.000000</td>\n",
       "      <td>0.000000</td>\n",
       "      <td>0.000000</td>\n",
       "      <td>0.000000</td>\n",
       "      <td>0.000000</td>\n",
       "    </tr>\n",
       "    <tr>\n",
       "      <th>25%</th>\n",
       "      <td>0.000000</td>\n",
       "      <td>1.000000</td>\n",
       "      <td>0.000000</td>\n",
       "      <td>126.500000</td>\n",
       "      <td>0.000000</td>\n",
       "      <td>7.000000</td>\n",
       "      <td>0.000000</td>\n",
       "      <td>0.000000</td>\n",
       "      <td>1.000000</td>\n",
       "      <td>0.000000</td>\n",
       "    </tr>\n",
       "    <tr>\n",
       "      <th>50%</th>\n",
       "      <td>0.000000</td>\n",
       "      <td>1.000000</td>\n",
       "      <td>0.000000</td>\n",
       "      <td>218.500000</td>\n",
       "      <td>0.000000</td>\n",
       "      <td>35.500000</td>\n",
       "      <td>0.000000</td>\n",
       "      <td>0.000000</td>\n",
       "      <td>1.000000</td>\n",
       "      <td>0.000000</td>\n",
       "    </tr>\n",
       "    <tr>\n",
       "      <th>75%</th>\n",
       "      <td>0.000000</td>\n",
       "      <td>1.000000</td>\n",
       "      <td>0.000000</td>\n",
       "      <td>353.750000</td>\n",
       "      <td>0.000000</td>\n",
       "      <td>135.750000</td>\n",
       "      <td>0.000000</td>\n",
       "      <td>0.000000</td>\n",
       "      <td>2.000000</td>\n",
       "      <td>0.000000</td>\n",
       "    </tr>\n",
       "    <tr>\n",
       "      <th>max</th>\n",
       "      <td>3.000000</td>\n",
       "      <td>12.000000</td>\n",
       "      <td>1.000000</td>\n",
       "      <td>3993.000000</td>\n",
       "      <td>45465.000000</td>\n",
       "      <td>5412.000000</td>\n",
       "      <td>2726.000000</td>\n",
       "      <td>3.000000</td>\n",
       "      <td>12.000000</td>\n",
       "      <td>1.000000</td>\n",
       "    </tr>\n",
       "  </tbody>\n",
       "</table>\n",
       "</div>"
      ],
      "text/plain": [
       "       product_model  product_only  product_users  len_text_total  \\\n",
       "count     184.000000    184.000000     184.000000      184.000000   \n",
       "mean        0.146739      1.369565       0.021739      355.684783   \n",
       "std         0.411833      1.408153       0.146228      529.136877   \n",
       "min         0.000000      0.000000       0.000000        9.000000   \n",
       "25%         0.000000      1.000000       0.000000      126.500000   \n",
       "50%         0.000000      1.000000       0.000000      218.500000   \n",
       "75%         0.000000      1.000000       0.000000      353.750000   \n",
       "max         3.000000     12.000000       1.000000     3993.000000   \n",
       "\n",
       "       likes_by_product_model  likes_by_product_only  likes_by_product_users  \\\n",
       "count              184.000000             184.000000              184.000000   \n",
       "mean               265.260870             184.364130               15.798913   \n",
       "std               3352.331523             574.548654              201.085491   \n",
       "min                  0.000000               0.000000                0.000000   \n",
       "25%                  0.000000               7.000000                0.000000   \n",
       "50%                  0.000000              35.500000                0.000000   \n",
       "75%                  0.000000             135.750000                0.000000   \n",
       "max              45465.000000            5412.000000             2726.000000   \n",
       "\n",
       "       total_product_model  total_product_only  total_product_users  \n",
       "count           184.000000          184.000000           184.000000  \n",
       "mean              0.168478            1.836957             0.021739  \n",
       "std               0.429622            1.654781             0.146228  \n",
       "min               0.000000            0.000000             0.000000  \n",
       "25%               0.000000            1.000000             0.000000  \n",
       "50%               0.000000            1.000000             0.000000  \n",
       "75%               0.000000            2.000000             0.000000  \n",
       "max               3.000000           12.000000             1.000000  "
      ]
     },
     "execution_count": 49,
     "metadata": {},
     "output_type": "execute_result"
    }
   ],
   "source": [
    "dt_gb.describe()"
   ]
  },
  {
   "cell_type": "code",
   "execution_count": null,
   "metadata": {},
   "outputs": [],
   "source": []
  },
  {
   "cell_type": "code",
   "execution_count": 50,
   "metadata": {},
   "outputs": [],
   "source": [
    "dt1 = ws4.join(dt_gb, how=\"left\").join(product_mention, how=\"left\").fillna(0)"
   ]
  },
  {
   "cell_type": "code",
   "execution_count": 51,
   "metadata": {},
   "outputs": [],
   "source": [
    "dt1[\"product_mention\"] = dt1[\"product_mention\"]/dt1[\"len_text_total\"]"
   ]
  },
  {
   "cell_type": "code",
   "execution_count": 52,
   "metadata": {},
   "outputs": [],
   "source": [
    "\n",
    "for col in strat:\n",
    "    dt1[\"spillover_\"+col] = dt1[\"total_\"+col]-dt1[col]\n",
    "    "
   ]
  },
  {
   "cell_type": "code",
   "execution_count": 53,
   "metadata": {},
   "outputs": [],
   "source": [
    "dt1[\"total_spillover\"] = dt1[\"spillover_\"+strat[0]] + dt1[\"spillover_\"+strat[1]] + dt1[\"spillover_\"+strat[2]]"
   ]
  },
  {
   "cell_type": "code",
   "execution_count": 54,
   "metadata": {
    "scrolled": true
   },
   "outputs": [
    {
     "data": {
      "text/html": [
       "<div>\n",
       "<style scoped>\n",
       "    .dataframe tbody tr th:only-of-type {\n",
       "        vertical-align: middle;\n",
       "    }\n",
       "\n",
       "    .dataframe tbody tr th {\n",
       "        vertical-align: top;\n",
       "    }\n",
       "\n",
       "    .dataframe thead th {\n",
       "        text-align: right;\n",
       "    }\n",
       "</style>\n",
       "<table border=\"1\" class=\"dataframe\">\n",
       "  <thead>\n",
       "    <tr style=\"text-align: right;\">\n",
       "      <th></th>\n",
       "      <th></th>\n",
       "      <th>Year</th>\n",
       "      <th>Month</th>\n",
       "      <th>Date</th>\n",
       "      <th>product_model</th>\n",
       "      <th>product_only</th>\n",
       "      <th>product_users</th>\n",
       "      <th>len_text_total</th>\n",
       "      <th>likes_by_product_model</th>\n",
       "      <th>likes_by_product_only</th>\n",
       "      <th>likes_by_product_users</th>\n",
       "      <th>total_product_model</th>\n",
       "      <th>total_product_only</th>\n",
       "      <th>total_product_users</th>\n",
       "      <th>product_mention</th>\n",
       "      <th>spillover_product_model</th>\n",
       "      <th>spillover_product_only</th>\n",
       "      <th>spillover_product_users</th>\n",
       "      <th>total_spillover</th>\n",
       "    </tr>\n",
       "    <tr>\n",
       "      <th>product_type</th>\n",
       "      <th>yymmdd</th>\n",
       "      <th></th>\n",
       "      <th></th>\n",
       "      <th></th>\n",
       "      <th></th>\n",
       "      <th></th>\n",
       "      <th></th>\n",
       "      <th></th>\n",
       "      <th></th>\n",
       "      <th></th>\n",
       "      <th></th>\n",
       "      <th></th>\n",
       "      <th></th>\n",
       "      <th></th>\n",
       "      <th></th>\n",
       "      <th></th>\n",
       "      <th></th>\n",
       "      <th></th>\n",
       "      <th></th>\n",
       "    </tr>\n",
       "  </thead>\n",
       "  <tbody>\n",
       "    <tr>\n",
       "      <th>2451</th>\n",
       "      <th>2016-03-01</th>\n",
       "      <td>2016</td>\n",
       "      <td>3</td>\n",
       "      <td>1</td>\n",
       "      <td>0.0</td>\n",
       "      <td>0.0</td>\n",
       "      <td>0.0</td>\n",
       "      <td>0.0</td>\n",
       "      <td>0.0</td>\n",
       "      <td>0.0</td>\n",
       "      <td>0.0</td>\n",
       "      <td>0.0</td>\n",
       "      <td>0.0</td>\n",
       "      <td>0.0</td>\n",
       "      <td>NaN</td>\n",
       "      <td>0.0</td>\n",
       "      <td>0.0</td>\n",
       "      <td>0.0</td>\n",
       "      <td>0.0</td>\n",
       "    </tr>\n",
       "    <tr>\n",
       "      <th>222789</th>\n",
       "      <th>2016-03-01</th>\n",
       "      <td>2016</td>\n",
       "      <td>3</td>\n",
       "      <td>1</td>\n",
       "      <td>0.0</td>\n",
       "      <td>0.0</td>\n",
       "      <td>0.0</td>\n",
       "      <td>0.0</td>\n",
       "      <td>0.0</td>\n",
       "      <td>0.0</td>\n",
       "      <td>0.0</td>\n",
       "      <td>0.0</td>\n",
       "      <td>0.0</td>\n",
       "      <td>0.0</td>\n",
       "      <td>NaN</td>\n",
       "      <td>0.0</td>\n",
       "      <td>0.0</td>\n",
       "      <td>0.0</td>\n",
       "      <td>0.0</td>\n",
       "    </tr>\n",
       "    <tr>\n",
       "      <th>2449</th>\n",
       "      <th>2016-03-01</th>\n",
       "      <td>2016</td>\n",
       "      <td>3</td>\n",
       "      <td>1</td>\n",
       "      <td>0.0</td>\n",
       "      <td>0.0</td>\n",
       "      <td>0.0</td>\n",
       "      <td>0.0</td>\n",
       "      <td>0.0</td>\n",
       "      <td>0.0</td>\n",
       "      <td>0.0</td>\n",
       "      <td>0.0</td>\n",
       "      <td>0.0</td>\n",
       "      <td>0.0</td>\n",
       "      <td>NaN</td>\n",
       "      <td>0.0</td>\n",
       "      <td>0.0</td>\n",
       "      <td>0.0</td>\n",
       "      <td>0.0</td>\n",
       "    </tr>\n",
       "    <tr>\n",
       "      <th>2158</th>\n",
       "      <th>2016-03-01</th>\n",
       "      <td>2016</td>\n",
       "      <td>3</td>\n",
       "      <td>1</td>\n",
       "      <td>0.0</td>\n",
       "      <td>0.0</td>\n",
       "      <td>0.0</td>\n",
       "      <td>0.0</td>\n",
       "      <td>0.0</td>\n",
       "      <td>0.0</td>\n",
       "      <td>0.0</td>\n",
       "      <td>0.0</td>\n",
       "      <td>0.0</td>\n",
       "      <td>0.0</td>\n",
       "      <td>NaN</td>\n",
       "      <td>0.0</td>\n",
       "      <td>0.0</td>\n",
       "      <td>0.0</td>\n",
       "      <td>0.0</td>\n",
       "    </tr>\n",
       "    <tr>\n",
       "      <th>309</th>\n",
       "      <th>2016-03-01</th>\n",
       "      <td>2016</td>\n",
       "      <td>3</td>\n",
       "      <td>1</td>\n",
       "      <td>0.0</td>\n",
       "      <td>0.0</td>\n",
       "      <td>0.0</td>\n",
       "      <td>0.0</td>\n",
       "      <td>0.0</td>\n",
       "      <td>0.0</td>\n",
       "      <td>0.0</td>\n",
       "      <td>0.0</td>\n",
       "      <td>0.0</td>\n",
       "      <td>0.0</td>\n",
       "      <td>NaN</td>\n",
       "      <td>0.0</td>\n",
       "      <td>0.0</td>\n",
       "      <td>0.0</td>\n",
       "      <td>0.0</td>\n",
       "    </tr>\n",
       "  </tbody>\n",
       "</table>\n",
       "</div>"
      ],
      "text/plain": [
       "                         Year Month Date  product_model  product_only  \\\n",
       "product_type yymmdd                                                     \n",
       "2451         2016-03-01  2016     3    1            0.0           0.0   \n",
       "222789       2016-03-01  2016     3    1            0.0           0.0   \n",
       "2449         2016-03-01  2016     3    1            0.0           0.0   \n",
       "2158         2016-03-01  2016     3    1            0.0           0.0   \n",
       "309          2016-03-01  2016     3    1            0.0           0.0   \n",
       "\n",
       "                         product_users  len_text_total  \\\n",
       "product_type yymmdd                                      \n",
       "2451         2016-03-01            0.0             0.0   \n",
       "222789       2016-03-01            0.0             0.0   \n",
       "2449         2016-03-01            0.0             0.0   \n",
       "2158         2016-03-01            0.0             0.0   \n",
       "309          2016-03-01            0.0             0.0   \n",
       "\n",
       "                         likes_by_product_model  likes_by_product_only  \\\n",
       "product_type yymmdd                                                      \n",
       "2451         2016-03-01                     0.0                    0.0   \n",
       "222789       2016-03-01                     0.0                    0.0   \n",
       "2449         2016-03-01                     0.0                    0.0   \n",
       "2158         2016-03-01                     0.0                    0.0   \n",
       "309          2016-03-01                     0.0                    0.0   \n",
       "\n",
       "                         likes_by_product_users  total_product_model  \\\n",
       "product_type yymmdd                                                    \n",
       "2451         2016-03-01                     0.0                  0.0   \n",
       "222789       2016-03-01                     0.0                  0.0   \n",
       "2449         2016-03-01                     0.0                  0.0   \n",
       "2158         2016-03-01                     0.0                  0.0   \n",
       "309          2016-03-01                     0.0                  0.0   \n",
       "\n",
       "                         total_product_only  total_product_users  \\\n",
       "product_type yymmdd                                                \n",
       "2451         2016-03-01                 0.0                  0.0   \n",
       "222789       2016-03-01                 0.0                  0.0   \n",
       "2449         2016-03-01                 0.0                  0.0   \n",
       "2158         2016-03-01                 0.0                  0.0   \n",
       "309          2016-03-01                 0.0                  0.0   \n",
       "\n",
       "                         product_mention  spillover_product_model  \\\n",
       "product_type yymmdd                                                 \n",
       "2451         2016-03-01              NaN                      0.0   \n",
       "222789       2016-03-01              NaN                      0.0   \n",
       "2449         2016-03-01              NaN                      0.0   \n",
       "2158         2016-03-01              NaN                      0.0   \n",
       "309          2016-03-01              NaN                      0.0   \n",
       "\n",
       "                         spillover_product_only  spillover_product_users  \\\n",
       "product_type yymmdd                                                        \n",
       "2451         2016-03-01                     0.0                      0.0   \n",
       "222789       2016-03-01                     0.0                      0.0   \n",
       "2449         2016-03-01                     0.0                      0.0   \n",
       "2158         2016-03-01                     0.0                      0.0   \n",
       "309          2016-03-01                     0.0                      0.0   \n",
       "\n",
       "                         total_spillover  \n",
       "product_type yymmdd                       \n",
       "2451         2016-03-01              0.0  \n",
       "222789       2016-03-01              0.0  \n",
       "2449         2016-03-01              0.0  \n",
       "2158         2016-03-01              0.0  \n",
       "309          2016-03-01              0.0  "
      ]
     },
     "execution_count": 54,
     "metadata": {},
     "output_type": "execute_result"
    }
   ],
   "source": [
    "dt1.head()"
   ]
  },
  {
   "cell_type": "code",
   "execution_count": 55,
   "metadata": {},
   "outputs": [],
   "source": [
    "dt2 = dt1.drop(columns=[\"total_product_model\",\"total_product_only\",\"total_product_users\"])"
   ]
  },
  {
   "cell_type": "code",
   "execution_count": null,
   "metadata": {},
   "outputs": [],
   "source": []
  },
  {
   "cell_type": "code",
   "execution_count": 56,
   "metadata": {},
   "outputs": [
    {
     "data": {
      "text/plain": [
       "['product_model', 'product_only', 'product_users']"
      ]
     },
     "execution_count": 56,
     "metadata": {},
     "output_type": "execute_result"
    }
   ],
   "source": [
    "strat"
   ]
  },
  {
   "cell_type": "code",
   "execution_count": null,
   "metadata": {},
   "outputs": [],
   "source": []
  },
  {
   "cell_type": "code",
   "execution_count": 57,
   "metadata": {},
   "outputs": [],
   "source": [
    "total_likes = dt2.groupby([\"yymmdd\"]).sum().loc[:,[\"likes_by_product_model\",\"likes_by_product_only\",\"likes_by_product_users\"]].rename(columns={\"likes_by_product_model\":\"total_likes_by_product_model\",\"likes_by_product_only\":\"total_likes_by_product_only\",\"likes_by_product_users\":\"total_likes_by_product_users\"})\n",
    "    "
   ]
  },
  {
   "cell_type": "code",
   "execution_count": 58,
   "metadata": {},
   "outputs": [],
   "source": [
    "dt21_raw = dt2.join(total_likes).fillna(0)"
   ]
  },
  {
   "cell_type": "code",
   "execution_count": 59,
   "metadata": {},
   "outputs": [
    {
     "data": {
      "text/html": [
       "<div>\n",
       "<style scoped>\n",
       "    .dataframe tbody tr th:only-of-type {\n",
       "        vertical-align: middle;\n",
       "    }\n",
       "\n",
       "    .dataframe tbody tr th {\n",
       "        vertical-align: top;\n",
       "    }\n",
       "\n",
       "    .dataframe thead th {\n",
       "        text-align: right;\n",
       "    }\n",
       "</style>\n",
       "<table border=\"1\" class=\"dataframe\">\n",
       "  <thead>\n",
       "    <tr style=\"text-align: right;\">\n",
       "      <th></th>\n",
       "      <th>product_model</th>\n",
       "      <th>product_only</th>\n",
       "      <th>product_users</th>\n",
       "      <th>len_text_total</th>\n",
       "      <th>likes_by_product_model</th>\n",
       "      <th>likes_by_product_only</th>\n",
       "      <th>likes_by_product_users</th>\n",
       "      <th>product_mention</th>\n",
       "      <th>spillover_product_model</th>\n",
       "      <th>spillover_product_only</th>\n",
       "      <th>spillover_product_users</th>\n",
       "      <th>total_spillover</th>\n",
       "      <th>total_likes_by_product_model</th>\n",
       "      <th>total_likes_by_product_only</th>\n",
       "      <th>total_likes_by_product_users</th>\n",
       "    </tr>\n",
       "  </thead>\n",
       "  <tbody>\n",
       "    <tr>\n",
       "      <th>count</th>\n",
       "      <td>4480.000000</td>\n",
       "      <td>4480.000000</td>\n",
       "      <td>4480.000000</td>\n",
       "      <td>4480.000000</td>\n",
       "      <td>4480.000000</td>\n",
       "      <td>4480.000000</td>\n",
       "      <td>4480.000000</td>\n",
       "      <td>4480.0</td>\n",
       "      <td>4480.000000</td>\n",
       "      <td>4480.000000</td>\n",
       "      <td>4480.0</td>\n",
       "      <td>4480.000000</td>\n",
       "      <td>4480.000000</td>\n",
       "      <td>4480.000000</td>\n",
       "      <td>4480.000000</td>\n",
       "    </tr>\n",
       "    <tr>\n",
       "      <th>mean</th>\n",
       "      <td>0.006027</td>\n",
       "      <td>0.056250</td>\n",
       "      <td>0.000893</td>\n",
       "      <td>14.608482</td>\n",
       "      <td>10.894643</td>\n",
       "      <td>7.572098</td>\n",
       "      <td>0.648884</td>\n",
       "      <td>inf</td>\n",
       "      <td>0.000893</td>\n",
       "      <td>0.019196</td>\n",
       "      <td>0.0</td>\n",
       "      <td>0.020089</td>\n",
       "      <td>76.262500</td>\n",
       "      <td>53.004688</td>\n",
       "      <td>4.542188</td>\n",
       "    </tr>\n",
       "    <tr>\n",
       "      <th>std</th>\n",
       "      <td>0.088192</td>\n",
       "      <td>0.393581</td>\n",
       "      <td>0.029871</td>\n",
       "      <td>128.153011</td>\n",
       "      <td>679.655607</td>\n",
       "      <td>121.763061</td>\n",
       "      <td>40.766585</td>\n",
       "      <td>NaN</td>\n",
       "      <td>0.029871</td>\n",
       "      <td>0.215678</td>\n",
       "      <td>0.0</td>\n",
       "      <td>0.217658</td>\n",
       "      <td>1796.812728</td>\n",
       "      <td>319.898124</td>\n",
       "      <td>107.776217</td>\n",
       "    </tr>\n",
       "    <tr>\n",
       "      <th>min</th>\n",
       "      <td>0.000000</td>\n",
       "      <td>0.000000</td>\n",
       "      <td>0.000000</td>\n",
       "      <td>0.000000</td>\n",
       "      <td>0.000000</td>\n",
       "      <td>0.000000</td>\n",
       "      <td>0.000000</td>\n",
       "      <td>0.0</td>\n",
       "      <td>0.000000</td>\n",
       "      <td>0.000000</td>\n",
       "      <td>0.0</td>\n",
       "      <td>0.000000</td>\n",
       "      <td>0.000000</td>\n",
       "      <td>0.000000</td>\n",
       "      <td>0.000000</td>\n",
       "    </tr>\n",
       "    <tr>\n",
       "      <th>25%</th>\n",
       "      <td>0.000000</td>\n",
       "      <td>0.000000</td>\n",
       "      <td>0.000000</td>\n",
       "      <td>0.000000</td>\n",
       "      <td>0.000000</td>\n",
       "      <td>0.000000</td>\n",
       "      <td>0.000000</td>\n",
       "      <td>0.0</td>\n",
       "      <td>0.000000</td>\n",
       "      <td>0.000000</td>\n",
       "      <td>0.0</td>\n",
       "      <td>0.000000</td>\n",
       "      <td>0.000000</td>\n",
       "      <td>0.000000</td>\n",
       "      <td>0.000000</td>\n",
       "    </tr>\n",
       "    <tr>\n",
       "      <th>50%</th>\n",
       "      <td>0.000000</td>\n",
       "      <td>0.000000</td>\n",
       "      <td>0.000000</td>\n",
       "      <td>0.000000</td>\n",
       "      <td>0.000000</td>\n",
       "      <td>0.000000</td>\n",
       "      <td>0.000000</td>\n",
       "      <td>0.0</td>\n",
       "      <td>0.000000</td>\n",
       "      <td>0.000000</td>\n",
       "      <td>0.0</td>\n",
       "      <td>0.000000</td>\n",
       "      <td>0.000000</td>\n",
       "      <td>0.000000</td>\n",
       "      <td>0.000000</td>\n",
       "    </tr>\n",
       "    <tr>\n",
       "      <th>75%</th>\n",
       "      <td>0.000000</td>\n",
       "      <td>0.000000</td>\n",
       "      <td>0.000000</td>\n",
       "      <td>0.000000</td>\n",
       "      <td>0.000000</td>\n",
       "      <td>0.000000</td>\n",
       "      <td>0.000000</td>\n",
       "      <td>0.0</td>\n",
       "      <td>0.000000</td>\n",
       "      <td>0.000000</td>\n",
       "      <td>0.0</td>\n",
       "      <td>0.000000</td>\n",
       "      <td>0.000000</td>\n",
       "      <td>0.000000</td>\n",
       "      <td>0.000000</td>\n",
       "    </tr>\n",
       "    <tr>\n",
       "      <th>max</th>\n",
       "      <td>3.000000</td>\n",
       "      <td>12.000000</td>\n",
       "      <td>1.000000</td>\n",
       "      <td>3993.000000</td>\n",
       "      <td>45465.000000</td>\n",
       "      <td>5412.000000</td>\n",
       "      <td>2726.000000</td>\n",
       "      <td>inf</td>\n",
       "      <td>1.000000</td>\n",
       "      <td>5.000000</td>\n",
       "      <td>0.0</td>\n",
       "      <td>5.000000</td>\n",
       "      <td>45465.000000</td>\n",
       "      <td>5412.000000</td>\n",
       "      <td>2726.000000</td>\n",
       "    </tr>\n",
       "  </tbody>\n",
       "</table>\n",
       "</div>"
      ],
      "text/plain": [
       "       product_model  product_only  product_users  len_text_total  \\\n",
       "count    4480.000000   4480.000000    4480.000000     4480.000000   \n",
       "mean        0.006027      0.056250       0.000893       14.608482   \n",
       "std         0.088192      0.393581       0.029871      128.153011   \n",
       "min         0.000000      0.000000       0.000000        0.000000   \n",
       "25%         0.000000      0.000000       0.000000        0.000000   \n",
       "50%         0.000000      0.000000       0.000000        0.000000   \n",
       "75%         0.000000      0.000000       0.000000        0.000000   \n",
       "max         3.000000     12.000000       1.000000     3993.000000   \n",
       "\n",
       "       likes_by_product_model  likes_by_product_only  likes_by_product_users  \\\n",
       "count             4480.000000            4480.000000             4480.000000   \n",
       "mean                10.894643               7.572098                0.648884   \n",
       "std                679.655607             121.763061               40.766585   \n",
       "min                  0.000000               0.000000                0.000000   \n",
       "25%                  0.000000               0.000000                0.000000   \n",
       "50%                  0.000000               0.000000                0.000000   \n",
       "75%                  0.000000               0.000000                0.000000   \n",
       "max              45465.000000            5412.000000             2726.000000   \n",
       "\n",
       "       product_mention  spillover_product_model  spillover_product_only  \\\n",
       "count           4480.0              4480.000000             4480.000000   \n",
       "mean               inf                 0.000893                0.019196   \n",
       "std                NaN                 0.029871                0.215678   \n",
       "min                0.0                 0.000000                0.000000   \n",
       "25%                0.0                 0.000000                0.000000   \n",
       "50%                0.0                 0.000000                0.000000   \n",
       "75%                0.0                 0.000000                0.000000   \n",
       "max                inf                 1.000000                5.000000   \n",
       "\n",
       "       spillover_product_users  total_spillover  total_likes_by_product_model  \\\n",
       "count                   4480.0      4480.000000                   4480.000000   \n",
       "mean                       0.0         0.020089                     76.262500   \n",
       "std                        0.0         0.217658                   1796.812728   \n",
       "min                        0.0         0.000000                      0.000000   \n",
       "25%                        0.0         0.000000                      0.000000   \n",
       "50%                        0.0         0.000000                      0.000000   \n",
       "75%                        0.0         0.000000                      0.000000   \n",
       "max                        0.0         5.000000                  45465.000000   \n",
       "\n",
       "       total_likes_by_product_only  total_likes_by_product_users  \n",
       "count                  4480.000000                   4480.000000  \n",
       "mean                     53.004688                      4.542188  \n",
       "std                     319.898124                    107.776217  \n",
       "min                       0.000000                      0.000000  \n",
       "25%                       0.000000                      0.000000  \n",
       "50%                       0.000000                      0.000000  \n",
       "75%                       0.000000                      0.000000  \n",
       "max                    5412.000000                   2726.000000  "
      ]
     },
     "execution_count": 59,
     "metadata": {},
     "output_type": "execute_result"
    }
   ],
   "source": [
    "dt21_raw.describe()"
   ]
  },
  {
   "cell_type": "code",
   "execution_count": 60,
   "metadata": {},
   "outputs": [
    {
     "data": {
      "text/plain": [
       "product_type  yymmdd    \n",
       "2451          2017-08-31    45465.0\n",
       "              2016-08-05     1295.0\n",
       "309           2017-11-17      794.0\n",
       "2451          2017-06-13      188.0\n",
       "              2017-04-23      176.0\n",
       "Name: likes_by_product_model, dtype: float64"
      ]
     },
     "execution_count": 60,
     "metadata": {},
     "output_type": "execute_result"
    }
   ],
   "source": [
    "dt21_raw[\"likes_by_product_model\"].nlargest()"
   ]
  },
  {
   "cell_type": "code",
   "execution_count": null,
   "metadata": {},
   "outputs": [],
   "source": [
    "aggrt_all = dict()\n",
    "for p in prod3channel:\n",
    "    dt_pp = dt21_raw.loc[p]\n",
    "    for idx in dt_pp.index:\n",
    "        try:\n",
    "            aggrt = dt_pp.loc[pd.date_range(start=idx, periods=7)][['product_model', 'product_only','product_users',\n",
    "           'likes_by_product_model', 'likes_by_product_only','likes_by_product_users',\n",
    "           'spillover_product_model', 'spillover_product_only','spillover_product_users',\n",
    "           'total_likes_by_product_model', 'total_likes_by_product_only','total_likes_by_product_users','total_spillover','product_mention']]\n",
    "            aggrt_all[(p,idx+ timedelta(days=7))]=aggrt.sum()\n",
    "        except:\n",
    "            continue"
   ]
  },
  {
   "cell_type": "code",
   "execution_count": null,
   "metadata": {},
   "outputs": [],
   "source": [
    "dt21 = pd.DataFrame(aggrt_all).T"
   ]
  },
  {
   "cell_type": "code",
   "execution_count": null,
   "metadata": {},
   "outputs": [],
   "source": [
    "dt21.shape"
   ]
  },
  {
   "cell_type": "code",
   "execution_count": null,
   "metadata": {},
   "outputs": [],
   "source": [
    "#check dataframe\n",
    "dt21.describe()"
   ]
  },
  {
   "cell_type": "code",
   "execution_count": null,
   "metadata": {},
   "outputs": [],
   "source": [
    "sp = dict()\n",
    "for col in strat:\n",
    "    dt21[\"likes_by_spillover_\"+col] = dt21[\"total_likes_by_\"+col] - dt21[\"likes_by_\"+col]\n",
    "    "
   ]
  },
  {
   "cell_type": "code",
   "execution_count": null,
   "metadata": {},
   "outputs": [],
   "source": []
  },
  {
   "cell_type": "code",
   "execution_count": null,
   "metadata": {},
   "outputs": [],
   "source": [
    "dt21[\"total_likes_by_spillover\"] = dt21[\"likes_by_spillover_\"+strat[0]] + dt21[\"likes_by_spillover_\"+strat[1]] + dt21[\"likes_by_spillover_\"+strat[2]]"
   ]
  },
  {
   "cell_type": "code",
   "execution_count": null,
   "metadata": {},
   "outputs": [],
   "source": [
    "dt21.columns"
   ]
  },
  {
   "cell_type": "code",
   "execution_count": null,
   "metadata": {},
   "outputs": [],
   "source": [
    "dt21.describe()"
   ]
  },
  {
   "cell_type": "code",
   "execution_count": null,
   "metadata": {},
   "outputs": [],
   "source": [
    "#data= data_pm.rename(columns={\"likes\":\"total_likes_by_product\"}).groupby([\"product_type\",\"Week\"]).sum().join(total_post)"
   ]
  },
  {
   "cell_type": "code",
   "execution_count": null,
   "metadata": {},
   "outputs": [],
   "source": [
    "dt3 = dt21#.groupby([\"product_type\",\"Week\"]).sum()"
   ]
  },
  {
   "cell_type": "code",
   "execution_count": null,
   "metadata": {},
   "outputs": [],
   "source": [
    "strat = [x for x in dt3.columns if not(re.search (\"type\",x)) and re.search(\"product\",x) and not(re.search(\"likes\",x))]\n",
    "strat"
   ]
  },
  {
   "cell_type": "code",
   "execution_count": null,
   "metadata": {},
   "outputs": [],
   "source": [
    "for col in strat:\n",
    "    if col==\"product_mention\":\n",
    "        continue\n",
    "        #dt3[\"avg_product_mention\"] = dt3[col]/dt3[\"total_post\"]\n",
    "    else:\n",
    "        dt3[\"avg_likes_\"+col] = dt3[\"likes_by_\"+col]/dt3[col]\n",
    "    \n",
    "    "
   ]
  },
  {
   "cell_type": "code",
   "execution_count": null,
   "metadata": {},
   "outputs": [],
   "source": [
    "dt3[\"avg_likes_product_model\"].nlargest(n=10)"
   ]
  },
  {
   "cell_type": "code",
   "execution_count": null,
   "metadata": {},
   "outputs": [],
   "source": [
    "dt3[\"avg_likes_total_spillover\"] = dt3[\"total_likes_by_spillover\"]/dt3[\"total_spillover\"]\n",
    "dt3 = dt3.replace([np.inf, -np.inf], np.nan).fillna(0)"
   ]
  },
  {
   "cell_type": "code",
   "execution_count": null,
   "metadata": {
    "scrolled": true
   },
   "outputs": [],
   "source": [
    "dt3.index.names = [\"product_type\",\"yymmdd\"]\n",
    "#dt3.head()"
   ]
  },
  {
   "cell_type": "code",
   "execution_count": null,
   "metadata": {},
   "outputs": [],
   "source": [
    "#max_likes = pd.read_excel(\"max_likes_daily_v1.xlsx\").set_index([\"product_type\", \"yymmdd\"])"
   ]
  },
  {
   "cell_type": "code",
   "execution_count": null,
   "metadata": {},
   "outputs": [],
   "source": [
    "#[\"max_likes_spillover\"] =  np.where(max_likes[\"max_likes_by_product_model_spillover\"] >= max_likes[\"max_likes_by_product_only_spillover\"], max_likes[\"max_likes_by_product_model_spillover\"],max_likes[\"max_likes_by_product_only_spillover\"])  "
   ]
  },
  {
   "cell_type": "code",
   "execution_count": null,
   "metadata": {},
   "outputs": [],
   "source": [
    "#max_likes.columns"
   ]
  },
  {
   "cell_type": "code",
   "execution_count": null,
   "metadata": {},
   "outputs": [],
   "source": [
    "#new_max = max_likes.loc[:,['max_likes_by_product_model', 'max_likes_by_product_only', 'max_likes_spillover']]"
   ]
  },
  {
   "cell_type": "code",
   "execution_count": null,
   "metadata": {},
   "outputs": [],
   "source": [
    "#dt4 = dt3.join(new_max)\n",
    "dt4 = dt3"
   ]
  },
  {
   "cell_type": "code",
   "execution_count": null,
   "metadata": {},
   "outputs": [],
   "source": [
    "dt4.shape"
   ]
  },
  {
   "cell_type": "code",
   "execution_count": null,
   "metadata": {},
   "outputs": [],
   "source": [
    "#dr=dt4.reset_index().rename(columns={\"product_type\":\"pd_code\",\"avg_product_mention\":\"avg_numProduct_mention\"})\n",
    "dr=dt4.reset_index().rename(columns={\"product_type\":\"pd_code\",\"product_mention\":\"numProduct_mention\"})"
   ]
  },
  {
   "cell_type": "code",
   "execution_count": null,
   "metadata": {},
   "outputs": [],
   "source": [
    "#dr_final = dr.loc[dr[\"pd_code\"]!=0]"
   ]
  },
  {
   "cell_type": "code",
   "execution_count": null,
   "metadata": {},
   "outputs": [],
   "source": [
    "dr.shape"
   ]
  },
  {
   "cell_type": "code",
   "execution_count": null,
   "metadata": {},
   "outputs": [],
   "source": [
    "dr.columns"
   ]
  },
  {
   "cell_type": "code",
   "execution_count": null,
   "metadata": {},
   "outputs": [],
   "source": [
    "dr.to_excel(\"3channel_wsm_ps_20201023.xlsx\",index=False)"
   ]
  },
  {
   "cell_type": "code",
   "execution_count": null,
   "metadata": {},
   "outputs": [],
   "source": [
    "dr[\"avg_likes_product_model\"].nlargest(n=10)"
   ]
  },
  {
   "cell_type": "code",
   "execution_count": null,
   "metadata": {},
   "outputs": [],
   "source": []
  }
 ],
 "metadata": {
  "colab": {
   "collapsed_sections": [],
   "name": "Fariz  Image_Ad_Regression_with_Collinearity_Notebook.ipynb",
   "provenance": [],
   "toc_visible": true,
   "version": "0.3.2"
  },
  "kernelspec": {
   "display_name": "Python 3",
   "language": "python",
   "name": "python3"
  },
  "language_info": {
   "codemirror_mode": {
    "name": "ipython",
    "version": 3
   },
   "file_extension": ".py",
   "mimetype": "text/x-python",
   "name": "python",
   "nbconvert_exporter": "python",
   "pygments_lexer": "ipython3",
   "version": "3.7.6"
  }
 },
 "nbformat": 4,
 "nbformat_minor": 1
}
