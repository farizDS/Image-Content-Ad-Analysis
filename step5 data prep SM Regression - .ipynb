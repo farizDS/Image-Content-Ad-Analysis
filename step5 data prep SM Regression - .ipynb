{
 "cells": [
  {
   "cell_type": "markdown",
   "metadata": {
    "colab_type": "text",
    "id": "L6v9InSln7fJ"
   },
   "source": [
    "\n",
    "![alt text](https://www.business.unsw.edu.au/style%20library/asb/assets/images/logo-unsw.png)\n",
    "__________________________________________________________________________________________________________________________________________________________________________________________________________________________________________________________________________________________________________________"
   ]
  },
  {
   "cell_type": "code",
   "execution_count": 52,
   "metadata": {
    "colab": {},
    "colab_type": "code",
    "id": "o0tRpQSrkEWA"
   },
   "outputs": [],
   "source": [
    "import pandas as pd\n",
    "import statsmodels.api as sm\n",
    "from statsmodels.stats.outliers_influence import variance_inflation_factor\n",
    "#from google.colab import files\n",
    "\n",
    "import matplotlib.pyplot as plt\n",
    "#import seaborn as sns; sns.set()\n",
    "import datetime\n",
    "%matplotlib inline "
   ]
  },
  {
   "cell_type": "code",
   "execution_count": 53,
   "metadata": {},
   "outputs": [],
   "source": [
    "from p_values import Variance_Inflation_Factor\n",
    "def variance_inflation_factor(x):\n",
    "    columns = x.columns\n",
    "    VIF = Variance_Inflation_Factor(x)\n",
    "    df_vif = pd.DataFrame({\"vif\": VIF})\n",
    "    df_vif = df_vif.set_index(columns)\n",
    "    return df_vif"
   ]
  },
  {
   "cell_type": "code",
   "execution_count": 54,
   "metadata": {
    "colab": {},
    "colab_type": "code",
    "id": "HjY2qDIVbh2x"
   },
   "outputs": [],
   "source": [
    "import calendar\n",
    "import re\n",
    "import pandas as pd, numpy as np\n",
    "from datetime import date"
   ]
  },
  {
   "cell_type": "code",
   "execution_count": 55,
   "metadata": {},
   "outputs": [],
   "source": [
    "remove_pict = [ x[4:] for x in ['avg_Depth of field_hue_Picture',\n",
    " 'avg_Depth of field_saturation_Picture',\n",
    " 'avg_Depth of field_value_Picture',\"avg_Color_balance_horizontal_Picture\", \"avg_Color_balance_vertical_Picture\",\n",
    "               \"avg_Clarity_Picture\",\"avg_Size_difference_Picture\",\n",
    "               \"avg_Saturation_Picture\",\"avg_Color_difference_Picture\",\n",
    "                \"avg_Texture_difference_Picture\",\"avg_ROT_Picture\",\"avg_Physical_ver_Picture\"]]"
   ]
  },
  {
   "cell_type": "code",
   "execution_count": 56,
   "metadata": {},
   "outputs": [],
   "source": [
    "#getting len text \n",
    "data_len = pd.read_csv(\"dhckorea2526posts_text_related_var_final.csv\", encoding='ISO-8859–1' )"
   ]
  },
  {
   "cell_type": "code",
   "execution_count": 57,
   "metadata": {},
   "outputs": [],
   "source": [
    "#getting nre data from yonsei\n",
    "data_yonsei = pd.read_excel(\"DHC Insta1426_20200823.xlsx\")\n",
    "data_yonsei.columns = data_yonsei.iloc[0]\n",
    "data_yonsei = data_yonsei.iloc[1:]"
   ]
  },
  {
   "cell_type": "code",
   "execution_count": 58,
   "metadata": {},
   "outputs": [
    {
     "data": {
      "text/plain": [
       "(1426, 141)"
      ]
     },
     "execution_count": 58,
     "metadata": {},
     "output_type": "execute_result"
    }
   ],
   "source": [
    "data_yonsei.shape"
   ]
  },
  {
   "cell_type": "code",
   "execution_count": 59,
   "metadata": {},
   "outputs": [],
   "source": [
    "subset_yonsei = [\"shortcode\",\"numPos\",\"numNeg\",\n",
    "\"numFocalPd\",\n",
    "\"numTotPd\",\n",
    "\"numBrand\",\n",
    "\"numModel\",\n",
    "\"numOYBrand\"\n",
    "]\n"
   ]
  },
  {
   "cell_type": "code",
   "execution_count": 60,
   "metadata": {},
   "outputs": [],
   "source": [
    "share_num = data_yonsei.loc[:,subset_yonsei]\n",
    "share_num[\"short_code\"] = share_num[\"shortcode\"].apply(lambda x:x+\".jpg\")\n",
    "share_num = share_num.set_index('short_code')\n",
    "share_num[\"numPos-Neg\"] = share_num[\"numPos\"]-share_num[\"numNeg\"]\n",
    "#share_num[\"num_PdMention\"] = share_num[\"numFocalPd\"]+share_num[\"numTotPd\"]\n",
    "share_num = share_num.drop(columns=[\"numTotPd\",\"shortcode\",\"numPos\",\"numNeg\"])"
   ]
  },
  {
   "cell_type": "code",
   "execution_count": 61,
   "metadata": {},
   "outputs": [
    {
     "data": {
      "text/html": [
       "<div>\n",
       "<style scoped>\n",
       "    .dataframe tbody tr th:only-of-type {\n",
       "        vertical-align: middle;\n",
       "    }\n",
       "\n",
       "    .dataframe tbody tr th {\n",
       "        vertical-align: top;\n",
       "    }\n",
       "\n",
       "    .dataframe thead th {\n",
       "        text-align: right;\n",
       "    }\n",
       "</style>\n",
       "<table border=\"1\" class=\"dataframe\">\n",
       "  <thead>\n",
       "    <tr style=\"text-align: right;\">\n",
       "      <th></th>\n",
       "      <th>numFocalPd</th>\n",
       "      <th>numBrand</th>\n",
       "      <th>numModel</th>\n",
       "      <th>numOYBrand</th>\n",
       "      <th>numPos-Neg</th>\n",
       "    </tr>\n",
       "    <tr>\n",
       "      <th>short_code</th>\n",
       "      <th></th>\n",
       "      <th></th>\n",
       "      <th></th>\n",
       "      <th></th>\n",
       "      <th></th>\n",
       "    </tr>\n",
       "  </thead>\n",
       "  <tbody>\n",
       "    <tr>\n",
       "      <th>BXB7JudD_dF.jpg</th>\n",
       "      <td>0</td>\n",
       "      <td>4</td>\n",
       "      <td>0</td>\n",
       "      <td>0</td>\n",
       "      <td>1</td>\n",
       "    </tr>\n",
       "    <tr>\n",
       "      <th>BCbtbYNtLkI.jpg</th>\n",
       "      <td>4</td>\n",
       "      <td>1</td>\n",
       "      <td>0</td>\n",
       "      <td>0</td>\n",
       "      <td>1</td>\n",
       "    </tr>\n",
       "    <tr>\n",
       "      <th>BCePOq-NLrG.jpg</th>\n",
       "      <td>0</td>\n",
       "      <td>7</td>\n",
       "      <td>0</td>\n",
       "      <td>0</td>\n",
       "      <td>2</td>\n",
       "    </tr>\n",
       "    <tr>\n",
       "      <th>BCgy0CeNLkf.jpg</th>\n",
       "      <td>0</td>\n",
       "      <td>4</td>\n",
       "      <td>0</td>\n",
       "      <td>0</td>\n",
       "      <td>2</td>\n",
       "    </tr>\n",
       "    <tr>\n",
       "      <th>BCkZZ27tflk.jpg</th>\n",
       "      <td>0</td>\n",
       "      <td>2</td>\n",
       "      <td>0</td>\n",
       "      <td>0</td>\n",
       "      <td>4</td>\n",
       "    </tr>\n",
       "  </tbody>\n",
       "</table>\n",
       "</div>"
      ],
      "text/plain": [
       "0               numFocalPd numBrand numModel numOYBrand numPos-Neg\n",
       "short_code                                                        \n",
       "BXB7JudD_dF.jpg          0        4        0          0          1\n",
       "BCbtbYNtLkI.jpg          4        1        0          0          1\n",
       "BCePOq-NLrG.jpg          0        7        0          0          2\n",
       "BCgy0CeNLkf.jpg          0        4        0          0          2\n",
       "BCkZZ27tflk.jpg          0        2        0          0          4"
      ]
     },
     "execution_count": 61,
     "metadata": {},
     "output_type": "execute_result"
    }
   ],
   "source": [
    "share_num.head()"
   ]
  },
  {
   "cell_type": "code",
   "execution_count": 62,
   "metadata": {},
   "outputs": [],
   "source": [
    "aug2020_cv = pd.read_excel(\"aug2020_control_variables.xlsx\").set_index(\"short_code\")"
   ]
  },
  {
   "cell_type": "code",
   "execution_count": 63,
   "metadata": {},
   "outputs": [],
   "source": [
    "Data_a = pd.read_excel(\"20201104_tv-SMData-dummydayshourweek.xlsx\")\n",
    "Data_b = Data_a.loc[~Data_a[\"short_code\"].isin([\"BcCy8B1lzCc.jpg\",\"BcGN3tYh4Rj.jpg\",\"BcENYeOgVs2.jpg\"])]\n",
    "Data = Data_a.set_index(\"short_code\")\n"
   ]
  },
  {
   "cell_type": "code",
   "execution_count": 64,
   "metadata": {},
   "outputs": [
    {
     "data": {
      "text/plain": [
       "(1426, 154)"
      ]
     },
     "execution_count": 64,
     "metadata": {},
     "output_type": "execute_result"
    }
   ],
   "source": [
    "Data_a.shape"
   ]
  },
  {
   "cell_type": "code",
   "execution_count": 65,
   "metadata": {},
   "outputs": [],
   "source": [
    "column_to_drop = remove_pict"
   ]
  },
  {
   "cell_type": "code",
   "execution_count": 66,
   "metadata": {},
   "outputs": [
    {
     "data": {
      "text/plain": [
       "(1426, 153)"
      ]
     },
     "execution_count": 66,
     "metadata": {},
     "output_type": "execute_result"
    }
   ],
   "source": [
    "Data.shape"
   ]
  },
  {
   "cell_type": "code",
   "execution_count": 67,
   "metadata": {},
   "outputs": [],
   "source": [
    "all_pict =  [ x for x in Data.columns if re.search(\"Picture\",x)]"
   ]
  },
  {
   "cell_type": "code",
   "execution_count": 68,
   "metadata": {},
   "outputs": [
    {
     "data": {
      "text/plain": [
       "['Colorfulness_Picture',\n",
       " 'Saturation_Picture',\n",
       " 'Contrast_Picture',\n",
       " 'Clarity_Picture',\n",
       " 'Brightness_Picture',\n",
       " 'Warm Hue_Picture',\n",
       " 'ROT_Picture',\n",
       " 'Diagonal_dominance_Picture',\n",
       " 'Physical_ver_Picture',\n",
       " 'Physical_Hor_Picture',\n",
       " 'Color_balance_vertical_Picture',\n",
       " 'Color_balance_horizontal_Picture',\n",
       " 'Texture_difference_Picture',\n",
       " 'Size_difference_Picture',\n",
       " 'Color_difference_Picture',\n",
       " 'Depth of field_hue_Picture',\n",
       " 'Depth of field_saturation_Picture',\n",
       " 'Depth of field_value_Picture']"
      ]
     },
     "execution_count": 68,
     "metadata": {},
     "output_type": "execute_result"
    }
   ],
   "source": [
    "all_pict"
   ]
  },
  {
   "cell_type": "code",
   "execution_count": 69,
   "metadata": {},
   "outputs": [],
   "source": [
    "#Data11= Data.drop(column_to_drop, axis=1)\n",
    "Data11=Data"
   ]
  },
  {
   "cell_type": "code",
   "execution_count": 70,
   "metadata": {},
   "outputs": [],
   "source": [
    "Data2 = Data11.join(aug2020_cv)"
   ]
  },
  {
   "cell_type": "code",
   "execution_count": 71,
   "metadata": {},
   "outputs": [
    {
     "data": {
      "text/plain": [
       "Index(['Week', 'model_exist', 'taken_at_timestamp', 'Colorfulness_Picture',\n",
       "       'Saturation_Picture', 'Contrast_Picture', 'Clarity_Picture',\n",
       "       'Brightness_Picture', 'Warm Hue_Picture', 'ROT_Picture',\n",
       "       ...\n",
       "       'dummy_Week_94', 'dummy_Week_95', 'dummy_Week_96', 'log_comment',\n",
       "       'log_followers', 'posts', 'smile', 'post_age', 'image_size_kilobytes',\n",
       "       'tag_numb'],\n",
       "      dtype='object', length=160)"
      ]
     },
     "execution_count": 71,
     "metadata": {},
     "output_type": "execute_result"
    }
   ],
   "source": [
    "Data2.columns"
   ]
  },
  {
   "cell_type": "code",
   "execution_count": 72,
   "metadata": {},
   "outputs": [
    {
     "data": {
      "text/plain": [
       "Index(['numFocalPd', 'numBrand', 'numModel', 'numOYBrand', 'numPos-Neg'], dtype='object', name=0)"
      ]
     },
     "execution_count": 72,
     "metadata": {},
     "output_type": "execute_result"
    }
   ],
   "source": [
    "share_num.columns"
   ]
  },
  {
   "cell_type": "code",
   "execution_count": 73,
   "metadata": {},
   "outputs": [],
   "source": [
    "share_num2 = share_num.join(Data2[\"log_len_text_total\"])\n",
    "share_num2[\"len_text_total\"] = share_num2[\"log_len_text_total\"].apply(lambda x:np.exp(x))\n",
    "for col in share_num.columns:\n",
    "    if col in ['numPos', 'numNeg']:\n",
    "        #pass\n",
    "        #share_num2[col] = share_num2[col].apply(lambda x:1 if x>1 else 0)\n",
    "        share_num2[col] = share_num2[col]/share_num2[\"len_text_total\"]\n",
    "    else:\n",
    "        #pass\n",
    "        #share_num2[col] = share_num2[col].apply(lambda x:1 if x>1 else 0)\n",
    "        share_num2[col] = share_num2[col]/share_num2[\"len_text_total\"]\n",
    "share_num2 = share_num2.drop(columns=[\"log_len_text_total\",\"len_text_total\"])"
   ]
  },
  {
   "cell_type": "markdown",
   "metadata": {},
   "source": [
    "# binary numShare"
   ]
  },
  {
   "cell_type": "markdown",
   "metadata": {},
   "source": [
    "drop_ori=list()\n",
    "for col in share_num2:\n",
    "    if col==\"len_text_total\":\n",
    "        continue\n",
    "    else:\n",
    "        drop_ori.append(col)\n",
    "        share_num2[col+\"_binary\"]=share_num2[col].apply(lambda x:1 if x>0  else 0)\n",
    "        #share_num2[col+\"_binary/txt\"] = share_num2[col+\"_binary\"] / share_num2[\"len_text_total\"]\n",
    "        #drop_ori.append(col+\"_binary\")\n",
    "share_num2 = share_num2.drop(columns=drop_ori+[\"len_text_total\"])"
   ]
  },
  {
   "cell_type": "code",
   "execution_count": 74,
   "metadata": {},
   "outputs": [
    {
     "data": {
      "text/html": [
       "<div>\n",
       "<style scoped>\n",
       "    .dataframe tbody tr th:only-of-type {\n",
       "        vertical-align: middle;\n",
       "    }\n",
       "\n",
       "    .dataframe tbody tr th {\n",
       "        vertical-align: top;\n",
       "    }\n",
       "\n",
       "    .dataframe thead th {\n",
       "        text-align: right;\n",
       "    }\n",
       "</style>\n",
       "<table border=\"1\" class=\"dataframe\">\n",
       "  <thead>\n",
       "    <tr style=\"text-align: right;\">\n",
       "      <th></th>\n",
       "      <th>numFocalPd</th>\n",
       "      <th>numBrand</th>\n",
       "      <th>numModel</th>\n",
       "      <th>numOYBrand</th>\n",
       "      <th>numPos-Neg</th>\n",
       "    </tr>\n",
       "    <tr>\n",
       "      <th>short_code</th>\n",
       "      <th></th>\n",
       "      <th></th>\n",
       "      <th></th>\n",
       "      <th></th>\n",
       "      <th></th>\n",
       "    </tr>\n",
       "  </thead>\n",
       "  <tbody>\n",
       "    <tr>\n",
       "      <th>BXB7JudD_dF.jpg</th>\n",
       "      <td>0</td>\n",
       "      <td>0.0175439</td>\n",
       "      <td>0</td>\n",
       "      <td>0</td>\n",
       "      <td>0.00438596</td>\n",
       "    </tr>\n",
       "    <tr>\n",
       "      <th>BCbtbYNtLkI.jpg</th>\n",
       "      <td>0.0148699</td>\n",
       "      <td>0.00371747</td>\n",
       "      <td>0</td>\n",
       "      <td>0</td>\n",
       "      <td>0.00371747</td>\n",
       "    </tr>\n",
       "    <tr>\n",
       "      <th>BCePOq-NLrG.jpg</th>\n",
       "      <td>0</td>\n",
       "      <td>0.030837</td>\n",
       "      <td>0</td>\n",
       "      <td>0</td>\n",
       "      <td>0.00881057</td>\n",
       "    </tr>\n",
       "    <tr>\n",
       "      <th>BCgy0CeNLkf.jpg</th>\n",
       "      <td>0</td>\n",
       "      <td>0.0188679</td>\n",
       "      <td>0</td>\n",
       "      <td>0</td>\n",
       "      <td>0.00943396</td>\n",
       "    </tr>\n",
       "    <tr>\n",
       "      <th>BCkZZ27tflk.jpg</th>\n",
       "      <td>0</td>\n",
       "      <td>0.0123457</td>\n",
       "      <td>0</td>\n",
       "      <td>0</td>\n",
       "      <td>0.0246914</td>\n",
       "    </tr>\n",
       "  </tbody>\n",
       "</table>\n",
       "</div>"
      ],
      "text/plain": [
       "                numFocalPd    numBrand numModel numOYBrand  numPos-Neg\n",
       "short_code                                                            \n",
       "BXB7JudD_dF.jpg          0   0.0175439        0          0  0.00438596\n",
       "BCbtbYNtLkI.jpg  0.0148699  0.00371747        0          0  0.00371747\n",
       "BCePOq-NLrG.jpg          0    0.030837        0          0  0.00881057\n",
       "BCgy0CeNLkf.jpg          0   0.0188679        0          0  0.00943396\n",
       "BCkZZ27tflk.jpg          0   0.0123457        0          0   0.0246914"
      ]
     },
     "execution_count": 74,
     "metadata": {},
     "output_type": "execute_result"
    }
   ],
   "source": [
    "share_num2.head()"
   ]
  },
  {
   "cell_type": "code",
   "execution_count": 75,
   "metadata": {},
   "outputs": [
    {
     "data": {
      "text/plain": [
       "Index(['log_comment', 'log_followers', 'posts', 'smile', 'post_age',\n",
       "       'image_size_kilobytes', 'tag_numb'],\n",
       "      dtype='object')"
      ]
     },
     "execution_count": 75,
     "metadata": {},
     "output_type": "execute_result"
    }
   ],
   "source": [
    "aug2020_cv.columns"
   ]
  },
  {
   "cell_type": "code",
   "execution_count": 76,
   "metadata": {},
   "outputs": [
    {
     "data": {
      "text/plain": [
       "['Colorfulness_Picture',\n",
       " 'Saturation_Picture',\n",
       " 'Contrast_Picture',\n",
       " 'Clarity_Picture',\n",
       " 'Brightness_Picture',\n",
       " 'Warm Hue_Picture',\n",
       " 'ROT_Picture',\n",
       " 'Diagonal_dominance_Picture',\n",
       " 'Physical_ver_Picture',\n",
       " 'Physical_Hor_Picture',\n",
       " 'Color_balance_vertical_Picture',\n",
       " 'Color_balance_horizontal_Picture',\n",
       " 'Texture_difference_Picture',\n",
       " 'Size_difference_Picture',\n",
       " 'Color_difference_Picture',\n",
       " 'Depth of field_hue_Picture',\n",
       " 'Depth of field_saturation_Picture',\n",
       " 'Depth of field_value_Picture']"
      ]
     },
     "execution_count": 76,
     "metadata": {},
     "output_type": "execute_result"
    }
   ],
   "source": [
    "[x for x in Data2.columns if re.search(\"Picture\",x)]"
   ]
  },
  {
   "cell_type": "code",
   "execution_count": 77,
   "metadata": {},
   "outputs": [],
   "source": [
    "#remove log so you can use non log of following and followers\n",
    "#for col in [\"posts\",\"tag_numb\"]:\n",
    "    #print(Data2[col].min())\n",
    "    #Data2[\"log_\"+col] = np.log(Data2[col])"
   ]
  },
  {
   "cell_type": "code",
   "execution_count": null,
   "metadata": {},
   "outputs": [],
   "source": []
  },
  {
   "cell_type": "code",
   "execution_count": 78,
   "metadata": {},
   "outputs": [],
   "source": [
    "#selected_pict = [x for x in Data2.columns if re.search(\"Picture\",x)]"
   ]
  },
  {
   "cell_type": "code",
   "execution_count": 79,
   "metadata": {},
   "outputs": [],
   "source": [
    "for col in [\"Contrast_Picture\"]:\n",
    "    #pass\n",
    "    avg = Data2[col].mean()\n",
    "    Data2[col+\"_z\"] = Data2[col]-avg\n",
    "    Data2[col+\"^2\"] = np.square(Data2[col+\"_z\"]) "
   ]
  },
  {
   "cell_type": "code",
   "execution_count": 80,
   "metadata": {},
   "outputs": [],
   "source": [
    "log_IV = [x for x in Data2.columns if re.search(\"log\",x) and not(re.search(\"_likes\",x))]"
   ]
  },
  {
   "cell_type": "code",
   "execution_count": 81,
   "metadata": {},
   "outputs": [],
   "source": [
    "#remove Log\n",
    "for col in log_IV:\n",
    "    Data2[col[4:]] = np.exp(Data2[col])"
   ]
  },
  {
   "cell_type": "code",
   "execution_count": null,
   "metadata": {},
   "outputs": [],
   "source": []
  },
  {
   "cell_type": "code",
   "execution_count": null,
   "metadata": {},
   "outputs": [],
   "source": []
  },
  {
   "cell_type": "raw",
   "metadata": {},
   "source": [
    "Data2[\"faces\"] = Data2[\"faces\"].astype(int)-1\n",
    "Data2[\"temp\"] = Data2[\"product_only\"]+Data2[\"product_model\"]+Data2[\"model_only\"]\n",
    "Data2[\"product_users\"] = np.where((Data2[\"product_only\"]==1) & (Data2[\"faces\"]>0),1,0)\n",
    "Data2[\"users_only\"] = np.where((Data2[\"temp\"]==0) & (Data2[\"faces\"]>0) ,1,0)\n",
    "Data2[\"product_only\"] = np.where((Data2[\"product_only\"]==1) & (Data2[\"faces\"]==0),1,0)\n",
    "Data2[\"none_FGC\"] = np.where((Data2[\"temp\"]==0) & (Data2[\"dummy_motivation_offic\"]==1) & (Data2[\"faces\"]==0), 1,0)\n",
    "#Data2[\"none_UGC\"] = np.where((Data2[\"temp\"]==0) & (Data2[\"dummy_motivation_offic\"]==0), 1,0)"
   ]
  },
  {
   "cell_type": "code",
   "execution_count": null,
   "metadata": {},
   "outputs": [],
   "source": []
  },
  {
   "cell_type": "markdown",
   "metadata": {},
   "source": [
    "Data_count = Data2.copy()\n",
    "Data_count[\"none_UGC\"] =  np.where((Data2[\"temp\"]==0) & (Data2[\"dummy_motivation_offic\"]==0) & (Data2[\"faces\"]==0), 1,0)\n",
    "Data_count[\"source\"] = np.where(Data_count[\"dummy_motivation_offic\"]==1,\"official\",\"user\")\n",
    "Data_count.groupby(\"source\").sum()[[\"product_only\",\"product_model\",\"model_only\",\"product_users\",\"users_only\",\"none_FGC\",\"none_UGC\"]].T"
   ]
  },
  {
   "cell_type": "markdown",
   "metadata": {},
   "source": [
    "Data2[\"redudancy\"] = Data2.loc[:,[\"product_only\",\"product_model\",\"model_only\",\"product_users\",\"users_only\",\"none_FGC\"]].sum(axis=1)\n",
    "Data2.loc[Data2[\"redudancy\"]>1]"
   ]
  },
  {
   "cell_type": "code",
   "execution_count": 82,
   "metadata": {},
   "outputs": [
    {
     "data": {
      "text/plain": [
       "0    818\n",
       "1    608\n",
       "Name: product_only, dtype: int64"
      ]
     },
     "execution_count": 82,
     "metadata": {},
     "output_type": "execute_result"
    }
   ],
   "source": [
    "Data2[\"product_only\"].value_counts()"
   ]
  },
  {
   "cell_type": "code",
   "execution_count": 83,
   "metadata": {},
   "outputs": [],
   "source": [
    "#divide 1000 to increase coefficient\n",
    "for col in [\"followers\",\"following\",\"posts\"]:\n",
    "    Data2[col] = Data2[col].apply(lambda x: x/1000)"
   ]
  },
  {
   "cell_type": "code",
   "execution_count": null,
   "metadata": {},
   "outputs": [],
   "source": []
  },
  {
   "cell_type": "code",
   "execution_count": 84,
   "metadata": {},
   "outputs": [],
   "source": [
    "Data3 = Data2.join(share_num2)"
   ]
  },
  {
   "cell_type": "code",
   "execution_count": 85,
   "metadata": {},
   "outputs": [
    {
     "data": {
      "text/plain": [
       "product_model     93\n",
       "product_only     608\n",
       "model_only       371\n",
       "dtype: int64"
      ]
     },
     "execution_count": 85,
     "metadata": {},
     "output_type": "execute_result"
    }
   ],
   "source": [
    "Data3.loc[:,['product_model',\n",
    "       'product_only', 'model_only',]].sum()"
   ]
  },
  {
   "cell_type": "code",
   "execution_count": 86,
   "metadata": {},
   "outputs": [],
   "source": [
    "#Data3.to_excel(\"Complete_SMdata20200911.xlsx\")"
   ]
  },
  {
   "cell_type": "code",
   "execution_count": 87,
   "metadata": {},
   "outputs": [
    {
     "data": {
      "text/plain": [
       "Index(['numFocalPd', 'numBrand', 'numModel', 'numOYBrand', 'numPos-Neg'], dtype='object', name=0)"
      ]
     },
     "execution_count": 87,
     "metadata": {},
     "output_type": "execute_result"
    }
   ],
   "source": [
    "share_num.columns"
   ]
  },
  {
   "cell_type": "code",
   "execution_count": 88,
   "metadata": {},
   "outputs": [
    {
     "data": {
      "text/plain": [
       "['dummy_motivation_event', 'dummy_motivation_offic']"
      ]
     },
     "execution_count": 88,
     "metadata": {},
     "output_type": "execute_result"
    }
   ],
   "source": [
    "[x for x in Data3.columns if re.search(\"motivation\",x)]"
   ]
  },
  {
   "cell_type": "code",
   "execution_count": 89,
   "metadata": {},
   "outputs": [],
   "source": [
    "Data6 = Data3.drop([\"model_exist\",\"product_type\",\"Contrast_Picture\",\"Contrast_Picture^2\",\n",
    "                \"image_size_kilobytes\",\"tag_numb\",'comment',\n",
    "                \"Week\",\"taken_at_timestamp\",'log_comment',\n",
    "                'post_age',\"smile\"]+log_IV+remove_pict, axis=1).astype(float)\n"
   ]
  },
  {
   "cell_type": "code",
   "execution_count": 90,
   "metadata": {},
   "outputs": [],
   "source": [
    "#for SM Regression\n",
    "Data6.to_excel(\"20201123-tv_smvariables.xlsx\")"
   ]
  },
  {
   "cell_type": "code",
   "execution_count": 91,
   "metadata": {
    "scrolled": true
   },
   "outputs": [
    {
     "ename": "NameError",
     "evalue": "name 'Dstop' is not defined",
     "output_type": "error",
     "traceback": [
      "\u001b[1;31m---------------------------------------------------------------------------\u001b[0m",
      "\u001b[1;31mNameError\u001b[0m                                 Traceback (most recent call last)",
      "\u001b[1;32m<ipython-input-91-efe7422cb263>\u001b[0m in \u001b[0;36m<module>\u001b[1;34m\u001b[0m\n\u001b[1;32m----> 1\u001b[1;33m \u001b[0mDstop\u001b[0m\u001b[1;33m\u001b[0m\u001b[1;33m\u001b[0m\u001b[0m\n\u001b[0m",
      "\u001b[1;31mNameError\u001b[0m: name 'Dstop' is not defined"
     ]
    }
   ],
   "source": [
    "Dstop"
   ]
  },
  {
   "cell_type": "markdown",
   "metadata": {},
   "source": [
    "# for sales"
   ]
  },
  {
   "cell_type": "code",
   "execution_count": null,
   "metadata": {},
   "outputs": [],
   "source": [
    "DataSales = Data3.drop([\"model_exist\",\"product_type\",\"Contrast_Picture\",\"Contrast_Picture^2\",\n",
    "                \"image_size_kilobytes\",\"tag_numb\",'comment',\n",
    "                'log_comment',\n",
    "                'post_age',\"smile\"]+log_IV+remove_pict, axis=1).astype(float)\n"
   ]
  },
  {
   "cell_type": "code",
   "execution_count": null,
   "metadata": {},
   "outputs": [],
   "source": [
    "DataSales.to_excel(\"20201104-tv_smvariables-sales.xlsx\")"
   ]
  },
  {
   "cell_type": "code",
   "execution_count": null,
   "metadata": {},
   "outputs": [],
   "source": []
  }
 ],
 "metadata": {
  "colab": {
   "collapsed_sections": [],
   "name": "Fariz  Image_Ad_Regression_with_Collinearity_Notebook.ipynb",
   "provenance": [],
   "toc_visible": true,
   "version": "0.3.2"
  },
  "kernelspec": {
   "display_name": "Python 3",
   "language": "python",
   "name": "python3"
  },
  "language_info": {
   "codemirror_mode": {
    "name": "ipython",
    "version": 3
   },
   "file_extension": ".py",
   "mimetype": "text/x-python",
   "name": "python",
   "nbconvert_exporter": "python",
   "pygments_lexer": "ipython3",
   "version": "3.8.5"
  }
 },
 "nbformat": 4,
 "nbformat_minor": 1
}
