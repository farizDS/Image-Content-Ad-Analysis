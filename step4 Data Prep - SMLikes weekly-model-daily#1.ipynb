{
 "cells": [
  {
   "cell_type": "markdown",
   "metadata": {
    "colab_type": "text",
    "id": "L6v9InSln7fJ"
   },
   "source": [
    "\n",
    "![alt text](https://www.business.unsw.edu.au/style%20library/asb/assets/images/logo-unsw.png)\n",
    "__________________________________________________________________________________________________________________________________________________________________________________________________________________________________________________________________________________________________________________"
   ]
  },
  {
   "cell_type": "code",
   "execution_count": 1,
   "metadata": {
    "colab": {},
    "colab_type": "code",
    "id": "o0tRpQSrkEWA"
   },
   "outputs": [],
   "source": [
    "import pandas as pd\n",
    "import statsmodels.api as sm\n",
    "from statsmodels.stats.outliers_influence import variance_inflation_factor\n",
    "#from google.colab import files\n",
    "\n",
    "import matplotlib.pyplot as plt\n",
    "import seaborn as sns; sns.set()\n",
    "from datetime import timedelta\n",
    "%matplotlib inline "
   ]
  },
  {
   "cell_type": "code",
   "execution_count": 2,
   "metadata": {},
   "outputs": [],
   "source": [
    "from p_values import Variance_Inflation_Factor\n",
    "def variance_inflation_factor(x):\n",
    "    columns = x.columns\n",
    "    VIF = Variance_Inflation_Factor(x)\n",
    "    df_vif = pd.DataFrame({\"vif\": VIF})\n",
    "    df_vif = df_vif.set_index(columns)\n",
    "    return df_vif"
   ]
  },
  {
   "cell_type": "code",
   "execution_count": 3,
   "metadata": {
    "colab": {},
    "colab_type": "code",
    "id": "HjY2qDIVbh2x"
   },
   "outputs": [],
   "source": [
    "import calendar\n",
    "import re\n",
    "import pandas as pd, numpy as np\n",
    "from datetime import date"
   ]
  },
  {
   "cell_type": "code",
   "execution_count": 4,
   "metadata": {},
   "outputs": [],
   "source": [
    "data_raw = pd.read_excel(\"20200915_ivariables.xlsx\").set_index(\"short_code\").fillna(0)\n",
    "#likes = pd.read_excel(\"ads_each_week_all_products_only_v2.xlsx\").set_index(\"short_code\")[\"likes\"]"
   ]
  },
  {
   "cell_type": "code",
   "execution_count": 5,
   "metadata": {},
   "outputs": [
    {
     "data": {
      "text/plain": [
       "Week                    5.000000e+00\n",
       "model_exist             0.000000e+00\n",
       "taken_at_timestamp      1.456884e+09\n",
       "Colorfulness_Picture    0.000000e+00\n",
       "Saturation_Picture      0.000000e+00\n",
       "                            ...     \n",
       "followers               4.000000e-03\n",
       "numBrand                0.000000e+00\n",
       "numModel                0.000000e+00\n",
       "numOYBrand              0.000000e+00\n",
       "numPos-Neg             -1.034483e-01\n",
       "Length: 160, dtype: float64"
      ]
     },
     "execution_count": 5,
     "metadata": {},
     "output_type": "execute_result"
    }
   ],
   "source": [
    "data_raw.min()"
   ]
  },
  {
   "cell_type": "code",
   "execution_count": 6,
   "metadata": {},
   "outputs": [],
   "source": [
    "#add 4 because in sales data we use week 5+4\n",
    "data_raw[\"Week\"]=data_raw[\"Week\"]+4"
   ]
  },
  {
   "cell_type": "code",
   "execution_count": 7,
   "metadata": {},
   "outputs": [],
   "source": [
    "unused1 = [x for x in data_raw.columns if (re.search(\"dummy\",x))]"
   ]
  },
  {
   "cell_type": "code",
   "execution_count": 8,
   "metadata": {},
   "outputs": [],
   "source": [
    "unused_control = [x for x in data_raw.columns if not((re.search(\"likes\",x) or re.search(\"dom\",x)) or (re.search(\"Picture\",x)) or (re.search(\"difference\",x)))\n",
    "                 and not(re.search(\"likes\",x)) \n",
    "                  and not(re.search('product_only',x)) \n",
    "                  and not(re.search('product_model',x)) \n",
    "                  and not(re.search('model_only',x))\n",
    "                 and not(re.search('taken_at_timestamp',x))]"
   ]
  },
  {
   "cell_type": "code",
   "execution_count": 9,
   "metadata": {},
   "outputs": [],
   "source": [
    "data_raw1 = data_raw.drop(columns=unused1)"
   ]
  },
  {
   "cell_type": "code",
   "execution_count": 10,
   "metadata": {},
   "outputs": [],
   "source": [
    "data_raw1[\"yymmdd\"]= data_raw1[\"taken_at_timestamp\"].apply(date.fromtimestamp)"
   ]
  },
  {
   "cell_type": "code",
   "execution_count": 11,
   "metadata": {},
   "outputs": [],
   "source": [
    "data_raw2 = data_raw1.drop(columns=[\"taken_at_timestamp\"])"
   ]
  },
  {
   "cell_type": "code",
   "execution_count": 12,
   "metadata": {},
   "outputs": [
    {
     "data": {
      "text/html": [
       "<div>\n",
       "<style scoped>\n",
       "    .dataframe tbody tr th:only-of-type {\n",
       "        vertical-align: middle;\n",
       "    }\n",
       "\n",
       "    .dataframe tbody tr th {\n",
       "        vertical-align: top;\n",
       "    }\n",
       "\n",
       "    .dataframe thead th {\n",
       "        text-align: right;\n",
       "    }\n",
       "</style>\n",
       "<table border=\"1\" class=\"dataframe\">\n",
       "  <thead>\n",
       "    <tr style=\"text-align: right;\">\n",
       "      <th></th>\n",
       "      <th>Week</th>\n",
       "      <th>model_exist</th>\n",
       "      <th>Colorfulness_Picture</th>\n",
       "      <th>Saturation_Picture</th>\n",
       "      <th>Clarity_Picture</th>\n",
       "      <th>Brightness_Picture</th>\n",
       "      <th>Warm Hue_Picture</th>\n",
       "      <th>ROT_Picture</th>\n",
       "      <th>Diagonal_dominance_Picture</th>\n",
       "      <th>Physical_ver_Picture</th>\n",
       "      <th>...</th>\n",
       "      <th>len_text_total</th>\n",
       "      <th>faces</th>\n",
       "      <th>following</th>\n",
       "      <th>ikes-1day</th>\n",
       "      <th>followers</th>\n",
       "      <th>numBrand</th>\n",
       "      <th>numModel</th>\n",
       "      <th>numOYBrand</th>\n",
       "      <th>numPos-Neg</th>\n",
       "      <th>yymmdd</th>\n",
       "    </tr>\n",
       "    <tr>\n",
       "      <th>short_code</th>\n",
       "      <th></th>\n",
       "      <th></th>\n",
       "      <th></th>\n",
       "      <th></th>\n",
       "      <th></th>\n",
       "      <th></th>\n",
       "      <th></th>\n",
       "      <th></th>\n",
       "      <th></th>\n",
       "      <th></th>\n",
       "      <th></th>\n",
       "      <th></th>\n",
       "      <th></th>\n",
       "      <th></th>\n",
       "      <th></th>\n",
       "      <th></th>\n",
       "      <th></th>\n",
       "      <th></th>\n",
       "      <th></th>\n",
       "      <th></th>\n",
       "      <th></th>\n",
       "    </tr>\n",
       "  </thead>\n",
       "  <tbody>\n",
       "    <tr>\n",
       "      <th>BCbtbYNtLkI.jpg</th>\n",
       "      <td>9</td>\n",
       "      <td>0</td>\n",
       "      <td>0.221429</td>\n",
       "      <td>0.131804</td>\n",
       "      <td>1.0</td>\n",
       "      <td>0.548431</td>\n",
       "      <td>0.53</td>\n",
       "      <td>0.507879</td>\n",
       "      <td>0.106667</td>\n",
       "      <td>0.103448</td>\n",
       "      <td>...</td>\n",
       "      <td>269.0</td>\n",
       "      <td>1.0</td>\n",
       "      <td>2.199</td>\n",
       "      <td>30.0</td>\n",
       "      <td>6.972</td>\n",
       "      <td>0.003717</td>\n",
       "      <td>0.000000</td>\n",
       "      <td>0.0</td>\n",
       "      <td>0.003717</td>\n",
       "      <td>2016-03-02</td>\n",
       "    </tr>\n",
       "    <tr>\n",
       "      <th>BCePOq-NLrG.jpg</th>\n",
       "      <td>9</td>\n",
       "      <td>0</td>\n",
       "      <td>0.192857</td>\n",
       "      <td>0.182863</td>\n",
       "      <td>1.0</td>\n",
       "      <td>0.662118</td>\n",
       "      <td>0.74</td>\n",
       "      <td>0.447854</td>\n",
       "      <td>0.248889</td>\n",
       "      <td>0.336207</td>\n",
       "      <td>...</td>\n",
       "      <td>227.0</td>\n",
       "      <td>1.0</td>\n",
       "      <td>2.199</td>\n",
       "      <td>107.0</td>\n",
       "      <td>6.972</td>\n",
       "      <td>0.030837</td>\n",
       "      <td>0.000000</td>\n",
       "      <td>0.0</td>\n",
       "      <td>0.008811</td>\n",
       "      <td>2016-03-03</td>\n",
       "    </tr>\n",
       "    <tr>\n",
       "      <th>BCgy0CeNLkf.jpg</th>\n",
       "      <td>9</td>\n",
       "      <td>0</td>\n",
       "      <td>0.242857</td>\n",
       "      <td>0.220941</td>\n",
       "      <td>1.0</td>\n",
       "      <td>0.589333</td>\n",
       "      <td>0.46</td>\n",
       "      <td>0.515815</td>\n",
       "      <td>0.422222</td>\n",
       "      <td>0.017241</td>\n",
       "      <td>...</td>\n",
       "      <td>212.0</td>\n",
       "      <td>1.0</td>\n",
       "      <td>2.199</td>\n",
       "      <td>99.0</td>\n",
       "      <td>6.972</td>\n",
       "      <td>0.018868</td>\n",
       "      <td>0.000000</td>\n",
       "      <td>0.0</td>\n",
       "      <td>0.009434</td>\n",
       "      <td>2016-03-04</td>\n",
       "    </tr>\n",
       "    <tr>\n",
       "      <th>BCkZZ27tflk.jpg</th>\n",
       "      <td>9</td>\n",
       "      <td>0</td>\n",
       "      <td>0.435714</td>\n",
       "      <td>0.228000</td>\n",
       "      <td>1.0</td>\n",
       "      <td>0.726902</td>\n",
       "      <td>0.39</td>\n",
       "      <td>0.398449</td>\n",
       "      <td>0.297778</td>\n",
       "      <td>0.120690</td>\n",
       "      <td>...</td>\n",
       "      <td>162.0</td>\n",
       "      <td>1.0</td>\n",
       "      <td>5.175</td>\n",
       "      <td>102.0</td>\n",
       "      <td>5.499</td>\n",
       "      <td>0.012346</td>\n",
       "      <td>0.000000</td>\n",
       "      <td>0.0</td>\n",
       "      <td>0.024691</td>\n",
       "      <td>2016-03-05</td>\n",
       "    </tr>\n",
       "    <tr>\n",
       "      <th>BCmbjwyu6Fo.jpg</th>\n",
       "      <td>9</td>\n",
       "      <td>1</td>\n",
       "      <td>0.328571</td>\n",
       "      <td>0.230039</td>\n",
       "      <td>1.0</td>\n",
       "      <td>0.762353</td>\n",
       "      <td>0.47</td>\n",
       "      <td>0.421432</td>\n",
       "      <td>0.333333</td>\n",
       "      <td>0.422414</td>\n",
       "      <td>...</td>\n",
       "      <td>52.0</td>\n",
       "      <td>2.0</td>\n",
       "      <td>2.441</td>\n",
       "      <td>126.0</td>\n",
       "      <td>0.611</td>\n",
       "      <td>0.057692</td>\n",
       "      <td>0.057692</td>\n",
       "      <td>0.0</td>\n",
       "      <td>0.000000</td>\n",
       "      <td>2016-03-06</td>\n",
       "    </tr>\n",
       "  </tbody>\n",
       "</table>\n",
       "<p>5 rows × 38 columns</p>\n",
       "</div>"
      ],
      "text/plain": [
       "                 Week  model_exist  Colorfulness_Picture  Saturation_Picture  \\\n",
       "short_code                                                                     \n",
       "BCbtbYNtLkI.jpg     9            0              0.221429            0.131804   \n",
       "BCePOq-NLrG.jpg     9            0              0.192857            0.182863   \n",
       "BCgy0CeNLkf.jpg     9            0              0.242857            0.220941   \n",
       "BCkZZ27tflk.jpg     9            0              0.435714            0.228000   \n",
       "BCmbjwyu6Fo.jpg     9            1              0.328571            0.230039   \n",
       "\n",
       "                 Clarity_Picture  Brightness_Picture  Warm Hue_Picture  \\\n",
       "short_code                                                               \n",
       "BCbtbYNtLkI.jpg              1.0            0.548431              0.53   \n",
       "BCePOq-NLrG.jpg              1.0            0.662118              0.74   \n",
       "BCgy0CeNLkf.jpg              1.0            0.589333              0.46   \n",
       "BCkZZ27tflk.jpg              1.0            0.726902              0.39   \n",
       "BCmbjwyu6Fo.jpg              1.0            0.762353              0.47   \n",
       "\n",
       "                 ROT_Picture  Diagonal_dominance_Picture  \\\n",
       "short_code                                                 \n",
       "BCbtbYNtLkI.jpg     0.507879                    0.106667   \n",
       "BCePOq-NLrG.jpg     0.447854                    0.248889   \n",
       "BCgy0CeNLkf.jpg     0.515815                    0.422222   \n",
       "BCkZZ27tflk.jpg     0.398449                    0.297778   \n",
       "BCmbjwyu6Fo.jpg     0.421432                    0.333333   \n",
       "\n",
       "                 Physical_ver_Picture  ...  len_text_total  faces  following  \\\n",
       "short_code                             ...                                     \n",
       "BCbtbYNtLkI.jpg              0.103448  ...           269.0    1.0      2.199   \n",
       "BCePOq-NLrG.jpg              0.336207  ...           227.0    1.0      2.199   \n",
       "BCgy0CeNLkf.jpg              0.017241  ...           212.0    1.0      2.199   \n",
       "BCkZZ27tflk.jpg              0.120690  ...           162.0    1.0      5.175   \n",
       "BCmbjwyu6Fo.jpg              0.422414  ...            52.0    2.0      2.441   \n",
       "\n",
       "                 ikes-1day  followers  numBrand  numModel  numOYBrand  \\\n",
       "short_code                                                              \n",
       "BCbtbYNtLkI.jpg       30.0      6.972  0.003717  0.000000         0.0   \n",
       "BCePOq-NLrG.jpg      107.0      6.972  0.030837  0.000000         0.0   \n",
       "BCgy0CeNLkf.jpg       99.0      6.972  0.018868  0.000000         0.0   \n",
       "BCkZZ27tflk.jpg      102.0      5.499  0.012346  0.000000         0.0   \n",
       "BCmbjwyu6Fo.jpg      126.0      0.611  0.057692  0.057692         0.0   \n",
       "\n",
       "                 numPos-Neg      yymmdd  \n",
       "short_code                               \n",
       "BCbtbYNtLkI.jpg    0.003717  2016-03-02  \n",
       "BCePOq-NLrG.jpg    0.008811  2016-03-03  \n",
       "BCgy0CeNLkf.jpg    0.009434  2016-03-04  \n",
       "BCkZZ27tflk.jpg    0.024691  2016-03-05  \n",
       "BCmbjwyu6Fo.jpg    0.000000  2016-03-06  \n",
       "\n",
       "[5 rows x 38 columns]"
      ]
     },
     "execution_count": 12,
     "metadata": {},
     "output_type": "execute_result"
    }
   ],
   "source": [
    "data_raw2.head()"
   ]
  },
  {
   "cell_type": "code",
   "execution_count": 13,
   "metadata": {},
   "outputs": [
    {
     "data": {
      "text/plain": [
       "short_code\n",
       "BIbUxRRhnE3.jpg    0.000000\n",
       "BIoKYSXB4kO.jpg    0.147282\n",
       "BIoOrhNj9RB.jpg    0.160979\n",
       "Name: Color_difference_Picture, dtype: float64"
      ]
     },
     "execution_count": 13,
     "metadata": {},
     "output_type": "execute_result"
    }
   ],
   "source": [
    "data_raw2.loc[(data_raw2[\"yymmdd\"]>=pd.to_datetime(\"2016-07-26\")) & (data_raw2[\"yymmdd\"]<=pd.to_datetime(\"2016-08-03\"))][\"Color_difference_Picture\"]"
   ]
  },
  {
   "cell_type": "code",
   "execution_count": 14,
   "metadata": {},
   "outputs": [
    {
     "data": {
      "text/plain": [
       "short_code\n",
       "BCbtbYNtLkI.jpg    2016-03-02\n",
       "BCePOq-NLrG.jpg    2016-03-03\n",
       "BCgy0CeNLkf.jpg    2016-03-04\n",
       "BCkZZ27tflk.jpg    2016-03-05\n",
       "BCmbjwyu6Fo.jpg    2016-03-06\n",
       "                      ...    \n",
       "BcHWaSOH8bv.jpg    2017-11-30\n",
       "BcHX1Ozn4-T.jpg    2017-11-30\n",
       "BcHcHx0HvEN.jpg    2017-11-30\n",
       "BcH3XpQBUcG.jpg    2017-12-01\n",
       "BcIPaEXhySL.jpg    2017-12-01\n",
       "Name: yymmdd, Length: 1426, dtype: object"
      ]
     },
     "execution_count": 14,
     "metadata": {},
     "output_type": "execute_result"
    }
   ],
   "source": [
    "data_raw2[\"yymmdd\"]"
   ]
  },
  {
   "cell_type": "code",
   "execution_count": 15,
   "metadata": {},
   "outputs": [],
   "source": [
    "strat = [x for x in data_raw2.columns if re.search (\"model\",x) or re.search(\"product\",x)]"
   ]
  },
  {
   "cell_type": "code",
   "execution_count": 16,
   "metadata": {},
   "outputs": [
    {
     "data": {
      "text/plain": [
       "['model_exist', 'product_model', 'product_only', 'model_only']"
      ]
     },
     "execution_count": 16,
     "metadata": {},
     "output_type": "execute_result"
    }
   ],
   "source": [
    "strat"
   ]
  },
  {
   "cell_type": "code",
   "execution_count": 17,
   "metadata": {},
   "outputs": [],
   "source": [
    "text_attr = [x for x in data_raw2.columns if x.startswith('num') ]"
   ]
  },
  {
   "cell_type": "code",
   "execution_count": 18,
   "metadata": {},
   "outputs": [],
   "source": [
    "log_col = [x for x in data_raw2.columns if re.search(\"log\",x)]\n",
    "control_var = []\n",
    "for col in log_col:\n",
    "    control_var.append(col[4:]) \n",
    "    data_raw2[col[4:]] = np.exp(data_raw2[col])"
   ]
  },
  {
   "cell_type": "code",
   "execution_count": 19,
   "metadata": {},
   "outputs": [],
   "source": [
    "for col in strat:\n",
    "    data_raw2[\"likes_by_\"+col] = data_raw2[\"likes\"]*data_raw2[col].astype(int)\n",
    "#for col in control_var:\n",
    "    #data_color[\"likes_by_\"+col] = data_color[\"likes\"]*data_color[col].astype(int)"
   ]
  },
  {
   "cell_type": "code",
   "execution_count": 20,
   "metadata": {},
   "outputs": [
    {
     "data": {
      "text/plain": [
       "['model_exist', 'product_model', 'product_only', 'model_only']"
      ]
     },
     "execution_count": 20,
     "metadata": {},
     "output_type": "execute_result"
    }
   ],
   "source": [
    "strat"
   ]
  },
  {
   "cell_type": "code",
   "execution_count": 21,
   "metadata": {},
   "outputs": [],
   "source": [
    "\n",
    "ws2=pd.DataFrame(columns=[\"Year\",\"Month\",\"Date\"])\n",
    "ws2_idx=[]\n",
    "for y in [2016,2017]:\n",
    "    for m in range(1,13):\n",
    "        days = calendar.monthrange(y, m)[1]\n",
    "        for d in range(1,days+1):\n",
    "            ws2=ws2.append({\"Year\":y,\"Month\":m,\"Date\":d}, ignore_index=True)  \n",
    "\n",
    "ymd = ws2[\"Year\"].astype(str)+\"-\"+ws2[\"Month\"].astype(str)+\"-\"+ws2[\"Date\"].astype(str)\n",
    "ws2[\"yymmdd\"] = pd.to_datetime(ymd)\n",
    "ws3 = ws2.loc[(ws2[\"yymmdd\"]>= \"2016-03-01\") & (ws2[\"yymmdd\"]<=\"2017-11-30\")]\n",
    "ws4= ws3.drop(columns=[\"Year\",\"Month\",\"Date\"]).set_index([\"yymmdd\"])\n"
   ]
  },
  {
   "cell_type": "code",
   "execution_count": 22,
   "metadata": {},
   "outputs": [
    {
     "data": {
      "text/html": [
       "<div>\n",
       "<style scoped>\n",
       "    .dataframe tbody tr th:only-of-type {\n",
       "        vertical-align: middle;\n",
       "    }\n",
       "\n",
       "    .dataframe tbody tr th {\n",
       "        vertical-align: top;\n",
       "    }\n",
       "\n",
       "    .dataframe thead th {\n",
       "        text-align: right;\n",
       "    }\n",
       "</style>\n",
       "<table border=\"1\" class=\"dataframe\">\n",
       "  <thead>\n",
       "    <tr style=\"text-align: right;\">\n",
       "      <th></th>\n",
       "    </tr>\n",
       "    <tr>\n",
       "      <th>yymmdd</th>\n",
       "    </tr>\n",
       "  </thead>\n",
       "  <tbody>\n",
       "    <tr>\n",
       "      <th>2016-03-01</th>\n",
       "    </tr>\n",
       "    <tr>\n",
       "      <th>2016-03-02</th>\n",
       "    </tr>\n",
       "    <tr>\n",
       "      <th>2016-03-03</th>\n",
       "    </tr>\n",
       "    <tr>\n",
       "      <th>2016-03-04</th>\n",
       "    </tr>\n",
       "    <tr>\n",
       "      <th>2016-03-05</th>\n",
       "    </tr>\n",
       "  </tbody>\n",
       "</table>\n",
       "</div>"
      ],
      "text/plain": [
       "Empty DataFrame\n",
       "Columns: []\n",
       "Index: [2016-03-01 00:00:00, 2016-03-02 00:00:00, 2016-03-03 00:00:00, 2016-03-04 00:00:00, 2016-03-05 00:00:00]"
      ]
     },
     "execution_count": 22,
     "metadata": {},
     "output_type": "execute_result"
    }
   ],
   "source": [
    "ws4.head()"
   ]
  },
  {
   "cell_type": "code",
   "execution_count": 23,
   "metadata": {},
   "outputs": [],
   "source": [
    "data_raw2[\"total_posting_this_day\"] = 1\n",
    "#daily aggregation\n",
    "data_raw3 = data_raw2.groupby([\"yymmdd\"]).sum()\n",
    "\n",
    "#convert text_ttr into binary variables\n",
    "for col in text_attr:\n",
    "    data_raw3[col] =  data_raw3[col].apply(lambda x:1 if x>0 else 0)"
   ]
  },
  {
   "cell_type": "code",
   "execution_count": 24,
   "metadata": {},
   "outputs": [],
   "source": [
    "\n",
    "data_raw3[\"total_posting_withpom\"] = data_raw3[\"product_model\"]+data_raw3[\"product_only\"]+data_raw3[\"model_only\"]"
   ]
  },
  {
   "cell_type": "code",
   "execution_count": 25,
   "metadata": {},
   "outputs": [],
   "source": [
    "data_color = ws4.join(data_raw3,how=\"left\").fillna(0)\n"
   ]
  },
  {
   "cell_type": "code",
   "execution_count": 26,
   "metadata": {},
   "outputs": [
    {
     "data": {
      "text/plain": [
       "Index(['Week', 'model_exist', 'Colorfulness_Picture', 'Saturation_Picture',\n",
       "       'Clarity_Picture', 'Brightness_Picture', 'Warm Hue_Picture',\n",
       "       'ROT_Picture', 'Diagonal_dominance_Picture', 'Physical_ver_Picture',\n",
       "       'Physical_Hor_Picture', 'Color_balance_vertical_Picture',\n",
       "       'Color_balance_horizontal_Picture', 'Texture_difference_Picture',\n",
       "       'Size_difference_Picture', 'Color_difference_Picture',\n",
       "       'Depth of field_hue_Picture', 'Depth of field_saturation_Picture',\n",
       "       'Depth of field_value_Picture', 'product_model', 'product_only',\n",
       "       'model_only', 'log_likes', 'posts', 'image_size_kilobytes', 'tag_numb',\n",
       "       'Contrast_Picture_z', 'Contrast_Picture^2', 'len_text_total', 'faces',\n",
       "       'following', 'ikes-1day', 'followers', 'numBrand', 'numModel',\n",
       "       'numOYBrand', 'numPos-Neg', 'likes', 'likes_by_model_exist',\n",
       "       'likes_by_product_model', 'likes_by_product_only',\n",
       "       'likes_by_model_only', 'total_posting_this_day',\n",
       "       'total_posting_withpom'],\n",
       "      dtype='object')"
      ]
     },
     "execution_count": 26,
     "metadata": {},
     "output_type": "execute_result"
    }
   ],
   "source": [
    "data_color.columns"
   ]
  },
  {
   "cell_type": "code",
   "execution_count": 27,
   "metadata": {},
   "outputs": [
    {
     "data": {
      "text/plain": [
       "\"  #fill missing value with 0\\navg_value = dict()\\nfor col in data_color.columns:\\n    if col in ['likes', 'likes_by_product_model',\\n       'likes_by_product_only', 'likes_by_model_only',]:\\n        avg_value[col] = 0\\n    else:\\n        #avg_value[col] = data_color[col].mean()\\n        avg_value[col] = 0\\ndata_color = data_color.fillna(value=avg_value)\\n\""
      ]
     },
     "execution_count": 27,
     "metadata": {},
     "output_type": "execute_result"
    }
   ],
   "source": [
    "'''  #fill missing value with 0\n",
    "avg_value = dict()\n",
    "for col in data_color.columns:\n",
    "    if col in ['likes', 'likes_by_product_model',\n",
    "       'likes_by_product_only', 'likes_by_model_only',]:\n",
    "        avg_value[col] = 0\n",
    "    else:\n",
    "        #avg_value[col] = data_color[col].mean()\n",
    "        avg_value[col] = 0\n",
    "data_color = data_color.fillna(value=avg_value)\n",
    "'''"
   ]
  },
  {
   "cell_type": "code",
   "execution_count": 28,
   "metadata": {},
   "outputs": [
    {
     "name": "stdout",
     "output_type": "stream",
     "text": [
      "<class 'pandas.core.frame.DataFrame'>\n",
      "DatetimeIndex: 640 entries, 2016-03-01 to 2017-11-30\n",
      "Data columns (total 44 columns):\n",
      " #   Column                             Non-Null Count  Dtype  \n",
      "---  ------                             --------------  -----  \n",
      " 0   Week                               640 non-null    float64\n",
      " 1   model_exist                        640 non-null    float64\n",
      " 2   Colorfulness_Picture               640 non-null    float64\n",
      " 3   Saturation_Picture                 640 non-null    float64\n",
      " 4   Clarity_Picture                    640 non-null    float64\n",
      " 5   Brightness_Picture                 640 non-null    float64\n",
      " 6   Warm Hue_Picture                   640 non-null    float64\n",
      " 7   ROT_Picture                        640 non-null    float64\n",
      " 8   Diagonal_dominance_Picture         640 non-null    float64\n",
      " 9   Physical_ver_Picture               640 non-null    float64\n",
      " 10  Physical_Hor_Picture               640 non-null    float64\n",
      " 11  Color_balance_vertical_Picture     640 non-null    float64\n",
      " 12  Color_balance_horizontal_Picture   640 non-null    float64\n",
      " 13  Texture_difference_Picture         640 non-null    float64\n",
      " 14  Size_difference_Picture            640 non-null    float64\n",
      " 15  Color_difference_Picture           640 non-null    float64\n",
      " 16  Depth of field_hue_Picture         640 non-null    float64\n",
      " 17  Depth of field_saturation_Picture  640 non-null    float64\n",
      " 18  Depth of field_value_Picture       640 non-null    float64\n",
      " 19  product_model                      640 non-null    float64\n",
      " 20  product_only                       640 non-null    float64\n",
      " 21  model_only                         640 non-null    float64\n",
      " 22  log_likes                          640 non-null    float64\n",
      " 23  posts                              640 non-null    float64\n",
      " 24  image_size_kilobytes               640 non-null    float64\n",
      " 25  tag_numb                           640 non-null    float64\n",
      " 26  Contrast_Picture_z                 640 non-null    float64\n",
      " 27  Contrast_Picture^2                 640 non-null    float64\n",
      " 28  len_text_total                     640 non-null    float64\n",
      " 29  faces                              640 non-null    float64\n",
      " 30  following                          640 non-null    float64\n",
      " 31  ikes-1day                          640 non-null    float64\n",
      " 32  followers                          640 non-null    float64\n",
      " 33  numBrand                           640 non-null    float64\n",
      " 34  numModel                           640 non-null    float64\n",
      " 35  numOYBrand                         640 non-null    float64\n",
      " 36  numPos-Neg                         640 non-null    float64\n",
      " 37  likes                              640 non-null    float64\n",
      " 38  likes_by_model_exist               640 non-null    float64\n",
      " 39  likes_by_product_model             640 non-null    float64\n",
      " 40  likes_by_product_only              640 non-null    float64\n",
      " 41  likes_by_model_only                640 non-null    float64\n",
      " 42  total_posting_this_day             640 non-null    float64\n",
      " 43  total_posting_withpom              640 non-null    float64\n",
      "dtypes: float64(44)\n",
      "memory usage: 245.0 KB\n"
     ]
    }
   ],
   "source": [
    "data_color.info()"
   ]
  },
  {
   "cell_type": "markdown",
   "metadata": {},
   "source": [
    "# run this code to get maximum likes by model only"
   ]
  },
  {
   "cell_type": "code",
   "execution_count": 29,
   "metadata": {},
   "outputs": [],
   "source": [
    "n_days = 7\n",
    "aggrt_all = dict()\n",
    "for idx in data_color.index:\n",
    "    try:\n",
    "        \n",
    "        aggrt = data_color.loc[pd.date_range(start=idx, periods=n_days)][\"likes_by_model_only\"]\n",
    "        aggrt_all[idx+ timedelta(days=n_days)]=[aggrt.max()]\n",
    "    except:\n",
    "        continue"
   ]
  },
  {
   "cell_type": "code",
   "execution_count": 30,
   "metadata": {},
   "outputs": [],
   "source": [
    "rich = data_color.loc[data_color[\"likes_by_model_only\"]>0].index"
   ]
  },
  {
   "cell_type": "code",
   "execution_count": 31,
   "metadata": {},
   "outputs": [],
   "source": [
    "pd.DataFrame(aggrt_all, index=[\"max_likes_by_model_only\"]).T.to_excel(\"maximum_likes_model_posting_lastweek_v1.xlsx\", index_label=\"yymmdd\")"
   ]
  },
  {
   "cell_type": "markdown",
   "metadata": {},
   "source": [
    "# run this code to get # posting by model only + all color attributes + text attributes"
   ]
  },
  {
   "cell_type": "code",
   "execution_count": 32,
   "metadata": {},
   "outputs": [],
   "source": [
    "n_days=7\n",
    "aggrt_all = dict()\n",
    "for idx in data_color.index:\n",
    "    try:\n",
    "        aggrt = data_color.loc[pd.date_range(start=idx, periods=n_days)]\n",
    "        aggrt_all[idx+ timedelta(days=n_days)]=aggrt.sum()\n",
    "    except:\n",
    "        continue"
   ]
  },
  {
   "cell_type": "code",
   "execution_count": null,
   "metadata": {},
   "outputs": [],
   "source": []
  },
  {
   "cell_type": "code",
   "execution_count": 33,
   "metadata": {},
   "outputs": [
    {
     "data": {
      "text/plain": [
       "['numBrand', 'numModel', 'numOYBrand', 'numPos-Neg']"
      ]
     },
     "execution_count": 33,
     "metadata": {},
     "output_type": "execute_result"
    }
   ],
   "source": [
    "text_attr"
   ]
  },
  {
   "cell_type": "code",
   "execution_count": 34,
   "metadata": {},
   "outputs": [],
   "source": [
    "data = pd.DataFrame(aggrt_all).T.drop(columns=log_col, axis=1)"
   ]
  },
  {
   "cell_type": "code",
   "execution_count": 35,
   "metadata": {},
   "outputs": [],
   "source": [
    "pict = [x for x in data.columns if re.search(\"Picture\",x)]"
   ]
  },
  {
   "cell_type": "code",
   "execution_count": 36,
   "metadata": {},
   "outputs": [
    {
     "data": {
      "text/plain": [
       "['Colorfulness_Picture',\n",
       " 'Saturation_Picture',\n",
       " 'Clarity_Picture',\n",
       " 'Brightness_Picture',\n",
       " 'Warm Hue_Picture',\n",
       " 'ROT_Picture',\n",
       " 'Diagonal_dominance_Picture',\n",
       " 'Physical_ver_Picture',\n",
       " 'Physical_Hor_Picture',\n",
       " 'Color_balance_vertical_Picture',\n",
       " 'Color_balance_horizontal_Picture',\n",
       " 'Texture_difference_Picture',\n",
       " 'Size_difference_Picture',\n",
       " 'Color_difference_Picture',\n",
       " 'Depth of field_hue_Picture',\n",
       " 'Depth of field_saturation_Picture',\n",
       " 'Depth of field_value_Picture',\n",
       " 'Contrast_Picture_z',\n",
       " 'Contrast_Picture^2']"
      ]
     },
     "execution_count": 36,
     "metadata": {},
     "output_type": "execute_result"
    }
   ],
   "source": [
    "pict"
   ]
  },
  {
   "cell_type": "code",
   "execution_count": 37,
   "metadata": {},
   "outputs": [
    {
     "data": {
      "text/plain": [
       "['likes_by_model_exist',\n",
       " 'likes_by_product_model',\n",
       " 'likes_by_product_only',\n",
       " 'likes_by_model_only']"
      ]
     },
     "execution_count": 37,
     "metadata": {},
     "output_type": "execute_result"
    }
   ],
   "source": [
    "likes_by = [x for x in data.columns if re.search(\"likes_by\",x)]\n",
    "likes_by"
   ]
  },
  {
   "cell_type": "markdown",
   "metadata": {},
   "source": [
    "# code for getting average likes "
   ]
  },
  {
   "cell_type": "code",
   "execution_count": 38,
   "metadata": {},
   "outputs": [],
   "source": [
    "for col in likes_by:\n",
    "    data[\"avg_\"+col] = data[col]/data[col[9:]]"
   ]
  },
  {
   "cell_type": "code",
   "execution_count": 39,
   "metadata": {},
   "outputs": [],
   "source": [
    "#for col in text_attr:\n",
    " #   data[col] = data[col]/data[\"total_posting_withpom\"]\n",
    "#[\"len_text_total\",\"tag_numb\",\"image_size_kilobytes\"]:  \n",
    "for col in text_attr+pict+[\"len_text_total\",\"tag_numb\",\"image_size_kilobytes\"]:\n",
    "    data[\"avg_\"+col] = data[col]/data[\"total_posting_withpom\"]\n",
    "    \n",
    "#for col in text_attr:\n",
    "    #data[\"avg_\"+col] = data[col]/7\n",
    "    #data[\"avg_\"+col] = data[col]/data[\"len_text_total\"]\n",
    "    #data[\"avg_\"+col] = data[\"avg_\"+col]/data[\"total_posting_this_day\"]"
   ]
  },
  {
   "cell_type": "code",
   "execution_count": 40,
   "metadata": {},
   "outputs": [],
   "source": [
    "avg_pic = [\"avg_\"+x for x in pict]\n",
    "avg_likes = [\"avg_\"+x for x in likes_by]\n",
    "avg_txt = [\"avg_\"+x for x in text_attr]"
   ]
  },
  {
   "cell_type": "code",
   "execution_count": 41,
   "metadata": {},
   "outputs": [
    {
     "data": {
      "text/html": [
       "<div>\n",
       "<style scoped>\n",
       "    .dataframe tbody tr th:only-of-type {\n",
       "        vertical-align: middle;\n",
       "    }\n",
       "\n",
       "    .dataframe tbody tr th {\n",
       "        vertical-align: top;\n",
       "    }\n",
       "\n",
       "    .dataframe thead th {\n",
       "        text-align: right;\n",
       "    }\n",
       "</style>\n",
       "<table border=\"1\" class=\"dataframe\">\n",
       "  <thead>\n",
       "    <tr style=\"text-align: right;\">\n",
       "      <th></th>\n",
       "      <th>avg_likes_by_model_exist</th>\n",
       "      <th>avg_likes_by_product_model</th>\n",
       "      <th>avg_likes_by_product_only</th>\n",
       "      <th>avg_likes_by_model_only</th>\n",
       "    </tr>\n",
       "  </thead>\n",
       "  <tbody>\n",
       "    <tr>\n",
       "      <th>count</th>\n",
       "      <td>431.000000</td>\n",
       "      <td>307.000000</td>\n",
       "      <td>595.000000</td>\n",
       "      <td>368.000000</td>\n",
       "    </tr>\n",
       "    <tr>\n",
       "      <th>mean</th>\n",
       "      <td>722.723467</td>\n",
       "      <td>1466.537161</td>\n",
       "      <td>108.562753</td>\n",
       "      <td>130.417723</td>\n",
       "    </tr>\n",
       "    <tr>\n",
       "      <th>std</th>\n",
       "      <td>3255.857235</td>\n",
       "      <td>6283.818143</td>\n",
       "      <td>131.854370</td>\n",
       "      <td>133.930675</td>\n",
       "    </tr>\n",
       "    <tr>\n",
       "      <th>min</th>\n",
       "      <td>5.000000</td>\n",
       "      <td>5.000000</td>\n",
       "      <td>3.000000</td>\n",
       "      <td>4.000000</td>\n",
       "    </tr>\n",
       "    <tr>\n",
       "      <th>25%</th>\n",
       "      <td>30.500000</td>\n",
       "      <td>31.000000</td>\n",
       "      <td>42.333333</td>\n",
       "      <td>46.593750</td>\n",
       "    </tr>\n",
       "    <tr>\n",
       "      <th>50%</th>\n",
       "      <td>69.062500</td>\n",
       "      <td>58.500000</td>\n",
       "      <td>80.333333</td>\n",
       "      <td>76.375000</td>\n",
       "    </tr>\n",
       "    <tr>\n",
       "      <th>75%</th>\n",
       "      <td>191.887500</td>\n",
       "      <td>110.000000</td>\n",
       "      <td>121.000000</td>\n",
       "      <td>190.193850</td>\n",
       "    </tr>\n",
       "    <tr>\n",
       "      <th>max</th>\n",
       "      <td>26000.000000</td>\n",
       "      <td>51995.000000</td>\n",
       "      <td>1276.500000</td>\n",
       "      <td>837.428571</td>\n",
       "    </tr>\n",
       "  </tbody>\n",
       "</table>\n",
       "</div>"
      ],
      "text/plain": [
       "       avg_likes_by_model_exist  avg_likes_by_product_model  \\\n",
       "count                431.000000                  307.000000   \n",
       "mean                 722.723467                 1466.537161   \n",
       "std                 3255.857235                 6283.818143   \n",
       "min                    5.000000                    5.000000   \n",
       "25%                   30.500000                   31.000000   \n",
       "50%                   69.062500                   58.500000   \n",
       "75%                  191.887500                  110.000000   \n",
       "max                26000.000000                51995.000000   \n",
       "\n",
       "       avg_likes_by_product_only  avg_likes_by_model_only  \n",
       "count                 595.000000               368.000000  \n",
       "mean                  108.562753               130.417723  \n",
       "std                   131.854370               133.930675  \n",
       "min                     3.000000                 4.000000  \n",
       "25%                    42.333333                46.593750  \n",
       "50%                    80.333333                76.375000  \n",
       "75%                   121.000000               190.193850  \n",
       "max                  1276.500000               837.428571  "
      ]
     },
     "execution_count": 41,
     "metadata": {},
     "output_type": "execute_result"
    }
   ],
   "source": [
    "data[avg_likes].describe()"
   ]
  },
  {
   "cell_type": "code",
   "execution_count": 42,
   "metadata": {},
   "outputs": [],
   "source": [
    "#fill na with forward fill\n",
    "data_daily = data.drop(pict,axis=1).replace([np.inf, -np.inf], np.nan).fillna(method='ffill')"
   ]
  },
  {
   "cell_type": "code",
   "execution_count": 43,
   "metadata": {},
   "outputs": [],
   "source": [
    "#data_weekly.to_excel(\"weekly_social_media_data_2020May_v1.xlsx\")"
   ]
  },
  {
   "cell_type": "code",
   "execution_count": 44,
   "metadata": {},
   "outputs": [],
   "source": [
    "wsm1= data_daily"
   ]
  },
  {
   "cell_type": "code",
   "execution_count": 45,
   "metadata": {},
   "outputs": [],
   "source": [
    "#check why some value are still zero\n",
    "#data.to_excel(\"avg_visual_20200901.xlsx\", index_label=\"yymmdd\")"
   ]
  },
  {
   "cell_type": "code",
   "execution_count": 46,
   "metadata": {},
   "outputs": [
    {
     "data": {
      "text/html": [
       "<div>\n",
       "<style scoped>\n",
       "    .dataframe tbody tr th:only-of-type {\n",
       "        vertical-align: middle;\n",
       "    }\n",
       "\n",
       "    .dataframe tbody tr th {\n",
       "        vertical-align: top;\n",
       "    }\n",
       "\n",
       "    .dataframe thead th {\n",
       "        text-align: right;\n",
       "    }\n",
       "</style>\n",
       "<table border=\"1\" class=\"dataframe\">\n",
       "  <thead>\n",
       "    <tr style=\"text-align: right;\">\n",
       "      <th></th>\n",
       "      <th>Week</th>\n",
       "      <th>model_exist</th>\n",
       "      <th>product_model</th>\n",
       "      <th>product_only</th>\n",
       "      <th>model_only</th>\n",
       "      <th>posts</th>\n",
       "      <th>image_size_kilobytes</th>\n",
       "      <th>tag_numb</th>\n",
       "      <th>len_text_total</th>\n",
       "      <th>faces</th>\n",
       "      <th>...</th>\n",
       "      <th>avg_Size_difference_Picture</th>\n",
       "      <th>avg_Color_difference_Picture</th>\n",
       "      <th>avg_Depth of field_hue_Picture</th>\n",
       "      <th>avg_Depth of field_saturation_Picture</th>\n",
       "      <th>avg_Depth of field_value_Picture</th>\n",
       "      <th>avg_Contrast_Picture_z</th>\n",
       "      <th>avg_Contrast_Picture^2</th>\n",
       "      <th>avg_len_text_total</th>\n",
       "      <th>avg_tag_numb</th>\n",
       "      <th>avg_image_size_kilobytes</th>\n",
       "    </tr>\n",
       "  </thead>\n",
       "  <tbody>\n",
       "    <tr>\n",
       "      <th>count</th>\n",
       "      <td>634.000000</td>\n",
       "      <td>634.000000</td>\n",
       "      <td>634.000000</td>\n",
       "      <td>634.000000</td>\n",
       "      <td>634.000000</td>\n",
       "      <td>634.000000</td>\n",
       "      <td>634.000000</td>\n",
       "      <td>634.000000</td>\n",
       "      <td>634.000000</td>\n",
       "      <td>634.000000</td>\n",
       "      <td>...</td>\n",
       "      <td>634.000000</td>\n",
       "      <td>634.000000</td>\n",
       "      <td>6.340000e+02</td>\n",
       "      <td>634.000000</td>\n",
       "      <td>6.340000e+02</td>\n",
       "      <td>634.000000</td>\n",
       "      <td>634.000000</td>\n",
       "      <td>634.000000</td>\n",
       "      <td>634.000000</td>\n",
       "      <td>634.000000</td>\n",
       "    </tr>\n",
       "    <tr>\n",
       "      <th>mean</th>\n",
       "      <td>1053.498423</td>\n",
       "      <td>4.974763</td>\n",
       "      <td>0.995268</td>\n",
       "      <td>5.906940</td>\n",
       "      <td>3.979495</td>\n",
       "      <td>16.096353</td>\n",
       "      <td>883.321893</td>\n",
       "      <td>198.187697</td>\n",
       "      <td>3059.676656</td>\n",
       "      <td>26.526814</td>\n",
       "      <td>...</td>\n",
       "      <td>0.762724</td>\n",
       "      <td>0.273561</td>\n",
       "      <td>4.731861e-03</td>\n",
       "      <td>0.000919</td>\n",
       "      <td>6.293406e-14</td>\n",
       "      <td>-0.025183</td>\n",
       "      <td>0.036659</td>\n",
       "      <td>350.628322</td>\n",
       "      <td>22.745366</td>\n",
       "      <td>94.460116</td>\n",
       "    </tr>\n",
       "    <tr>\n",
       "      <th>std</th>\n",
       "      <td>1139.529061</td>\n",
       "      <td>6.149737</td>\n",
       "      <td>1.393386</td>\n",
       "      <td>6.608854</td>\n",
       "      <td>5.353349</td>\n",
       "      <td>17.905252</td>\n",
       "      <td>767.587261</td>\n",
       "      <td>210.087850</td>\n",
       "      <td>3420.636571</td>\n",
       "      <td>26.084140</td>\n",
       "      <td>...</td>\n",
       "      <td>0.390873</td>\n",
       "      <td>0.158177</td>\n",
       "      <td>4.565026e-02</td>\n",
       "      <td>0.001113</td>\n",
       "      <td>1.499944e-13</td>\n",
       "      <td>0.144562</td>\n",
       "      <td>0.026367</td>\n",
       "      <td>275.072902</td>\n",
       "      <td>17.142157</td>\n",
       "      <td>54.975770</td>\n",
       "    </tr>\n",
       "    <tr>\n",
       "      <th>min</th>\n",
       "      <td>0.000000</td>\n",
       "      <td>0.000000</td>\n",
       "      <td>0.000000</td>\n",
       "      <td>0.000000</td>\n",
       "      <td>0.000000</td>\n",
       "      <td>0.000000</td>\n",
       "      <td>0.000000</td>\n",
       "      <td>0.000000</td>\n",
       "      <td>0.000000</td>\n",
       "      <td>0.000000</td>\n",
       "      <td>...</td>\n",
       "      <td>0.131221</td>\n",
       "      <td>0.055391</td>\n",
       "      <td>1.192388e-16</td>\n",
       "      <td>0.000011</td>\n",
       "      <td>9.370367e-16</td>\n",
       "      <td>-0.538057</td>\n",
       "      <td>0.000013</td>\n",
       "      <td>61.000000</td>\n",
       "      <td>5.000000</td>\n",
       "      <td>23.586000</td>\n",
       "    </tr>\n",
       "    <tr>\n",
       "      <th>25%</th>\n",
       "      <td>121.250000</td>\n",
       "      <td>0.000000</td>\n",
       "      <td>0.000000</td>\n",
       "      <td>2.000000</td>\n",
       "      <td>0.000000</td>\n",
       "      <td>3.315500</td>\n",
       "      <td>280.041500</td>\n",
       "      <td>70.000000</td>\n",
       "      <td>1090.250000</td>\n",
       "      <td>5.000000</td>\n",
       "      <td>...</td>\n",
       "      <td>0.518353</td>\n",
       "      <td>0.195578</td>\n",
       "      <td>1.708411e-15</td>\n",
       "      <td>0.000354</td>\n",
       "      <td>1.904427e-14</td>\n",
       "      <td>-0.098054</td>\n",
       "      <td>0.021455</td>\n",
       "      <td>202.410846</td>\n",
       "      <td>13.180556</td>\n",
       "      <td>62.350641</td>\n",
       "    </tr>\n",
       "    <tr>\n",
       "      <th>50%</th>\n",
       "      <td>548.000000</td>\n",
       "      <td>2.000000</td>\n",
       "      <td>0.000000</td>\n",
       "      <td>3.000000</td>\n",
       "      <td>1.000000</td>\n",
       "      <td>7.839000</td>\n",
       "      <td>610.105500</td>\n",
       "      <td>121.000000</td>\n",
       "      <td>1953.000000</td>\n",
       "      <td>16.000000</td>\n",
       "      <td>...</td>\n",
       "      <td>0.660439</td>\n",
       "      <td>0.242462</td>\n",
       "      <td>3.190740e-15</td>\n",
       "      <td>0.000569</td>\n",
       "      <td>3.358439e-14</td>\n",
       "      <td>-0.016819</td>\n",
       "      <td>0.031678</td>\n",
       "      <td>263.250000</td>\n",
       "      <td>18.524194</td>\n",
       "      <td>79.916591</td>\n",
       "    </tr>\n",
       "    <tr>\n",
       "      <th>75%</th>\n",
       "      <td>1813.750000</td>\n",
       "      <td>8.000000</td>\n",
       "      <td>2.000000</td>\n",
       "      <td>8.750000</td>\n",
       "      <td>7.000000</td>\n",
       "      <td>24.408750</td>\n",
       "      <td>1404.374250</td>\n",
       "      <td>253.000000</td>\n",
       "      <td>3861.500000</td>\n",
       "      <td>43.000000</td>\n",
       "      <td>...</td>\n",
       "      <td>0.911662</td>\n",
       "      <td>0.304021</td>\n",
       "      <td>6.927131e-15</td>\n",
       "      <td>0.000951</td>\n",
       "      <td>5.178564e-14</td>\n",
       "      <td>0.053027</td>\n",
       "      <td>0.043966</td>\n",
       "      <td>373.500000</td>\n",
       "      <td>25.942308</td>\n",
       "      <td>107.791891</td>\n",
       "    </tr>\n",
       "    <tr>\n",
       "      <th>max</th>\n",
       "      <td>6834.000000</td>\n",
       "      <td>36.000000</td>\n",
       "      <td>8.000000</td>\n",
       "      <td>45.000000</td>\n",
       "      <td>32.000000</td>\n",
       "      <td>91.322000</td>\n",
       "      <td>3885.700000</td>\n",
       "      <td>1501.000000</td>\n",
       "      <td>23082.000000</td>\n",
       "      <td>115.000000</td>\n",
       "      <td>...</td>\n",
       "      <td>3.399241</td>\n",
       "      <td>1.216960</td>\n",
       "      <td>5.000000e-01</td>\n",
       "      <td>0.008847</td>\n",
       "      <td>1.706918e-12</td>\n",
       "      <td>0.967353</td>\n",
       "      <td>0.235115</td>\n",
       "      <td>2116.000000</td>\n",
       "      <td>158.000000</td>\n",
       "      <td>386.399000</td>\n",
       "    </tr>\n",
       "  </tbody>\n",
       "</table>\n",
       "<p>8 rows × 54 columns</p>\n",
       "</div>"
      ],
      "text/plain": [
       "              Week  model_exist  product_model  product_only  model_only  \\\n",
       "count   634.000000   634.000000     634.000000    634.000000  634.000000   \n",
       "mean   1053.498423     4.974763       0.995268      5.906940    3.979495   \n",
       "std    1139.529061     6.149737       1.393386      6.608854    5.353349   \n",
       "min       0.000000     0.000000       0.000000      0.000000    0.000000   \n",
       "25%     121.250000     0.000000       0.000000      2.000000    0.000000   \n",
       "50%     548.000000     2.000000       0.000000      3.000000    1.000000   \n",
       "75%    1813.750000     8.000000       2.000000      8.750000    7.000000   \n",
       "max    6834.000000    36.000000       8.000000     45.000000   32.000000   \n",
       "\n",
       "            posts  image_size_kilobytes     tag_numb  len_text_total  \\\n",
       "count  634.000000            634.000000   634.000000      634.000000   \n",
       "mean    16.096353            883.321893   198.187697     3059.676656   \n",
       "std     17.905252            767.587261   210.087850     3420.636571   \n",
       "min      0.000000              0.000000     0.000000        0.000000   \n",
       "25%      3.315500            280.041500    70.000000     1090.250000   \n",
       "50%      7.839000            610.105500   121.000000     1953.000000   \n",
       "75%     24.408750           1404.374250   253.000000     3861.500000   \n",
       "max     91.322000           3885.700000  1501.000000    23082.000000   \n",
       "\n",
       "            faces  ...  avg_Size_difference_Picture  \\\n",
       "count  634.000000  ...                   634.000000   \n",
       "mean    26.526814  ...                     0.762724   \n",
       "std     26.084140  ...                     0.390873   \n",
       "min      0.000000  ...                     0.131221   \n",
       "25%      5.000000  ...                     0.518353   \n",
       "50%     16.000000  ...                     0.660439   \n",
       "75%     43.000000  ...                     0.911662   \n",
       "max    115.000000  ...                     3.399241   \n",
       "\n",
       "       avg_Color_difference_Picture  avg_Depth of field_hue_Picture  \\\n",
       "count                    634.000000                    6.340000e+02   \n",
       "mean                       0.273561                    4.731861e-03   \n",
       "std                        0.158177                    4.565026e-02   \n",
       "min                        0.055391                    1.192388e-16   \n",
       "25%                        0.195578                    1.708411e-15   \n",
       "50%                        0.242462                    3.190740e-15   \n",
       "75%                        0.304021                    6.927131e-15   \n",
       "max                        1.216960                    5.000000e-01   \n",
       "\n",
       "       avg_Depth of field_saturation_Picture  \\\n",
       "count                             634.000000   \n",
       "mean                                0.000919   \n",
       "std                                 0.001113   \n",
       "min                                 0.000011   \n",
       "25%                                 0.000354   \n",
       "50%                                 0.000569   \n",
       "75%                                 0.000951   \n",
       "max                                 0.008847   \n",
       "\n",
       "       avg_Depth of field_value_Picture  avg_Contrast_Picture_z  \\\n",
       "count                      6.340000e+02              634.000000   \n",
       "mean                       6.293406e-14               -0.025183   \n",
       "std                        1.499944e-13                0.144562   \n",
       "min                        9.370367e-16               -0.538057   \n",
       "25%                        1.904427e-14               -0.098054   \n",
       "50%                        3.358439e-14               -0.016819   \n",
       "75%                        5.178564e-14                0.053027   \n",
       "max                        1.706918e-12                0.967353   \n",
       "\n",
       "       avg_Contrast_Picture^2  avg_len_text_total  avg_tag_numb  \\\n",
       "count              634.000000          634.000000    634.000000   \n",
       "mean                 0.036659          350.628322     22.745366   \n",
       "std                  0.026367          275.072902     17.142157   \n",
       "min                  0.000013           61.000000      5.000000   \n",
       "25%                  0.021455          202.410846     13.180556   \n",
       "50%                  0.031678          263.250000     18.524194   \n",
       "75%                  0.043966          373.500000     25.942308   \n",
       "max                  0.235115         2116.000000    158.000000   \n",
       "\n",
       "       avg_image_size_kilobytes  \n",
       "count                634.000000  \n",
       "mean                  94.460116  \n",
       "std                   54.975770  \n",
       "min                   23.586000  \n",
       "25%                   62.350641  \n",
       "50%                   79.916591  \n",
       "75%                  107.791891  \n",
       "max                  386.399000  \n",
       "\n",
       "[8 rows x 54 columns]"
      ]
     },
     "execution_count": 46,
     "metadata": {},
     "output_type": "execute_result"
    }
   ],
   "source": [
    "wsm1.describe()"
   ]
  },
  {
   "cell_type": "code",
   "execution_count": 47,
   "metadata": {},
   "outputs": [],
   "source": [
    "mo_var = [x for x in wsm1.columns if re.search(\"model_only\",x)]\n",
    "avg_pict = [x for x in wsm1.columns if re.search(\"Picture\",x)]\n",
    "avg_others = [x for x in wsm1.columns if re.search(\"avg\",x) and not(re.search(\"Picture\",x))]"
   ]
  },
  {
   "cell_type": "code",
   "execution_count": 48,
   "metadata": {},
   "outputs": [
    {
     "data": {
      "text/plain": [
       "['avg_likes_by_model_exist',\n",
       " 'avg_likes_by_product_model',\n",
       " 'avg_likes_by_product_only',\n",
       " 'avg_likes_by_model_only',\n",
       " 'avg_numBrand',\n",
       " 'avg_numModel',\n",
       " 'avg_numOYBrand',\n",
       " 'avg_numPos-Neg',\n",
       " 'avg_len_text_total',\n",
       " 'avg_tag_numb',\n",
       " 'avg_image_size_kilobytes']"
      ]
     },
     "execution_count": 48,
     "metadata": {},
     "output_type": "execute_result"
    }
   ],
   "source": [
    "avg_others"
   ]
  },
  {
   "cell_type": "code",
   "execution_count": 49,
   "metadata": {},
   "outputs": [
    {
     "data": {
      "text/plain": [
       "['model_only', 'likes_by_model_only', 'avg_likes_by_model_only']"
      ]
     },
     "execution_count": 49,
     "metadata": {},
     "output_type": "execute_result"
    }
   ],
   "source": [
    "mo_var"
   ]
  },
  {
   "cell_type": "markdown",
   "metadata": {},
   "source": [
    "# get only the model posting + color attributes + len_total_text+image complexity+tag_numb + text_Attribute"
   ]
  },
  {
   "cell_type": "code",
   "execution_count": 50,
   "metadata": {},
   "outputs": [],
   "source": [
    "wsm_model = wsm1.loc[:,avg_txt+avg_pict+mo_var+['avg_len_text_total',\n",
    " 'avg_tag_numb',\n",
    " 'avg_image_size_kilobytes',\"total_posting_this_day\",\"len_text_total\"]]"
   ]
  },
  {
   "cell_type": "code",
   "execution_count": 51,
   "metadata": {},
   "outputs": [],
   "source": [
    "wsm_model.to_excel(\"wsm_model_20200915#1.xlsx\", index_label=\"yymmdd\")"
   ]
  },
  {
   "cell_type": "code",
   "execution_count": null,
   "metadata": {},
   "outputs": [],
   "source": []
  },
  {
   "cell_type": "code",
   "execution_count": null,
   "metadata": {},
   "outputs": [],
   "source": []
  }
 ],
 "metadata": {
  "colab": {
   "collapsed_sections": [],
   "name": "Fariz  Image_Ad_Regression_with_Collinearity_Notebook.ipynb",
   "provenance": [],
   "toc_visible": true,
   "version": "0.3.2"
  },
  "kernelspec": {
   "display_name": "Python 3",
   "language": "python",
   "name": "python3"
  },
  "language_info": {
   "codemirror_mode": {
    "name": "ipython",
    "version": 3
   },
   "file_extension": ".py",
   "mimetype": "text/x-python",
   "name": "python",
   "nbconvert_exporter": "python",
   "pygments_lexer": "ipython3",
   "version": "3.7.9"
  }
 },
 "nbformat": 4,
 "nbformat_minor": 1
}
