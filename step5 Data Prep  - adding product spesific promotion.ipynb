{
 "cells": [
  {
   "cell_type": "code",
   "execution_count": 16,
   "metadata": {},
   "outputs": [],
   "source": [
    "import pandas as pd\n",
    "import statsmodels.api as sm\n",
    "\n",
    "import matplotlib.pyplot as plt\n",
    "import seaborn as sns; sns.set()\n",
    "import datetime\n",
    "import calendar\n",
    "import re\n",
    "import numpy as np\n",
    "%matplotlib inline "
   ]
  },
  {
   "cell_type": "code",
   "execution_count": 17,
   "metadata": {},
   "outputs": [],
   "source": [
    "#USE #oyof_sales_ads_daily_without_productspesificpromotion_v2 for oyof\n",
    "#USE #mobilepc_sales_ads_daily_without_productspesificpromotion_v2 for oyof\n",
    "data= pd.read_excel(\"oyof_sales_ads_daily_without_productspesificpromotion_20210111-tv.xlsx\").fillna(0)"
   ]
  },
  {
   "cell_type": "code",
   "execution_count": 32,
   "metadata": {},
   "outputs": [
    {
     "name": "stdout",
     "output_type": "stream",
     "text": [
      "<class 'pandas.core.frame.DataFrame'>\n",
      "RangeIndex: 5697 entries, 0 to 5696\n",
      "Data columns (total 48 columns):\n",
      " #   Column                                 Non-Null Count  Dtype         \n",
      "---  ------                                 --------------  -----         \n",
      " 0   numProduct_mention                     5697 non-null   float64       \n",
      " 1   oy_sample                              5697 non-null   int64         \n",
      " 2   oy_display_product                     5697 non-null   int64         \n",
      " 3   avg_numBrand                           5697 non-null   float64       \n",
      " 4   avg_numModel                           5697 non-null   float64       \n",
      " 5   avg_numOYBrand                         5697 non-null   float64       \n",
      " 6   avg_numPos-Neg                         5697 non-null   float64       \n",
      " 7   avg_Colorfulness_Picture               5697 non-null   float64       \n",
      " 8   avg_Saturation_Picture                 5697 non-null   float64       \n",
      " 9   avg_Clarity_Picture                    5697 non-null   float64       \n",
      " 10  avg_Brightness_Picture                 5697 non-null   float64       \n",
      " 11  avg_Warm Hue_Picture                   5697 non-null   float64       \n",
      " 12  avg_ROT_Picture                        5697 non-null   float64       \n",
      " 13  avg_Diagonal_dominance_Picture         5697 non-null   float64       \n",
      " 14  avg_Physical_ver_Picture               5697 non-null   float64       \n",
      " 15  avg_Physical_Hor_Picture               5697 non-null   float64       \n",
      " 16  avg_Color_balance_vertical_Picture     5697 non-null   float64       \n",
      " 17  avg_Color_balance_horizontal_Picture   5697 non-null   float64       \n",
      " 18  avg_Texture_difference_Picture         5697 non-null   float64       \n",
      " 19  avg_Size_difference_Picture            5697 non-null   float64       \n",
      " 20  avg_Color_difference_Picture           5697 non-null   float64       \n",
      " 21  avg_Depth of field_hue_Picture         5697 non-null   float64       \n",
      " 22  avg_Depth of field_saturation_Picture  5697 non-null   float64       \n",
      " 23  avg_Depth of field_value_Picture       5697 non-null   float64       \n",
      " 24  avg_Contrast_Picture_z                 5697 non-null   float64       \n",
      " 25  avg_Contrast_Picture^2                 5697 non-null   float64       \n",
      " 26  avg_len_text_total                     5697 non-null   float64       \n",
      " 27  avg_tag_numb                           5697 non-null   float64       \n",
      " 28  avg_happiness                          5697 non-null   float64       \n",
      " 29  avg_faces                              5697 non-null   float64       \n",
      " 30  avg_image_size_kilobytes               5697 non-null   float64       \n",
      " 31  avg_likes_by_model_only                5697 non-null   float64       \n",
      " 32  avg_likes_product_model                5697 non-null   float64       \n",
      " 33  avg_likes_product_only                 5697 non-null   float64       \n",
      " 34  avg_likes_total_spillover              5697 non-null   float64       \n",
      " 35  dummy_Week                             5697 non-null   float64       \n",
      " 36  dummy_Days                             5697 non-null   object        \n",
      " 37  posting_mo                             5697 non-null   int64         \n",
      " 38  total_posting_this_day                 5697 non-null   int64         \n",
      " 39  posting_pm                             5697 non-null   int64         \n",
      " 40  posting_po                             5697 non-null   int64         \n",
      " 41  posting_spillover                      5697 non-null   int64         \n",
      " 42  yymmdd                                 5697 non-null   datetime64[ns]\n",
      " 43  sales_qt                               5697 non-null   int64         \n",
      " 44  sales_yesterday                        5697 non-null   int64         \n",
      " 45  ori_pdcode                             5697 non-null   int64         \n",
      " 46  price_dc                               5697 non-null   float64       \n",
      " 47  DHC_Product_Promo                      5697 non-null   int64         \n",
      "dtypes: datetime64[ns](1), float64(35), int64(11), object(1)\n",
      "memory usage: 2.1+ MB\n"
     ]
    }
   ],
   "source": [
    "data.info()"
   ]
  },
  {
   "cell_type": "code",
   "execution_count": 18,
   "metadata": {},
   "outputs": [
    {
     "data": {
      "text/plain": [
       "300      633\n",
       "2449     633\n",
       "22150    633\n",
       "22278    633\n",
       "9189     633\n",
       "2451     633\n",
       "22152    633\n",
       "2158     633\n",
       "9199     633\n",
       "Name: ori_pdcode, dtype: int64"
      ]
     },
     "execution_count": 18,
     "metadata": {},
     "output_type": "execute_result"
    }
   ],
   "source": [
    "data[\"ori_pdcode\"].value_counts()"
   ]
  },
  {
   "cell_type": "code",
   "execution_count": null,
   "metadata": {},
   "outputs": [],
   "source": []
  },
  {
   "cell_type": "code",
   "execution_count": 19,
   "metadata": {},
   "outputs": [
    {
     "data": {
      "text/plain": [
       "300      633\n",
       "2449     633\n",
       "22150    633\n",
       "22278    633\n",
       "9189     633\n",
       "2451     633\n",
       "22152    633\n",
       "2158     633\n",
       "9199     633\n",
       "Name: ori_pdcode, dtype: int64"
      ]
     },
     "execution_count": 19,
     "metadata": {},
     "output_type": "execute_result"
    }
   ],
   "source": [
    "data[\"ori_pdcode\"].value_counts()"
   ]
  },
  {
   "cell_type": "code",
   "execution_count": 20,
   "metadata": {},
   "outputs": [
    {
     "data": {
      "text/plain": [
       "37"
      ]
     },
     "execution_count": 20,
     "metadata": {},
     "output_type": "execute_result"
    }
   ],
   "source": [
    "data[\"posting_po\"].max()"
   ]
  },
  {
   "cell_type": "code",
   "execution_count": 21,
   "metadata": {},
   "outputs": [
    {
     "data": {
      "text/plain": [
       "692.5714285714283"
      ]
     },
     "execution_count": 21,
     "metadata": {},
     "output_type": "execute_result"
    }
   ],
   "source": [
    "data[\"avg_likes_product_only\"].max()"
   ]
  },
  {
   "cell_type": "code",
   "execution_count": 22,
   "metadata": {},
   "outputs": [
    {
     "data": {
      "text/plain": [
       "45464.99999999985"
      ]
     },
     "execution_count": 22,
     "metadata": {},
     "output_type": "execute_result"
    }
   ],
   "source": [
    "data[\"avg_likes_product_model\"].max()"
   ]
  },
  {
   "cell_type": "code",
   "execution_count": null,
   "metadata": {},
   "outputs": [],
   "source": []
  },
  {
   "cell_type": "code",
   "execution_count": 23,
   "metadata": {},
   "outputs": [
    {
     "data": {
      "text/plain": [
       "300      633\n",
       "2449     633\n",
       "22150    633\n",
       "22278    633\n",
       "9189     633\n",
       "2451     633\n",
       "22152    633\n",
       "2158     633\n",
       "9199     633\n",
       "Name: ori_pdcode, dtype: int64"
      ]
     },
     "execution_count": 23,
     "metadata": {},
     "output_type": "execute_result"
    }
   ],
   "source": [
    "data[\"ori_pdcode\"].value_counts()"
   ]
  },
  {
   "cell_type": "code",
   "execution_count": 33,
   "metadata": {},
   "outputs": [],
   "source": [
    "period = pd.read_excel(\"dhc_promotion_v2_analysis.xlsx\").set_index([\"Starting\",\"Ending\"]).dropna()"
   ]
  },
  {
   "cell_type": "code",
   "execution_count": 34,
   "metadata": {},
   "outputs": [
    {
     "data": {
      "text/html": [
       "<div>\n",
       "<style scoped>\n",
       "    .dataframe tbody tr th:only-of-type {\n",
       "        vertical-align: middle;\n",
       "    }\n",
       "\n",
       "    .dataframe tbody tr th {\n",
       "        vertical-align: top;\n",
       "    }\n",
       "\n",
       "    .dataframe thead th {\n",
       "        text-align: right;\n",
       "    }\n",
       "</style>\n",
       "<table border=\"1\" class=\"dataframe\">\n",
       "  <thead>\n",
       "    <tr style=\"text-align: right;\">\n",
       "      <th></th>\n",
       "      <th></th>\n",
       "      <th>300</th>\n",
       "      <th>9199</th>\n",
       "      <th>2451</th>\n",
       "      <th>2449</th>\n",
       "      <th>2158</th>\n",
       "      <th>22278</th>\n",
       "      <th>3690</th>\n",
       "      <th>22150</th>\n",
       "      <th>22152</th>\n",
       "    </tr>\n",
       "    <tr>\n",
       "      <th>Starting</th>\n",
       "      <th>Ending</th>\n",
       "      <th></th>\n",
       "      <th></th>\n",
       "      <th></th>\n",
       "      <th></th>\n",
       "      <th></th>\n",
       "      <th></th>\n",
       "      <th></th>\n",
       "      <th></th>\n",
       "      <th></th>\n",
       "    </tr>\n",
       "  </thead>\n",
       "  <tbody>\n",
       "    <tr>\n",
       "      <th>2016-04-01</th>\n",
       "      <th>2016-04-30</th>\n",
       "      <td>0.0</td>\n",
       "      <td>0.0</td>\n",
       "      <td>0.0</td>\n",
       "      <td>0.0</td>\n",
       "      <td>0.0</td>\n",
       "      <td>1.0</td>\n",
       "      <td>0.0</td>\n",
       "      <td>0.0</td>\n",
       "      <td>0.0</td>\n",
       "    </tr>\n",
       "    <tr>\n",
       "      <th>2016-05-02</th>\n",
       "      <th>2016-05-31</th>\n",
       "      <td>0.0</td>\n",
       "      <td>0.0</td>\n",
       "      <td>0.0</td>\n",
       "      <td>1.0</td>\n",
       "      <td>1.0</td>\n",
       "      <td>1.0</td>\n",
       "      <td>0.0</td>\n",
       "      <td>1.0</td>\n",
       "      <td>0.0</td>\n",
       "    </tr>\n",
       "    <tr>\n",
       "      <th>2016-05-03</th>\n",
       "      <th>2016-05-03</th>\n",
       "      <td>0.0</td>\n",
       "      <td>0.0</td>\n",
       "      <td>0.0</td>\n",
       "      <td>1.0</td>\n",
       "      <td>0.0</td>\n",
       "      <td>0.0</td>\n",
       "      <td>0.0</td>\n",
       "      <td>0.0</td>\n",
       "      <td>0.0</td>\n",
       "    </tr>\n",
       "  </tbody>\n",
       "</table>\n",
       "</div>"
      ],
      "text/plain": [
       "                       300    9199   2451   2449   2158   22278  3690   22150  \\\n",
       "Starting   Ending                                                               \n",
       "2016-04-01 2016-04-30    0.0    0.0    0.0    0.0    0.0    1.0    0.0    0.0   \n",
       "2016-05-02 2016-05-31    0.0    0.0    0.0    1.0    1.0    1.0    0.0    1.0   \n",
       "2016-05-03 2016-05-03    0.0    0.0    0.0    1.0    0.0    0.0    0.0    0.0   \n",
       "\n",
       "                       22152  \n",
       "Starting   Ending             \n",
       "2016-04-01 2016-04-30    0.0  \n",
       "2016-05-02 2016-05-31    0.0  \n",
       "2016-05-03 2016-05-03    0.0  "
      ]
     },
     "execution_count": 34,
     "metadata": {},
     "output_type": "execute_result"
    }
   ],
   "source": [
    "period.head(n=3)"
   ]
  },
  {
   "cell_type": "code",
   "execution_count": 35,
   "metadata": {},
   "outputs": [
    {
     "data": {
      "text/plain": [
       "MultiIndex([('2016-04-01', '2016-04-30'),\n",
       "            ('2016-05-02', '2016-05-31'),\n",
       "            ('2016-05-03', '2016-05-03'),\n",
       "            ('2016-05-31', '2016-05-31'),\n",
       "            ('2016-05-16', '2016-05-27'),\n",
       "            ('2016-06-01', '2016-06-30'),\n",
       "            ('2016-06-20', '2016-06-24'),\n",
       "            ('2016-06-03', '2016-06-03'),\n",
       "            ('2016-07-01', '2016-07-31'),\n",
       "            ('2016-07-04', '2016-07-08'),\n",
       "            ('2016-08-01', '2016-08-31'),\n",
       "            ('2016-08-22', '2016-08-22'),\n",
       "            ('2016-10-01', '2016-10-31'),\n",
       "            ('2016-11-07', '2016-11-11'),\n",
       "            ('2016-12-01', '2016-12-31'),\n",
       "            ('2016-12-01', '2016-12-10'),\n",
       "            ('2017-01-01', '2017-01-31'),\n",
       "            ('2017-02-22', '2017-02-28'),\n",
       "            ('2017-03-01', '2017-03-31'),\n",
       "            ('2017-04-01', '2017-04-30'),\n",
       "            ('2017-04-05', '2017-04-09'),\n",
       "            ('2017-05-01', '2017-05-31'),\n",
       "            ('2017-05-22', '2017-05-31'),\n",
       "            ('2017-06-01', '2017-06-30'),\n",
       "            ('2017-07-05', '2017-07-09'),\n",
       "            ('2017-08-01', '2017-08-31'),\n",
       "            ('2017-09-01', '2017-09-30'),\n",
       "            ('2017-10-01', '2017-10-09'),\n",
       "            ('2017-11-01', '2017-11-30'),\n",
       "            ('2017-11-05', '2017-11-09')],\n",
       "           names=['Starting', 'Ending'])"
      ]
     },
     "execution_count": 35,
     "metadata": {},
     "output_type": "execute_result"
    }
   ],
   "source": [
    "period.index"
   ]
  },
  {
   "cell_type": "code",
   "execution_count": 36,
   "metadata": {},
   "outputs": [],
   "source": [
    "pd_code=period.columns"
   ]
  },
  {
   "cell_type": "code",
   "execution_count": 37,
   "metadata": {},
   "outputs": [],
   "source": [
    "data[\"DHC_Product_Promo\"] = 0"
   ]
  },
  {
   "cell_type": "markdown",
   "metadata": {},
   "source": [
    "# check if the pd_code has  a promo"
   ]
  },
  {
   "cell_type": "code",
   "execution_count": 38,
   "metadata": {},
   "outputs": [
    {
     "name": "stdout",
     "output_type": "stream",
     "text": [
      "1.0\n",
      "1.0\n",
      "0.0\n",
      "0.0\n",
      "0.0\n",
      "0.0\n",
      "0.0\n",
      "0.0\n",
      "0.0\n"
     ]
    }
   ],
   "source": [
    "promo_time = pd.date_range(start='2017-11-05',end='2017-11-09')\n",
    "for code in pd_code:\n",
    "    has_promo = period.loc[('2017-11-05','2017-11-09')][code]\n",
    "    print(has_promo)"
   ]
  },
  {
   "cell_type": "code",
   "execution_count": 39,
   "metadata": {},
   "outputs": [],
   "source": [
    "for idx,idy in period.index:\n",
    "    promo_time = pd.date_range(start=idx,end=idy)\n",
    "    for code in pd_code:\n",
    "        has_promo = period.loc[(idx,idy)][code]\n",
    "        if has_promo:\n",
    "            data.loc[(data[\"yymmdd\"].isin(promo_time)) & (data[\"ori_pdcode\"]==code), \"DHC_Product_Promo\"]=1\n",
    "        else:\n",
    "            continue"
   ]
  },
  {
   "cell_type": "code",
   "execution_count": 40,
   "metadata": {},
   "outputs": [],
   "source": [
    "for col in  [\"dummy_Week\",\"dummy_Days\", \"ori_pdcode\"]:\n",
    "    data[col] = data[col].astype(str)"
   ]
  },
  {
   "cell_type": "code",
   "execution_count": 41,
   "metadata": {},
   "outputs": [],
   "source": [
    "#for dt in tes:\n",
    "    ##data.loc[(data[\"yymmdd\"]==dt) & (data[\"ori_pdcode_300\"]==1), \"DHC_Product_Promo\"]=1"
   ]
  },
  {
   "cell_type": "code",
   "execution_count": 42,
   "metadata": {},
   "outputs": [],
   "source": [
    "data_ready=pd.get_dummies(data, drop_first=True)"
   ]
  },
  {
   "cell_type": "code",
   "execution_count": 43,
   "metadata": {},
   "outputs": [
    {
     "name": "stdout",
     "output_type": "stream",
     "text": [
      "<class 'pandas.core.frame.DataFrame'>\n",
      "RangeIndex: 5697 entries, 0 to 5696\n",
      "Columns: 149 entries, numProduct_mention to ori_pdcode_9199\n",
      "dtypes: datetime64[ns](1), float64(34), int64(10), uint8(104)\n",
      "memory usage: 2.5 MB\n"
     ]
    }
   ],
   "source": [
    "data_ready.info(max_cols=145)"
   ]
  },
  {
   "cell_type": "code",
   "execution_count": 44,
   "metadata": {},
   "outputs": [
    {
     "data": {
      "text/plain": [
       "1"
      ]
     },
     "execution_count": 44,
     "metadata": {},
     "output_type": "execute_result"
    }
   ],
   "source": [
    "data_ready[\"DHC_Product_Promo\"].max()"
   ]
  },
  {
   "cell_type": "code",
   "execution_count": 45,
   "metadata": {},
   "outputs": [],
   "source": [
    "data_ready.to_excel(\"oyof_sales_ads_daily_20210111-tv.xlsx\", index=False)"
   ]
  },
  {
   "cell_type": "code",
   "execution_count": 46,
   "metadata": {},
   "outputs": [
    {
     "data": {
      "text/plain": [
       "4340    45465.0\n",
       "4341    45465.0\n",
       "4342    45465.0\n",
       "4343    45465.0\n",
       "4344    45465.0\n",
       "Name: avg_likes_product_model, dtype: float64"
      ]
     },
     "execution_count": 46,
     "metadata": {},
     "output_type": "execute_result"
    }
   ],
   "source": [
    "data_ready[\"avg_likes_product_model\"].nlargest()"
   ]
  },
  {
   "cell_type": "code",
   "execution_count": null,
   "metadata": {},
   "outputs": [],
   "source": []
  }
 ],
 "metadata": {
  "kernelspec": {
   "display_name": "Python 3",
   "language": "python",
   "name": "python3"
  },
  "language_info": {
   "codemirror_mode": {
    "name": "ipython",
    "version": 3
   },
   "file_extension": ".py",
   "mimetype": "text/x-python",
   "name": "python",
   "nbconvert_exporter": "python",
   "pygments_lexer": "ipython3",
   "version": "3.8.5"
  }
 },
 "nbformat": 4,
 "nbformat_minor": 4
}
