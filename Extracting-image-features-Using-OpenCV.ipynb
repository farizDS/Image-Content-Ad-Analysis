{
 "cells": [
  {
   "cell_type": "markdown",
   "metadata": {
    "colab_type": "text",
    "id": "HWnsvZxEbbSz"
   },
   "source": [
    "![alt text](https://www.unsw.edu.au/sites/default/files/UNSW_0.png)\n",
    "\n",
    "# How to compute image features with OpenCV\n",
    "\n",
    "\n",
    "---"
   ]
  },
  {
   "cell_type": "code",
   "execution_count": 1,
   "metadata": {
    "colab": {
     "base_uri": "https://localhost:8080/",
     "height": 108
    },
    "colab_type": "code",
    "executionInfo": {
     "elapsed": 14092,
     "status": "ok",
     "timestamp": 1577153897491,
     "user": {
      "displayName": "Osamah Al-Qershi",
      "photoUrl": "https://lh3.googleusercontent.com/a-/AAuE7mA8E_KbwBH6UT-d7m12u7tZFyThInTVfI9USzd1sQ=s64",
      "userId": "10571118118207693350"
     },
     "user_tz": -660
    },
    "id": "glp6ENYUkjcb",
    "outputId": "9d9d2f65-a9ab-4b4d-d681-406b0f7b2993"
   },
   "outputs": [
    {
     "name": "stdout",
     "output_type": "stream",
     "text": [
      "Collecting opencv-contrib-python==4.1.2.30\n",
      "  Downloading https://files.pythonhosted.org/packages/2e/ff/9a133832a68540ddd9a2b706ff57f370b74fa15b74da46f70a615c19afe7/opencv_contrib_python-4.1.2.30-cp37-cp37m-win_amd64.whl (39.4MB)\n",
      "Requirement already satisfied: numpy>=1.14.5 in c:\\users\\z5107027\\appdata\\local\\continuum\\anaconda3\\lib\\site-packages (from opencv-contrib-python==4.1.2.30) (1.16.5)\n",
      "Installing collected packages: opencv-contrib-python\n",
      "Successfully installed opencv-contrib-python-4.1.2.30\n"
     ]
    }
   ],
   "source": [
    "#install opencv\n",
    "!pip install opencv-contrib-python==4.1.2.30 \n"
   ]
  },
  {
   "cell_type": "code",
   "execution_count": 1,
   "metadata": {
    "colab": {},
    "colab_type": "code",
    "id": "x5bl1nZgA3YM"
   },
   "outputs": [],
   "source": [
    "import cv2 \n",
    "import glob\n",
    "import pandas as pd\n",
    "import numpy as np\n",
    "%matplotlib inline\n",
    "import pywt\n",
    "\n"
   ]
  },
  {
   "cell_type": "markdown",
   "metadata": {
    "colab_type": "text",
    "id": "42HWQIyugHS5"
   },
   "source": [
    "# The functions"
   ]
  },
  {
   "cell_type": "code",
   "execution_count": 61,
   "metadata": {},
   "outputs": [],
   "source": [
    "def Depth_of_feild (image):\n",
    "    \n",
    "    # Define the window size\n",
    "    windowsize_r = round(image.shape[0]/4)\n",
    "    windowsize_c = round(image.shape[1]/4)\n",
    "\n",
    "    # devide the image into blocks\n",
    "    window = np.zeros(shape=(windowsize_r,windowsize_c,3,16)).astype('uint8')\n",
    "    k = 0\n",
    "    for r in range(0,image.shape[0] - windowsize_r, windowsize_r):\n",
    "        for c in range(0,image.shape[1] - windowsize_c, windowsize_c):\n",
    "            window[:,:,:,k] = image[r:r+windowsize_r,c:c+windowsize_c]\n",
    "            k = k +1\n",
    "            #display objects\n",
    "\n",
    "    #center blocks\n",
    "    center = [5,6,9,10]\n",
    "\n",
    "    #calaculate the wavelet coeff. for center blocks\n",
    "    sum_center_blocks = np.zeros(shape = [3])\n",
    "    for i in center:\n",
    "        block = window[:,:,:,i]\n",
    "        Sums = calc_wavelet (block)\n",
    "        sum_center_blocks = sum_center_blocks + Sums\n",
    "\n",
    "    #calaculate the wavelet coeff. for whole image \n",
    "    Sum_whole_image = calc_wavelet (image)\n",
    "\n",
    "    #return  the depth of feild for each channel (H,S, and V)\n",
    "    return abs(sum_center_blocks/Sum_whole_image)\n"
   ]
  },
  {
   "cell_type": "code",
   "execution_count": 62,
   "metadata": {},
   "outputs": [],
   "source": [
    "def calc_wavelet (block):\n",
    "    hsv = cv2.cvtColor(block, cv2.COLOR_BGR2HSV)\n",
    "    sums =[]\n",
    "    for i in range(3):\n",
    "        Channel = hsv[:,:,i]\n",
    "        coffes_H=pywt.dwt2(Channel,'db1')\n",
    "        ca,(ch,cv,cd)= coffes_H\n",
    "        sums.append (np.sum(cd))\n",
    "    return sums"
   ]
  },
  {
   "cell_type": "code",
   "execution_count": 63,
   "metadata": {
    "colab": {
     "base_uri": "https://localhost:8080/",
     "height": 35
    },
    "colab_type": "code",
    "executionInfo": {
     "elapsed": 724,
     "status": "ok",
     "timestamp": 1577154046852,
     "user": {
      "displayName": "Osamah Al-Qershi",
      "photoUrl": "https://lh3.googleusercontent.com/a-/AAuE7mA8E_KbwBH6UT-d7m12u7tZFyThInTVfI9USzd1sQ=s64",
      "userId": "10571118118207693350"
     },
     "user_tz": -660
    },
    "id": "tBhuhHg2kjcj",
    "outputId": "a867a8ac-df34-459b-9b9e-e71cdf691705",
    "scrolled": true
   },
   "outputs": [],
   "source": [
    "def Difference(opened_file):\n",
    "    \n",
    "    #resize image to reduce processing time \n",
    "    opened_file = cv2.resize(opened_file, (0, 0), fx=0.5, fy=0.5)\n",
    "    \n",
    "    # initialize OpenCV's static fine grained saliency detector and\n",
    "    # compute the saliency map\n",
    "\n",
    "    #image = cv2.imread('C:\\\\Users\\\\oalq0001\\\\Downloads\\\\saliency-detection\\\\images\\\\players.jpg')\n",
    "    saliency = cv2.saliency.StaticSaliencyFineGrained_create()\n",
    "    (success, saliencyMap) = saliency.computeSaliency(opened_file)\n",
    "    # chamge the scale into 0-255\n",
    "    new_arr = ((saliencyMap - saliencyMap.min()) * (1/(saliencyMap.max() - saliencyMap.min()) * 255))\n",
    "\n",
    "    # if we would like a *binary* map that we could process for contours,\n",
    "    # compute convex hull's, extract bounding boxes, etc., we can\n",
    "    # additionally threshold the saliency map\n",
    "    threshMap = cv2.threshold(new_arr.astype('uint8'), 0, 255, cv2.THRESH_OTSU)[1]\n",
    "\n",
    "    #display objects\n",
    "    #cv2.imshow(\"Image\", threshMap)\n",
    "    #cv2.waitKey(0)\n",
    "    \n",
    "    # calcualte Area difference\n",
    "    objects = np.sum(threshMap/255)\n",
    "    background = (threshMap.shape[0]*threshMap.shape[1]) - objects\n",
    "    Area_difference = (objects - background)/(threshMap.shape[0]*threshMap.shape[1])\n",
    "    \n",
    "    # calculate Colordifference\n",
    "    Objects_image = cv2.bitwise_and(opened_file,opened_file,mask = (threshMap/255).astype('uint8'))\n",
    "    Background_image = cv2.bitwise_and(opened_file,opened_file,mask = ~(threshMap).astype('uint8'))\n",
    "    \n",
    "    R_Obj = np.sum(Objects_image[:,:,0])/objects\n",
    "    G_Obj = np.sum(Objects_image[:,:,1])/objects\n",
    "    B_Obj = np.sum(Objects_image[:,:,2])/objects\n",
    "    \n",
    "    R_back = np.sum(Background_image[:,:,0])/background\n",
    "    G_back = np.sum(Background_image[:,:,1])/background\n",
    "    B_back = np.sum(Background_image[:,:,2])/background\n",
    "    \n",
    "    Color_difference = ((R_Obj - R_back)**2 + (G_Obj - G_back)**2 + (B_Obj - B_back)**2)**.5\n",
    "    \n",
    "    #calculate Texture difference\n",
    "    edges_objects = cv2.Canny(Objects_image, 50, 150, apertureSize=3)\n",
    "    edges_background = cv2.Canny(Background_image, 50, 150, apertureSize=3)\n",
    "\n",
    "    edges_objects_density = np.sum(edges_objects/255)/objects\n",
    "    edges_background_density = np.sum(edges_background/255)/background\n",
    "\n",
    "    Texture_difference = abs(edges_background_density - edges_objects_density)\n",
    "\n",
    "\n",
    "\n",
    "    return (Area_difference,Color_difference,Texture_difference)"
   ]
  },
  {
   "cell_type": "code",
   "execution_count": 74,
   "metadata": {
    "colab": {},
    "colab_type": "code",
    "id": "4_sn5qjccLsR"
   },
   "outputs": [],
   "source": [
    "def brightness(opened_file):\n",
    "  Bright = cv2.cvtColor(opened_file, cv2.COLOR_BGR2GRAY)/255.0\n",
    "\n",
    "  return round(Bright.mean(), 2)"
   ]
  },
  {
   "cell_type": "code",
   "execution_count": 65,
   "metadata": {
    "colab": {},
    "colab_type": "code",
    "id": "C3yWN9qBcJXL"
   },
   "outputs": [],
   "source": [
    "def saturation(opened_file):\n",
    "  hsv = cv2.cvtColor(opened_file, cv2.COLOR_BGR2HSV)\n",
    "\n",
    "  # saturation is the s channel\n",
    "  s = hsv[:, :, 1]\n",
    "\n",
    "  return round(s.mean(), 2)"
   ]
  },
  {
   "cell_type": "code",
   "execution_count": 66,
   "metadata": {
    "colab": {},
    "colab_type": "code",
    "id": "wS_NYamQcOoe"
   },
   "outputs": [],
   "source": [
    "def contrast_of_brightness(opened_file):\n",
    "  gray = cv2.cvtColor(opened_file, cv2.COLOR_BGR2GRAY)/255.0\n",
    "\n",
    "  return round(gray.std(), 2)"
   ]
  },
  {
   "cell_type": "code",
   "execution_count": 67,
   "metadata": {
    "colab": {},
    "colab_type": "code",
    "id": "rsiEJ_dscRVj"
   },
   "outputs": [],
   "source": [
    "\n",
    "def image_clarity(opened_file):\n",
    "  gray = cv2.cvtColor(opened_file, cv2.COLOR_BGR2GRAY) / 255.0\n",
    "  bright = gray >= .7\n",
    "\n",
    "  return round(bright.sum() / bright.size, 2)"
   ]
  },
  {
   "cell_type": "code",
   "execution_count": 68,
   "metadata": {
    "colab": {},
    "colab_type": "code",
    "id": "UMUTR3XmdE-O"
   },
   "outputs": [],
   "source": [
    "def warm_hue(opened_file):\n",
    "  hsv = cv2.cvtColor(opened_file, cv2.COLOR_BGR2HSV)\n",
    "\n",
    "  # hue is the h channel\n",
    "  h = hsv[:, :, 0]\n",
    "  warm = ~ (h > 30) & (h < 210)\n",
    "\n",
    "  return round(warm.sum() / warm.size, 2)"
   ]
  },
  {
   "cell_type": "code",
   "execution_count": 69,
   "metadata": {
    "colab": {},
    "colab_type": "code",
    "id": "uwxtYtJ4bPg9"
   },
   "outputs": [],
   "source": [
    "def image_colorfulness(opened_file):\n",
    "  # split the image into its respective RGB components\n",
    "  (B, G, R) = cv2.split(opened_file.astype(\"float\"))\n",
    "\n",
    "  # compute rg = R - G\n",
    "  rg = np.absolute(R - G)\n",
    "\n",
    "  # compute yb = 0.5 * (R + G) - B\n",
    "  yb = np.absolute(0.5 * (R + G) - B)\n",
    "\n",
    "  # compute the mean and standard deviation of both `rg` and `yb`\n",
    "  (rbMean, rbStd) = (np.mean(rg), np.std(rg))\n",
    "  (ybMean, ybStd) = (np.mean(yb), np.std(yb))\n",
    "\n",
    "  # combine the mean and standard deviations\n",
    "  std_root = np.sqrt((rbStd ** 2) + (ybStd ** 2))\n",
    "  mean_root = np.sqrt((rbMean ** 2) + (ybMean ** 2))\n",
    "\n",
    "  # derive the \"colorfulness\" metric and return it\n",
    "  return round(std_root + (0.3 * mean_root))"
   ]
  },
  {
   "cell_type": "code",
   "execution_count": 76,
   "metadata": {
    "colab": {},
    "colab_type": "code",
    "id": "ntXgiMLpdKpz"
   },
   "outputs": [],
   "source": [
    "def horizontal_color_balance(opened_file):\n",
    "  mid = int(opened_file.shape[1] / 2)\n",
    "  left_half = np.array(opened_file[:, 0:mid, ], dtype='int')\n",
    "  right_half = np.flip(np.array(opened_file[:, mid:2 * mid, ],\n",
    "                                      dtype='int'), axis=1)\n",
    "  dif_square = np.square(left_half - right_half)\n",
    "  euclidean = np.sqrt(dif_square.sum(axis=2))\n",
    "\n",
    "  return round(-euclidean.mean(), 2)"
   ]
  },
  {
   "cell_type": "code",
   "execution_count": 77,
   "metadata": {
    "colab": {},
    "colab_type": "code",
    "id": "UmTGfB5VunRn"
   },
   "outputs": [],
   "source": [
    "def vertical_color_balance(opened_file):\n",
    "  mid = int(opened_file.shape[0] / 2)\n",
    "  upper_half = np.array(opened_file[0:mid,: , ], dtype='int')\n",
    "  lower_half = np.flip(np.array(opened_file[mid:2 * mid,: , ],\n",
    "                                      dtype='int'), axis=1)\n",
    "  dif_square = np.square(upper_half - lower_half)\n",
    "  euclidean = np.sqrt(dif_square.sum(axis=2))\n",
    "\n",
    "  return round(-euclidean.mean(), 2)"
   ]
  },
  {
   "cell_type": "markdown",
   "metadata": {},
   "source": [
    "# The main function"
   ]
  },
  {
   "cell_type": "code",
   "execution_count": 105,
   "metadata": {
    "colab": {},
    "colab_type": "code",
    "id": "OYAdkqqDDi8L"
   },
   "outputs": [],
   "source": [
    "def collect_features (filename):\n",
    "    image = cv2.imread(filename)\n",
    "    id = filename.split('\\\\')[-1].split('.')[0]\n",
    "    Brightness = brightness (image)\n",
    "    Saturation = saturation (image)\n",
    "    Contrast = contrast_of_brightness (image)\n",
    "    Clarity = image_clarity (image)\n",
    "    Warm_hue = warm_hue (image)\n",
    "    Colorfulness = image_colorfulness (image)\n",
    "    Vertical_color_balance =   vertical_color_balance(image)\n",
    "    Horizontal_color_balance = horizontal_color_balance(image)\n",
    "    (Size_difference,Color_difference, Texture_difference) = Difference(image)\n",
    "    [Depth_of_field_hue, Depth_of_field_saturation, Depth_of_field_saturation_value] = Depth_of_feild (image)\n",
    "    result  = {'Id':id,'Brightness':Brightness,'Saturation':Saturation,'Contrast':Contrast,\n",
    "               'Clarity':Clarity,'Warm Hue':Warm_hue, 'Colorfulness': Colorfulness, \n",
    "               'Vertical color balance':Vertical_color_balance,\n",
    "               'Horizontal color balance': Horizontal_color_balance,\n",
    "               'Size_difference':Size_difference,'Color difference':Color_difference,\n",
    "               'Texture difference':Texture_difference, 'Depth of field_hue':Depth_of_field_hue,\n",
    "               'Depth of field_saturation':Depth_of_field_saturation,\n",
    "               'Depth of field_saturation_value':Depth_of_field_saturation_value}\n",
    "    return result\n",
    "        "
   ]
  },
  {
   "cell_type": "markdown",
   "metadata": {},
   "source": [
    "# select the location of the images"
   ]
  },
  {
   "cell_type": "code",
   "execution_count": 106,
   "metadata": {
    "colab": {},
    "colab_type": "code",
    "id": "fWIM5qdFNE8e"
   },
   "outputs": [],
   "source": [
    "# make sure to put the right path. Here ()test images) is in the root of my google drive\n",
    "list_of_files = glob.glob('C:\\\\Users\\\\oalq0001\\\\Downloads\\\\saliency-detection\\\\images\\\\*.*')"
   ]
  },
  {
   "cell_type": "code",
   "execution_count": 139,
   "metadata": {
    "colab": {
     "base_uri": "https://localhost:8080/",
     "height": 68
    },
    "colab_type": "code",
    "executionInfo": {
     "elapsed": 2756,
     "status": "ok",
     "timestamp": 1551225029260,
     "user": {
      "displayName": "Osamah Al-Qershi",
      "photoUrl": "https://lh3.googleusercontent.com/-76y9VyiVeAs/AAAAAAAAAAI/AAAAAAAABg0/xV3L-OyibPs/s64/photo.jpg",
      "userId": "10571118118207693350"
     },
     "user_tz": -660
    },
    "id": "Tnb99c08NkIe",
    "outputId": "70121ee1-fcd2-4a5b-d499-06b19f12ef58"
   },
   "outputs": [
    {
     "name": "stdout",
     "output_type": "stream",
     "text": [
      "processing image no.: 0\n",
      "processing image no.: 1\n",
      "processing image no.: 2\n",
      "processing image no.: 3\n"
     ]
    }
   ],
   "source": [
    "# create an empty list\n",
    "features = []\n",
    "#loop over list_of_files\n",
    "for i,filename in enumerate (list_of_files):\n",
    "      \n",
    "    print('processing image no.:',i)\n",
    "    \n",
    "    # send the image nmae to collect_features function append theh results to list\n",
    "    collected = collect_features (filename)\n",
    "    features.append(collected)\n"
   ]
  },
  {
   "cell_type": "code",
   "execution_count": 152,
   "metadata": {
    "colab": {},
    "colab_type": "code",
    "id": "uRqN4uiZN0FD"
   },
   "outputs": [],
   "source": [
    "# save the results in a DataFrame\n",
    "data = pd.DataFrame(features)\n"
   ]
  },
  {
   "cell_type": "code",
   "execution_count": 153,
   "metadata": {
    "colab": {},
    "colab_type": "code",
    "id": "Ql6oZwJVN8ZV"
   },
   "outputs": [
    {
     "data": {
      "text/html": [
       "<div>\n",
       "<style scoped>\n",
       "    .dataframe tbody tr th:only-of-type {\n",
       "        vertical-align: middle;\n",
       "    }\n",
       "\n",
       "    .dataframe tbody tr th {\n",
       "        vertical-align: top;\n",
       "    }\n",
       "\n",
       "    .dataframe thead th {\n",
       "        text-align: right;\n",
       "    }\n",
       "</style>\n",
       "<table border=\"1\" class=\"dataframe\">\n",
       "  <thead>\n",
       "    <tr style=\"text-align: right;\">\n",
       "      <th></th>\n",
       "      <th>Brightness</th>\n",
       "      <th>Clarity</th>\n",
       "      <th>Color difference</th>\n",
       "      <th>Colorfulness</th>\n",
       "      <th>Contrast</th>\n",
       "      <th>Depth of field_hue</th>\n",
       "      <th>Depth of field_saturation</th>\n",
       "      <th>Depth of field_saturation_value</th>\n",
       "      <th>Horizontal color balance</th>\n",
       "      <th>Id</th>\n",
       "      <th>Saturation</th>\n",
       "      <th>Size_difference</th>\n",
       "      <th>Texture difference</th>\n",
       "      <th>Vertical color balance</th>\n",
       "      <th>Warm Hue</th>\n",
       "    </tr>\n",
       "  </thead>\n",
       "  <tbody>\n",
       "    <tr>\n",
       "      <th>0</th>\n",
       "      <td>0.36</td>\n",
       "      <td>0.09</td>\n",
       "      <td>39.131044</td>\n",
       "      <td>46.0</td>\n",
       "      <td>0.20</td>\n",
       "      <td>0.084738</td>\n",
       "      <td>0.297619</td>\n",
       "      <td>0.086226</td>\n",
       "      <td>-78.87</td>\n",
       "      <td>barcelona</td>\n",
       "      <td>109.31</td>\n",
       "      <td>-0.334400</td>\n",
       "      <td>0.149683</td>\n",
       "      <td>-124.41</td>\n",
       "      <td>0.16</td>\n",
       "    </tr>\n",
       "    <tr>\n",
       "      <th>1</th>\n",
       "      <td>0.30</td>\n",
       "      <td>0.01</td>\n",
       "      <td>56.417324</td>\n",
       "      <td>60.0</td>\n",
       "      <td>0.13</td>\n",
       "      <td>0.335165</td>\n",
       "      <td>1.105145</td>\n",
       "      <td>0.378788</td>\n",
       "      <td>-32.80</td>\n",
       "      <td>boat</td>\n",
       "      <td>214.23</td>\n",
       "      <td>-0.861304</td>\n",
       "      <td>0.341556</td>\n",
       "      <td>-87.34</td>\n",
       "      <td>0.00</td>\n",
       "    </tr>\n",
       "    <tr>\n",
       "      <th>2</th>\n",
       "      <td>0.54</td>\n",
       "      <td>0.02</td>\n",
       "      <td>38.956438</td>\n",
       "      <td>35.0</td>\n",
       "      <td>0.08</td>\n",
       "      <td>5.646341</td>\n",
       "      <td>0.615132</td>\n",
       "      <td>0.366126</td>\n",
       "      <td>-34.32</td>\n",
       "      <td>neymar</td>\n",
       "      <td>132.37</td>\n",
       "      <td>-0.938410</td>\n",
       "      <td>0.289957</td>\n",
       "      <td>-35.78</td>\n",
       "      <td>0.03</td>\n",
       "    </tr>\n",
       "    <tr>\n",
       "      <th>3</th>\n",
       "      <td>0.36</td>\n",
       "      <td>0.01</td>\n",
       "      <td>47.462881</td>\n",
       "      <td>35.0</td>\n",
       "      <td>0.11</td>\n",
       "      <td>0.094041</td>\n",
       "      <td>0.297535</td>\n",
       "      <td>0.272801</td>\n",
       "      <td>-49.89</td>\n",
       "      <td>players</td>\n",
       "      <td>105.25</td>\n",
       "      <td>-0.791172</td>\n",
       "      <td>0.349534</td>\n",
       "      <td>-55.26</td>\n",
       "      <td>0.35</td>\n",
       "    </tr>\n",
       "  </tbody>\n",
       "</table>\n",
       "</div>"
      ],
      "text/plain": [
       "   Brightness  Clarity  Color difference  Colorfulness  Contrast  \\\n",
       "0        0.36     0.09         39.131044          46.0      0.20   \n",
       "1        0.30     0.01         56.417324          60.0      0.13   \n",
       "2        0.54     0.02         38.956438          35.0      0.08   \n",
       "3        0.36     0.01         47.462881          35.0      0.11   \n",
       "\n",
       "   Depth of field_hue  Depth of field_saturation  \\\n",
       "0            0.084738                   0.297619   \n",
       "1            0.335165                   1.105145   \n",
       "2            5.646341                   0.615132   \n",
       "3            0.094041                   0.297535   \n",
       "\n",
       "   Depth of field_saturation_value  Horizontal color balance         Id  \\\n",
       "0                         0.086226                    -78.87  barcelona   \n",
       "1                         0.378788                    -32.80       boat   \n",
       "2                         0.366126                    -34.32     neymar   \n",
       "3                         0.272801                    -49.89    players   \n",
       "\n",
       "   Saturation  Size_difference  Texture difference  Vertical color balance  \\\n",
       "0      109.31        -0.334400            0.149683                 -124.41   \n",
       "1      214.23        -0.861304            0.341556                  -87.34   \n",
       "2      132.37        -0.938410            0.289957                  -35.78   \n",
       "3      105.25        -0.791172            0.349534                  -55.26   \n",
       "\n",
       "   Warm Hue  \n",
       "0      0.16  \n",
       "1      0.00  \n",
       "2      0.03  \n",
       "3      0.35  "
      ]
     },
     "execution_count": 153,
     "metadata": {},
     "output_type": "execute_result"
    }
   ],
   "source": [
    "data.head()"
   ]
  },
  {
   "cell_type": "markdown",
   "metadata": {
    "colab_type": "text",
    "id": "G08ndExqSSP2"
   },
   "source": [
    "## Normalize the data to become in the range (0-1)"
   ]
  },
  {
   "cell_type": "code",
   "execution_count": 154,
   "metadata": {
    "colab": {},
    "colab_type": "code",
    "id": "1zolCkOEoC-A"
   },
   "outputs": [
    {
     "data": {
      "text/html": [
       "<div>\n",
       "<style scoped>\n",
       "    .dataframe tbody tr th:only-of-type {\n",
       "        vertical-align: middle;\n",
       "    }\n",
       "\n",
       "    .dataframe tbody tr th {\n",
       "        vertical-align: top;\n",
       "    }\n",
       "\n",
       "    .dataframe thead th {\n",
       "        text-align: right;\n",
       "    }\n",
       "</style>\n",
       "<table border=\"1\" class=\"dataframe\">\n",
       "  <thead>\n",
       "    <tr style=\"text-align: right;\">\n",
       "      <th></th>\n",
       "      <th>Brightness</th>\n",
       "      <th>Clarity</th>\n",
       "      <th>Color difference</th>\n",
       "      <th>Colorfulness</th>\n",
       "      <th>Contrast</th>\n",
       "      <th>Depth of field_hue</th>\n",
       "      <th>Depth of field_saturation</th>\n",
       "      <th>Depth of field_saturation_value</th>\n",
       "      <th>Horizontal color balance</th>\n",
       "      <th>Saturation</th>\n",
       "      <th>Size_difference</th>\n",
       "      <th>Texture difference</th>\n",
       "      <th>Vertical color balance</th>\n",
       "      <th>Warm Hue</th>\n",
       "    </tr>\n",
       "    <tr>\n",
       "      <th>Id</th>\n",
       "      <th></th>\n",
       "      <th></th>\n",
       "      <th></th>\n",
       "      <th></th>\n",
       "      <th></th>\n",
       "      <th></th>\n",
       "      <th></th>\n",
       "      <th></th>\n",
       "      <th></th>\n",
       "      <th></th>\n",
       "      <th></th>\n",
       "      <th></th>\n",
       "      <th></th>\n",
       "      <th></th>\n",
       "    </tr>\n",
       "  </thead>\n",
       "  <tbody>\n",
       "    <tr>\n",
       "      <th>barcelona</th>\n",
       "      <td>0.25</td>\n",
       "      <td>1.000</td>\n",
       "      <td>0.010000</td>\n",
       "      <td>0.44</td>\n",
       "      <td>1.000000</td>\n",
       "      <td>0.000000</td>\n",
       "      <td>0.000104</td>\n",
       "      <td>0.000000</td>\n",
       "      <td>0.000000</td>\n",
       "      <td>0.037255</td>\n",
       "      <td>1.000000</td>\n",
       "      <td>0.000000</td>\n",
       "      <td>0.000000</td>\n",
       "      <td>0.457143</td>\n",
       "    </tr>\n",
       "    <tr>\n",
       "      <th>boat</th>\n",
       "      <td>0.00</td>\n",
       "      <td>0.000</td>\n",
       "      <td>1.000000</td>\n",
       "      <td>1.00</td>\n",
       "      <td>0.416667</td>\n",
       "      <td>0.045028</td>\n",
       "      <td>1.000000</td>\n",
       "      <td>1.000000</td>\n",
       "      <td>1.000000</td>\n",
       "      <td>1.000000</td>\n",
       "      <td>0.127656</td>\n",
       "      <td>0.960083</td>\n",
       "      <td>0.418256</td>\n",
       "      <td>0.000000</td>\n",
       "    </tr>\n",
       "    <tr>\n",
       "      <th>neymar</th>\n",
       "      <td>1.00</td>\n",
       "      <td>0.125</td>\n",
       "      <td>0.000000</td>\n",
       "      <td>0.00</td>\n",
       "      <td>0.000000</td>\n",
       "      <td>1.000000</td>\n",
       "      <td>0.393255</td>\n",
       "      <td>0.956720</td>\n",
       "      <td>0.967007</td>\n",
       "      <td>0.248853</td>\n",
       "      <td>0.000000</td>\n",
       "      <td>0.701892</td>\n",
       "      <td>1.000000</td>\n",
       "      <td>0.085714</td>\n",
       "    </tr>\n",
       "    <tr>\n",
       "      <th>players</th>\n",
       "      <td>0.25</td>\n",
       "      <td>0.000</td>\n",
       "      <td>0.487171</td>\n",
       "      <td>0.00</td>\n",
       "      <td>0.250000</td>\n",
       "      <td>0.001673</td>\n",
       "      <td>0.000000</td>\n",
       "      <td>0.637729</td>\n",
       "      <td>0.629043</td>\n",
       "      <td>0.000000</td>\n",
       "      <td>0.243766</td>\n",
       "      <td>1.000000</td>\n",
       "      <td>0.780210</td>\n",
       "      <td>1.000000</td>\n",
       "    </tr>\n",
       "  </tbody>\n",
       "</table>\n",
       "</div>"
      ],
      "text/plain": [
       "           Brightness  Clarity  Color difference  Colorfulness  Contrast  \\\n",
       "Id                                                                         \n",
       "barcelona        0.25    1.000          0.010000          0.44  1.000000   \n",
       "boat             0.00    0.000          1.000000          1.00  0.416667   \n",
       "neymar           1.00    0.125          0.000000          0.00  0.000000   \n",
       "players          0.25    0.000          0.487171          0.00  0.250000   \n",
       "\n",
       "           Depth of field_hue  Depth of field_saturation  \\\n",
       "Id                                                         \n",
       "barcelona            0.000000                   0.000104   \n",
       "boat                 0.045028                   1.000000   \n",
       "neymar               1.000000                   0.393255   \n",
       "players              0.001673                   0.000000   \n",
       "\n",
       "           Depth of field_saturation_value  Horizontal color balance  \\\n",
       "Id                                                                     \n",
       "barcelona                         0.000000                  0.000000   \n",
       "boat                              1.000000                  1.000000   \n",
       "neymar                            0.956720                  0.967007   \n",
       "players                           0.637729                  0.629043   \n",
       "\n",
       "           Saturation  Size_difference  Texture difference  \\\n",
       "Id                                                           \n",
       "barcelona    0.037255         1.000000            0.000000   \n",
       "boat         1.000000         0.127656            0.960083   \n",
       "neymar       0.248853         0.000000            0.701892   \n",
       "players      0.000000         0.243766            1.000000   \n",
       "\n",
       "           Vertical color balance  Warm Hue  \n",
       "Id                                           \n",
       "barcelona                0.000000  0.457143  \n",
       "boat                     0.418256  0.000000  \n",
       "neymar                   1.000000  0.085714  \n",
       "players                  0.780210  1.000000  "
      ]
     },
     "execution_count": 154,
     "metadata": {},
     "output_type": "execute_result"
    }
   ],
   "source": [
    "ids = data.pop('Id')\n",
    "normalized = (data-data.min())/(data.max()-data.min())\n",
    "normalized.index = ids\n",
    "normalized.head()"
   ]
  },
  {
   "cell_type": "markdown",
   "metadata": {},
   "source": [
    "# save the output"
   ]
  },
  {
   "cell_type": "code",
   "execution_count": 156,
   "metadata": {},
   "outputs": [],
   "source": [
    "normalized.to_csv('output.csv')"
   ]
  },
  {
   "cell_type": "code",
   "execution_count": null,
   "metadata": {},
   "outputs": [],
   "source": []
  }
 ],
 "metadata": {
  "colab": {
   "collapsed_sections": [],
   "name": "Copy of opencv_example (1).ipynb",
   "provenance": [
    {
     "file_id": "1tZ9UCLiFOeu90woNDyk6XYANxNY4lsHp",
     "timestamp": 1551924831686
    }
   ],
   "toc_visible": true
  },
  "kernelspec": {
   "display_name": "Python 3",
   "language": "python",
   "name": "python3"
  },
  "language_info": {
   "codemirror_mode": {
    "name": "ipython",
    "version": 3
   },
   "file_extension": ".py",
   "mimetype": "text/x-python",
   "name": "python",
   "nbconvert_exporter": "python",
   "pygments_lexer": "ipython3",
   "version": "3.7.6"
  }
 },
 "nbformat": 4,
 "nbformat_minor": 1
}
